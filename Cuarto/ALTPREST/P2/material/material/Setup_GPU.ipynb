{
  "nbformat": 4,
  "nbformat_minor": 0,
  "metadata": {
    "colab": {
      "provenance": [],
      "collapsed_sections": []
    },
    "kernelspec": {
      "name": "python3",
      "display_name": "Python 3"
    },
    "accelerator": "GPU"
  },
  "cells": [
    {
      "cell_type": "markdown",
      "metadata": {
        "id": "iiZ0mu0M4SQ4"
      },
      "source": [
        "## Check HW\n",
        "\n",
        "\n",
        "\n",
        "\n",
        "\n",
        "\n"
      ]
    },
    {
      "cell_type": "code",
      "metadata": {
        "id": "2HMKkmKLCh43",
        "colab": {
          "base_uri": "https://localhost:8080/"
        },
        "outputId": "b2294f88-40af-4d97-814c-68bad9804580"
      },
      "source": [
        "!lscpu"
      ],
      "execution_count": null,
      "outputs": [
        {
          "output_type": "stream",
          "name": "stdout",
          "text": [
            "Architecture:        x86_64\n",
            "CPU op-mode(s):      32-bit, 64-bit\n",
            "Byte Order:          Little Endian\n",
            "CPU(s):              2\n",
            "On-line CPU(s) list: 0,1\n",
            "Thread(s) per core:  2\n",
            "Core(s) per socket:  1\n",
            "Socket(s):           1\n",
            "NUMA node(s):        1\n",
            "Vendor ID:           GenuineIntel\n",
            "CPU family:          6\n",
            "Model:               79\n",
            "Model name:          Intel(R) Xeon(R) CPU @ 2.20GHz\n",
            "Stepping:            0\n",
            "CPU MHz:             2199.998\n",
            "BogoMIPS:            4399.99\n",
            "Hypervisor vendor:   KVM\n",
            "Virtualization type: full\n",
            "L1d cache:           32K\n",
            "L1i cache:           32K\n",
            "L2 cache:            256K\n",
            "L3 cache:            56320K\n",
            "NUMA node0 CPU(s):   0,1\n",
            "Flags:               fpu vme de pse tsc msr pae mce cx8 apic sep mtrr pge mca cmov pat pse36 clflush mmx fxsr sse sse2 ss ht syscall nx pdpe1gb rdtscp lm constant_tsc rep_good nopl xtopology nonstop_tsc cpuid tsc_known_freq pni pclmulqdq ssse3 fma cx16 pcid sse4_1 sse4_2 x2apic movbe popcnt aes xsave avx f16c rdrand hypervisor lahf_lm abm 3dnowprefetch invpcid_single ssbd ibrs ibpb stibp fsgsbase tsc_adjust bmi1 hle avx2 smep bmi2 erms invpcid rtm rdseed adx smap xsaveopt arat md_clear arch_capabilities\n"
          ]
        }
      ]
    },
    {
      "cell_type": "code",
      "metadata": {
        "id": "qUSRWP5ImfUx",
        "colab": {
          "base_uri": "https://localhost:8080/"
        },
        "outputId": "8f2c8761-d39a-410d-a0b3-266b872879de"
      },
      "source": [
        "!free -h"
      ],
      "execution_count": null,
      "outputs": [
        {
          "output_type": "stream",
          "name": "stdout",
          "text": [
            "              total        used        free      shared  buff/cache   available\n",
            "Mem:            12G        638M         10G        1.3M        1.9G         11G\n",
            "Swap:            0B          0B          0B\n"
          ]
        }
      ]
    },
    {
      "cell_type": "code",
      "metadata": {
        "id": "re6wntSW4GpU",
        "colab": {
          "base_uri": "https://localhost:8080/"
        },
        "outputId": "72ecf4c0-e01a-4add-e52f-f2228439280f"
      },
      "source": [
        "!nvcc --version"
      ],
      "execution_count": null,
      "outputs": [
        {
          "output_type": "stream",
          "name": "stdout",
          "text": [
            "nvcc: NVIDIA (R) Cuda compiler driver\n",
            "Copyright (c) 2005-2020 NVIDIA Corporation\n",
            "Built on Mon_Oct_12_20:09:46_PDT_2020\n",
            "Cuda compilation tools, release 11.1, V11.1.105\n",
            "Build cuda_11.1.TC455_06.29190527_0\n"
          ]
        }
      ]
    },
    {
      "cell_type": "code",
      "metadata": {
        "id": "UWGBe48l4KLA",
        "colab": {
          "base_uri": "https://localhost:8080/"
        },
        "outputId": "517c163c-546d-4ffb-be94-0942139e7a56"
      },
      "source": [
        "!nvidia-smi"
      ],
      "execution_count": null,
      "outputs": [
        {
          "output_type": "stream",
          "name": "stdout",
          "text": [
            "Fri Sep 23 08:08:13 2022       \n",
            "+-----------------------------------------------------------------------------+\n",
            "| NVIDIA-SMI 460.32.03    Driver Version: 460.32.03    CUDA Version: 11.2     |\n",
            "|-------------------------------+----------------------+----------------------+\n",
            "| GPU  Name        Persistence-M| Bus-Id        Disp.A | Volatile Uncorr. ECC |\n",
            "| Fan  Temp  Perf  Pwr:Usage/Cap|         Memory-Usage | GPU-Util  Compute M. |\n",
            "|                               |                      |               MIG M. |\n",
            "|===============================+======================+======================|\n",
            "|   0  Tesla T4            Off  | 00000000:00:04.0 Off |                    0 |\n",
            "| N/A   58C    P8    10W /  70W |      0MiB / 15109MiB |      0%      Default |\n",
            "|                               |                      |                  N/A |\n",
            "+-------------------------------+----------------------+----------------------+\n",
            "                                                                               \n",
            "+-----------------------------------------------------------------------------+\n",
            "| Processes:                                                                  |\n",
            "|  GPU   GI   CI        PID   Type   Process name                  GPU Memory |\n",
            "|        ID   ID                                                   Usage      |\n",
            "|=============================================================================|\n",
            "|  No running processes found                                                 |\n",
            "+-----------------------------------------------------------------------------+\n"
          ]
        }
      ]
    },
    {
      "cell_type": "markdown",
      "metadata": {
        "id": "A0Of7ZtZ4nmK"
      },
      "source": [
        "## Install the environment"
      ]
    },
    {
      "cell_type": "code",
      "metadata": {
        "id": "M1Bk2KZ04jwI"
      },
      "source": [
        "#!pip install git+git://github.com/andreinechaev/nvcc4jupyter.git"
      ],
      "execution_count": null,
      "outputs": []
    },
    {
      "cell_type": "code",
      "source": [
        "!rm -rf master.zip* nvcc4jupyter-master*\n",
        "!wget https://github.com/andreinechaev/nvcc4jupyter/archive/refs/heads/master.zip\n",
        "!unzip master.zip\n",
        "!cd nvcc4jupyter-master; ls; python setup.py install"
      ],
      "metadata": {
        "colab": {
          "base_uri": "https://localhost:8080/"
        },
        "id": "Za0efvd0a7xY",
        "outputId": "e31d5c9e-2452-49e3-bedd-e553ef417eb8"
      },
      "execution_count": null,
      "outputs": [
        {
          "output_type": "stream",
          "name": "stdout",
          "text": [
            "--2022-09-23 08:31:01--  https://github.com/andreinechaev/nvcc4jupyter/archive/refs/heads/master.zip\n",
            "Resolving github.com (github.com)... 20.205.243.166\n",
            "Connecting to github.com (github.com)|20.205.243.166|:443... connected.\n",
            "HTTP request sent, awaiting response... 302 Found\n",
            "Location: https://codeload.github.com/andreinechaev/nvcc4jupyter/zip/refs/heads/master [following]\n",
            "--2022-09-23 08:31:01--  https://codeload.github.com/andreinechaev/nvcc4jupyter/zip/refs/heads/master\n",
            "Resolving codeload.github.com (codeload.github.com)... 20.205.243.165\n",
            "Connecting to codeload.github.com (codeload.github.com)|20.205.243.165|:443... connected.\n",
            "HTTP request sent, awaiting response... 200 OK\n",
            "Length: 5201 (5.1K) [application/zip]\n",
            "Saving to: ‘master.zip’\n",
            "\n",
            "master.zip          100%[===================>]   5.08K  --.-KB/s    in 0s      \n",
            "\n",
            "2022-09-23 08:31:02 (58.3 MB/s) - ‘master.zip’ saved [5201/5201]\n",
            "\n",
            "Archive:  master.zip\n",
            "aac710a35f52bb78ab34d2e52517237941399eff\n",
            "   creating: nvcc4jupyter-master/\n",
            " extracting: nvcc4jupyter-master/.gitignore  \n",
            "  inflating: nvcc4jupyter-master/README.md  \n",
            "   creating: nvcc4jupyter-master/common/\n",
            " extracting: nvcc4jupyter-master/common/__init__.py  \n",
            "  inflating: nvcc4jupyter-master/common/helper.py  \n",
            "  inflating: nvcc4jupyter-master/nvcc_plugin.py  \n",
            "  inflating: nvcc4jupyter-master/setup.py  \n",
            "   creating: nvcc4jupyter-master/v1/\n",
            " extracting: nvcc4jupyter-master/v1/__init__.py  \n",
            "  inflating: nvcc4jupyter-master/v1/v1.py  \n",
            "   creating: nvcc4jupyter-master/v2/\n",
            " extracting: nvcc4jupyter-master/v2/__init__.py  \n",
            "  inflating: nvcc4jupyter-master/v2/v2.py  \n",
            "common\tnvcc_plugin.py\tREADME.md  setup.py  v1  v2\n",
            "running install\n",
            "running build\n",
            "running build_py\n",
            "creating build\n",
            "creating build/lib\n",
            "copying nvcc_plugin.py -> build/lib\n",
            "creating build/lib/v2\n",
            "copying v2/__init__.py -> build/lib/v2\n",
            "copying v2/v2.py -> build/lib/v2\n",
            "creating build/lib/v1\n",
            "copying v1/__init__.py -> build/lib/v1\n",
            "copying v1/v1.py -> build/lib/v1\n",
            "creating build/lib/common\n",
            "copying common/__init__.py -> build/lib/common\n",
            "copying common/helper.py -> build/lib/common\n",
            "running install_lib\n",
            "running install_egg_info\n",
            "Removing /usr/local/lib/python3.7/dist-packages/NVCCPlugin-0.0.2.egg-info\n",
            "Writing /usr/local/lib/python3.7/dist-packages/NVCCPlugin-0.0.2.egg-info\n"
          ]
        }
      ]
    },
    {
      "cell_type": "code",
      "metadata": {
        "id": "s95gtGhc4lnT",
        "colab": {
          "base_uri": "https://localhost:8080/"
        },
        "outputId": "81a0e581-d576-4805-c28d-36e75ac60fb7"
      },
      "source": [
        "%load_ext nvcc_plugin"
      ],
      "execution_count": null,
      "outputs": [
        {
          "output_type": "stream",
          "name": "stdout",
          "text": [
            "The nvcc_plugin extension is already loaded. To reload it, use:\n",
            "  %reload_ext nvcc_plugin\n"
          ]
        }
      ]
    },
    {
      "cell_type": "markdown",
      "metadata": {
        "id": "qzoggfoq4YiF"
      },
      "source": [
        "## Run a program (using Google overpowered GPUs)\n",
        "\n"
      ]
    },
    {
      "cell_type": "markdown",
      "metadata": {
        "id": "973FQM9D9Vsy"
      },
      "source": [
        "### Simple mode, everything on the same file\n",
        "\n",
        "This is the only part of the notebook that really uses the extension nvcc_plugin"
      ]
    },
    {
      "cell_type": "code",
      "metadata": {
        "id": "4_WYQ2UU4TiM",
        "colab": {
          "base_uri": "https://localhost:8080/"
        },
        "outputId": "fa816b16-350f-4aab-de54-e887e17e1152"
      },
      "source": [
        "%%cu\n",
        "\n",
        "#include <stdio.h>\n",
        "#include <cuda.h>\n",
        "#include <cuda_runtime.h>\n",
        "\n",
        "__global__ void mykernel(void) {\n",
        "\n",
        "}\n",
        "\n",
        "int main(void) {\n",
        "\t\tmykernel<<<1,1>>>();\n",
        "\t\tprintf(\"Hello world\\n\");\n",
        "\t\treturn 0;\n",
        "}"
      ],
      "execution_count": null,
      "outputs": [
        {
          "output_type": "stream",
          "name": "stdout",
          "text": [
            "Hello world\n",
            "\n"
          ]
        }
      ]
    },
    {
      "cell_type": "code",
      "source": [
        "%%cu\n",
        "#include <cuda.h>\n",
        "#include <cuda_runtime.h>\n",
        "#include <stdio.h>\n",
        "\n",
        "__global__ void add(int *a, int *b, int *c) {\n",
        "    *c = *a + *b;\n",
        "}\n",
        "\n",
        "int main(void) {\n",
        "    int a, b, c;\t\t\t\t    // host copies of a, b, c\n",
        "\t  int *d_a, *d_b, *d_c;\t\t// device copies of a, b, c\n",
        "\t  int size = sizeof(int);\n",
        "\n",
        "\t  // Allocate space for device copies of a, b, c\n",
        "\t  cudaMalloc((void **)&d_a, size);\n",
        "\t  cudaMalloc((void **)&d_b, size);\n",
        "\t  cudaMalloc((void **)&d_c, size);\n",
        "\n",
        "\t  // Setup input values\n",
        "\t  a = 2;\n",
        "\t  b = 7;\n",
        "\n",
        "\t  // Copy inputs to device\n",
        "\t  cudaMemcpy(d_a, &a, size, cudaMemcpyHostToDevice);\n",
        "\t  cudaMemcpy(d_b, &b, size, cudaMemcpyHostToDevice);\n",
        "\n",
        "\t  // Launch add() kernel on GPU\n",
        "\t  add<<<1,1>>>(d_a, d_b, d_c);\n",
        "\n",
        "\t  // Copy result back to host\n",
        "\t  cudaMemcpy(&c, d_c, size, cudaMemcpyDeviceToHost);\n",
        "\n",
        "\t  // Show result\n",
        "\t  printf(\"%d + %d = %d\", a, b, c);\n",
        "\n",
        "\t  // Cleanup\n",
        "\t  cudaFree(d_a); cudaFree(d_b); cudaFree(d_c);\n",
        "\t  return 0;\n",
        "}"
      ],
      "metadata": {
        "colab": {
          "base_uri": "https://localhost:8080/"
        },
        "id": "Xe4znE6Uczxx",
        "outputId": "c89445d1-f7a9-4339-945f-f583f99b2ccf"
      },
      "execution_count": null,
      "outputs": [
        {
          "output_type": "stream",
          "name": "stdout",
          "text": [
            "2 + 7 = 9\n"
          ]
        }
      ]
    },
    {
      "cell_type": "markdown",
      "metadata": {
        "id": "zyefPtPn8HHu"
      },
      "source": [
        "### Running code in multiple source files"
      ]
    },
    {
      "cell_type": "code",
      "metadata": {
        "id": "hRgaB8H_AGOk",
        "colab": {
          "base_uri": "https://localhost:8080/"
        },
        "outputId": "3d0327a1-d96b-4457-bb5d-755c462cb234"
      },
      "source": [
        "!mkdir cuda\n",
        "!rm -rf cuda/*"
      ],
      "execution_count": null,
      "outputs": [
        {
          "output_type": "stream",
          "name": "stdout",
          "text": [
            "mkdir: cannot create directory ‘cuda’: File exists\n"
          ]
        }
      ]
    },
    {
      "cell_type": "code",
      "metadata": {
        "id": "FH4ptSTL5R9l",
        "colab": {
          "base_uri": "https://localhost:8080/"
        },
        "outputId": "8d8c9a4e-0db1-4e5a-b47b-46f281591b70"
      },
      "source": [
        "%%writefile cuda/kernel.cu\n",
        "#include <cuda.h>\n",
        "\n",
        "__global__ void add(int *a, int *b, int *c) {\n",
        "    *c = *a + *b;\n",
        "}"
      ],
      "execution_count": null,
      "outputs": [
        {
          "output_type": "stream",
          "name": "stdout",
          "text": [
            "Writing cuda/kernel.cu\n"
          ]
        }
      ]
    },
    {
      "cell_type": "code",
      "metadata": {
        "id": "S0j_sS1_5csZ",
        "colab": {
          "base_uri": "https://localhost:8080/"
        },
        "outputId": "d64d480a-642e-4591-c28c-1773733e0135"
      },
      "source": [
        "%%writefile cuda/main.cu\n",
        "#include <cuda.h>\n",
        "#include <cuda_runtime.h>\n",
        "#include <stdio.h>\n",
        "\n",
        "__global__ void add(int *a, int *b, int *c);\n",
        "\n",
        "int main(void) {\n",
        "\tint a, b, c;\t\t\t\t    // host copies of a, b, c\n",
        "\tint *d_a, *d_b, *d_c;\t\t// device copies of a, b, c\n",
        "\tint size = sizeof(int);\n",
        "\n",
        "\t// Allocate space for device copies of a, b, c\n",
        "\tcudaMalloc((void **)&d_a, size);\n",
        "\tcudaMalloc((void **)&d_b, size);\n",
        "\tcudaMalloc((void **)&d_c, size);\n",
        "\n",
        "\t// Setup input values\n",
        "\ta = 2;\n",
        "\tb = 7;\n",
        "\n",
        "\t// Copy inputs to device\n",
        "\tcudaMemcpy(d_a, &a, size, cudaMemcpyHostToDevice);\n",
        "\tcudaMemcpy(d_b, &b, size, cudaMemcpyHostToDevice);\n",
        "\n",
        "\t// Launch add() kernel on GPU\n",
        "\tadd<<<1,1>>>(d_a, d_b, d_c);\n",
        "\n",
        "\t// Copy result back to host\n",
        "\tcudaMemcpy(&c, d_c, size, cudaMemcpyDeviceToHost);\n",
        "\n",
        "\t// Show result\n",
        "\tprintf(\"%d + %d = %d\", a, b, c);\n",
        "\n",
        "\t// Cleanup\n",
        "\tcudaFree(d_a); cudaFree(d_b); cudaFree(d_c);\n",
        "\treturn 0;\n",
        "}"
      ],
      "execution_count": null,
      "outputs": [
        {
          "output_type": "stream",
          "name": "stdout",
          "text": [
            "Writing cuda/main.cu\n"
          ]
        }
      ]
    },
    {
      "cell_type": "code",
      "metadata": {
        "id": "exRo6Lhg56ac",
        "colab": {
          "base_uri": "https://localhost:8080/"
        },
        "outputId": "0a273560-be82-4be5-a9e0-dea9dc12c4e0"
      },
      "source": [
        "!nvcc cuda/*.cu -o cuda/program\n",
        "!./cuda/program\n",
        "!rm -rf ./cuda/program"
      ],
      "execution_count": null,
      "outputs": [
        {
          "output_type": "stream",
          "name": "stdout",
          "text": [
            "2 + 7 = 9"
          ]
        }
      ]
    },
    {
      "cell_type": "markdown",
      "source": [
        "## Mount your Google Drive"
      ],
      "metadata": {
        "id": "hUc4p4zo0ewr"
      }
    },
    {
      "cell_type": "code",
      "source": [
        "# Mount Google Drive\n",
        "from google.colab import drive\n",
        "#drive.flush_and_unmount()\n",
        "drive.mount('/content/gdrive')"
      ],
      "metadata": {
        "id": "ifFprXxt0bWB"
      },
      "execution_count": null,
      "outputs": []
    },
    {
      "cell_type": "code",
      "source": [
        "# Copy source code to your folder\n",
        "!cp /content/gdrive/MyDrive/XXX/* cuda/\n",
        "# Create soft links\n",
        "!ln -s /content/gdrive/MyDrive/XXXX cuda/XXXX\n",
        "# List folder\n",
        "!ls -la cuda/"
      ],
      "metadata": {
        "id": "dCxWSfeb0m9k"
      },
      "execution_count": null,
      "outputs": []
    }
  ]
}