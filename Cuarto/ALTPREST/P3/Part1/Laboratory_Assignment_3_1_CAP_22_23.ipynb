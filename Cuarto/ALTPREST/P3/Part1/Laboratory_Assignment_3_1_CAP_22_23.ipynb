{
  "nbformat": 4,
  "nbformat_minor": 0,
  "metadata": {
    "colab": {
      "name": "Laboratory Assignment 3.1 - CAP 22/23 ",
      "provenance": [],
      "collapsed_sections": [],
      "toc_visible": true
    },
    "kernelspec": {
      "name": "python3",
      "display_name": "Python 3"
    }
  },
  "cells": [
    {
      "cell_type": "markdown",
      "metadata": {
        "id": "0eXfMdMVNbmV"
      },
      "source": [
        "<font size=10>Laboratory Assignment 3.1</font>\n",
        "\n",
        "# Introduction\n",
        "In this laboratory, we will cover the basic element of programming using a map-reduce methodology. For that purpose, we will be using Apache Spark as a reference, but bear in mind that similar frameworks exists and principles can be extrapolated.\n",
        "\n",
        "## Some concepts and facts\n",
        "\n",
        "- Spark is a distributed computing platform that operates on a cluster. Like MPI, we expect that nodes does NOT share a memory space but they are connected in high-speed dedicated network. Distributed filesystems that work over the network are extremely useful.\n",
        "\n",
        "- It is considered the next generation of previous map-reduce standard Apache Hadoop. Main difference is thought to be the use of the memory instead of disk for intermediate operations, but there are many more improvements.\n",
        "\n",
        "- It is built on Java. Despite this, it can be programmed using Java, Scala, Python or R. The complete API can only be found in JVM-based languages but the most frequent one is PySpark, since people is reluctant to use JVM-based languages in data science. Indeed, since Hadoop was only available for Java, it is likely that some Java codes of Spark are adaptations of previous Hadoop codes.\n",
        "\n",
        "- Resilient Distributed Dataset (RDD): the basic unit that is processed in Spark. Equivalent to a numpy array but distributed.\n",
        "\n",
        "- RDD API usually exposes the low-level operations of Apache Spark, useful for preprocessing data but useless for data analytics\n",
        "\n",
        "- For data analysis, Dataframe and Spark SQL is used. It relies on a pandas-alike API that even accepts SQL code (which may sound crazy and useless for developers, but many *old* data scientists and statisticians are really proficient in SQL but not in Python)."
      ]
    },
    {
      "cell_type": "markdown",
      "metadata": {
        "id": "aBiogoyFRftH"
      },
      "source": [
        "## How to install Spark in colab."
      ]
    },
    {
      "cell_type": "code",
      "metadata": {
        "id": "SoApfKfpRunp",
        "outputId": "0975084d-4fa5-4c11-f582-2d7b11f72ae7",
        "colab": {
          "base_uri": "https://localhost:8080/",
          "height": 240
        }
      },
      "source": [
        "!apt-get install openjdk-8-jdk-headless -qq > /dev/null # Install JVM v8\n",
        "!wget -q https://downloads.apache.org/spark/spark-2.4.5/spark-2.4.5-bin-hadoop2.7.tgz # Download latest release. Update if necessary\n",
        "!tar xf spark-2.4.5-bin-hadoop2.7.tgz # Unzip\n",
        "!pip install pyspark # Well, the library itself\n",
        "import os\n",
        "os.environ[\"JAVA_HOME\"] = \"/usr/lib/jvm/java-8-openjdk-amd64\"\n",
        "os.environ[\"SPARK_HOME\"] = \"/content/spark-2.4.5-bin-hadoop2.7\""
      ],
      "execution_count": null,
      "outputs": [
        {
          "output_type": "stream",
          "text": [
            "Collecting pyspark\n",
            "\u001b[?25l  Downloading https://files.pythonhosted.org/packages/9a/5a/271c416c1c2185b6cb0151b29a91fff6fcaed80173c8584ff6d20e46b465/pyspark-2.4.5.tar.gz (217.8MB)\n",
            "\u001b[K     |████████████████████████████████| 217.8MB 57kB/s \n",
            "\u001b[?25hCollecting py4j==0.10.7\n",
            "\u001b[?25l  Downloading https://files.pythonhosted.org/packages/e3/53/c737818eb9a7dc32a7cd4f1396e787bd94200c3997c72c1dbe028587bd76/py4j-0.10.7-py2.py3-none-any.whl (197kB)\n",
            "\u001b[K     |████████████████████████████████| 204kB 45.8MB/s \n",
            "\u001b[?25hBuilding wheels for collected packages: pyspark\n",
            "  Building wheel for pyspark (setup.py) ... \u001b[?25l\u001b[?25hdone\n",
            "  Created wheel for pyspark: filename=pyspark-2.4.5-py2.py3-none-any.whl size=218257927 sha256=bd4ee75b56ba950d6fc1f0c8ba58adb600060626bd9dc981a0978dde43895cc7\n",
            "  Stored in directory: /root/.cache/pip/wheels/bf/db/04/61d66a5939364e756eb1c1be4ec5bdce6e04047fc7929a3c3c\n",
            "Successfully built pyspark\n",
            "Installing collected packages: py4j, pyspark\n",
            "Successfully installed py4j-0.10.7 pyspark-2.4.5\n"
          ],
          "name": "stdout"
        }
      ]
    },
    {
      "cell_type": "markdown",
      "metadata": {
        "id": "b3XMG2DLSpo2"
      },
      "source": [
        "## How to initialize Spark"
      ]
    },
    {
      "cell_type": "code",
      "metadata": {
        "id": "Dd4hnqEeSvLi"
      },
      "source": [
        "from pyspark.sql import SparkSession\n",
        "\n",
        "APP_NAME = \"CAP-lab3\"\n",
        "SPARK_URL = \"local[*]\"\n",
        "spark = SparkSession.builder.appName(APP_NAME).master(SPARK_URL).getOrCreate()\n",
        "sc = spark.sparkContext"
      ],
      "execution_count": null,
      "outputs": []
    },
    {
      "cell_type": "markdown",
      "metadata": {
        "id": "_JxLItCJN4hp"
      },
      "source": [
        "# First Part: RDDs"
      ]
    },
    {
      "cell_type": "markdown",
      "metadata": {
        "id": "fBUjxukzUdYq"
      },
      "source": [
        "## Basic operations"
      ]
    },
    {
      "cell_type": "markdown",
      "metadata": {
        "id": "q3NQMrMcVG2s"
      },
      "source": [
        "### Parallelize & collect\n",
        "\n",
        "It creates a RDD out of a list or array. Second argument indicates the number of pieces of the RDD"
      ]
    },
    {
      "cell_type": "code",
      "metadata": {
        "id": "4o_KDO3tNYxs",
        "outputId": "25b1559f-db03-4093-9a01-532c29834cc7",
        "colab": {
          "base_uri": "https://localhost:8080/",
          "height": 34
        }
      },
      "source": [
        "array = sc.parallelize([1,2,3,4,5,6,7,8,9,10], 2)\n",
        "array"
      ],
      "execution_count": null,
      "outputs": [
        {
          "output_type": "execute_result",
          "data": {
            "text/plain": [
              "ParallelCollectionRDD[0] at parallelize at PythonRDD.scala:195"
            ]
          },
          "metadata": {
            "tags": []
          },
          "execution_count": 3
        }
      ]
    },
    {
      "cell_type": "code",
      "metadata": {
        "id": "kZmlZrsCVU5k",
        "outputId": "62f41532-0d73-4914-9d38-15732a46faa8",
        "colab": {
          "base_uri": "https://localhost:8080/",
          "height": 34
        }
      },
      "source": [
        "import numpy as np\n",
        "randomSamples = sc.parallelize(np.random.randn(100))\n",
        "randomSamples"
      ],
      "execution_count": null,
      "outputs": [
        {
          "output_type": "execute_result",
          "data": {
            "text/plain": [
              "ParallelCollectionRDD[1] at parallelize at PythonRDD.scala:195"
            ]
          },
          "metadata": {
            "tags": []
          },
          "execution_count": 4
        }
      ]
    },
    {
      "cell_type": "markdown",
      "metadata": {
        "id": "TsV27-W4VFPp"
      },
      "source": [
        "Cool, RDDs can not be printed...\n",
        "\n",
        "Of course, RDDs can not be printed unless they are reduced"
      ]
    },
    {
      "cell_type": "code",
      "metadata": {
        "id": "iuZ5GDGqVwrS",
        "outputId": "b881fdf0-540d-4f7c-eb7a-63cf68402015",
        "colab": {
          "base_uri": "https://localhost:8080/",
          "height": 71
        }
      },
      "source": [
        "print(array.collect())\n",
        "print(randomSamples.collect())"
      ],
      "execution_count": null,
      "outputs": [
        {
          "output_type": "stream",
          "text": [
            "[1, 2, 3, 4, 5, 6, 7, 8, 9, 10]\n",
            "[0.508835300781957, -0.014365386075613292, -0.16233021478808718, 1.9029699655604875, -0.7645301182193324, -0.9820061478411117, -0.6534140887506724, -2.2733816178350668, 1.7928671446016875, 0.6518232476300139, 0.361889416279051, 0.10665134675636401, -0.9982591113189845, -1.2167815641355855, -0.9883621339439271, 0.1734072934854251, -0.9639461145102314, 1.6759496351244938, 0.4884893215315238, 0.926088127202734, 1.0773387651511661, 1.181559044479806, -1.6573353458283662, 0.43941226191087523, -0.5716139310589456, -0.6435358907297053, -1.1541087519306168, 0.345867977522948, 0.6851145140304477, 1.3108797621145403, 1.0150932627469738, 1.707100492444522, 0.28392731324398823, 0.30299844048549823, 0.3007973916976573, -1.0625930895216253, 0.7121214055854956, -0.3785786515738173, 0.79756401129782, -3.209492091559187, -1.1353010920245834, 0.9402495315943259, 0.38874427360094654, -0.8061143161936812, 0.4113402989514722, -0.512886898697067, -0.6521764048367581, 1.0729970574002177, -0.3166974619987833, 0.6111346286994712, 2.287628647642934, 1.360366382528355, 0.700098028487074, -1.3532885598377284, -0.34370348957318364, -0.18171754280928368, -0.9249938638064567, -1.0148622721540688, 1.618961643138786, 1.4790256895470717, -0.2008102885040567, -1.6615161067239803, 1.302215834269035, 0.04158203071777502, 0.8750452703391784, -0.26026875814170325, -0.43666459426800885, -0.9961344346555882, -0.6660968580277915, -1.5817499608948735, -1.5790651093424584, 0.021242963169719433, -0.33884448109539655, -0.20940791420357618, -0.22685240572425647, -0.3481068042181271, -0.7216551392258492, -0.3522749403274536, 0.195273926183591, 0.1734835510003572, -0.6197022625725911, 0.39202951935463354, -0.8490378549297152, 0.15663215804282543, 1.602170156991141, 0.15068662622562726, -0.2503061047306229, 0.03478211407923847, -1.3117662215528232, -0.5714673576214432, -0.21394492555402078, -0.6675835545475844, -0.44207956586122793, -0.9269938394744489, 1.1032429735851161, -3.04741930528389, 0.12250036502221498, 0.29969830170159334, 1.5504936126091866, -0.9833719428481362]\n"
          ],
          "name": "stdout"
        }
      ]
    },
    {
      "cell_type": "markdown",
      "metadata": {
        "id": "r3GGkq4tWDkG"
      },
      "source": [
        "Spark uses lazy operations for everything, this means that nothing is evaluated until an action, a reduce operation normally, is performed. The basic reduce operation is collect, which returns the whole RDD (i.e. no reduction is performed)."
      ]
    },
    {
      "cell_type": "markdown",
      "metadata": {
        "id": "TMUvzirYWcZe"
      },
      "source": [
        "### Other ways of loading data"
      ]
    },
    {
      "cell_type": "code",
      "metadata": {
        "id": "V2vs0cubWb-D"
      },
      "source": [
        "import requests\n",
        "\n",
        "request = requests.get(\"https://gist.githubusercontent.com/jsdario/6d6c69398cb0c73111e49f1218960f79/raw/8d4fc4548d437e2a7203a5aeeace5477f598827d/el_quijote.txt\")\n",
        "with open(\"elquijote.txt\", \"wb\") as f:\n",
        "  f.write(request.content) "
      ],
      "execution_count": null,
      "outputs": []
    },
    {
      "cell_type": "code",
      "metadata": {
        "id": "I6wKwJHCYDLJ",
        "outputId": "03767efc-89af-4556-914d-8d10efdffba5",
        "colab": {
          "base_uri": "https://localhost:8080/",
          "height": 208
        }
      },
      "source": [
        "quijote = sc.textFile(\"elquijote.txt\")\n",
        "quijote.take(10)"
      ],
      "execution_count": null,
      "outputs": [
        {
          "output_type": "execute_result",
          "data": {
            "text/plain": [
              "['DON QUIJOTE DE LA MANCHA',\n",
              " 'Miguel de Cervantes Saavedra',\n",
              " '',\n",
              " 'PRIMERA PARTE',\n",
              " 'CAPÍTULO 1: Que trata de la condición y ejercicio del famoso hidalgo D. Quijote de la Mancha',\n",
              " 'En un lugar de la Mancha, de cuyo nombre no quiero acordarme, no ha mucho tiempo que vivía un hidalgo de los de lanza en astillero, adarga antigua, rocín flaco y galgo corredor. Una olla de algo más vaca que carnero, salpicón las más noches, duelos y quebrantos los sábados, lentejas los viernes, algún palomino de añadidura los domingos, consumían las tres partes de su hacienda. El resto della concluían sayo de velarte, calzas de velludo para las fiestas con sus pantuflos de lo mismo, los días de entre semana se honraba con su vellori de lo más fino. Tenía en su casa una ama que pasaba de los cuarenta, y una sobrina que no llegaba a los veinte, y un mozo de campo y plaza, que así ensillaba el rocín como tomaba la podadera. Frisaba la edad de nuestro hidalgo con los cincuenta años, era de complexión recia, seco de carnes, enjuto de rostro; gran madrugador y amigo de la caza. Quieren decir que tenía el sobrenombre de Quijada o Quesada (que en esto hay alguna diferencia en los autores que deste caso escriben), aunque por conjeturas verosímiles se deja entender que se llama Quijana; pero esto importa poco a nuestro cuento; basta que en la narración dél no se salga un punto de la verdad. Es, pues, de saber, que este sobredicho hidalgo, los ratos que estaba ocioso (que eran los más del año) se daba a leer libros de caballerías con tanta afición y gusto, que olvidó casi de todo punto el ejercicio de la caza, y aun la administración de su hacienda; y llegó a tanto su curiosidad y desatino en esto, que vendió muchas hanegas de tierra de sembradura, para comprar libros de caballerías en que leer; y así llevó a su casa todos cuantos pudo haber dellos; y de todos ningunos le parecían tan bien como los que compuso el famoso Feliciano de Silva: porque la claridad de su prosa, y aquellas intrincadas razones suyas, le parecían de perlas; y más cuando llegaba a leer aquellos requiebros y cartas de desafío, donde en muchas partes hallaba escrito: la razón de la sinrazón que a mi razón se hace, de tal manera mi razón enflaquece, que con razón me quejo de la vuestra fermosura, y también cuando leía: los altos cielos que de vuestra divinidad divinamente con las estrellas se fortifican, y os hacen merecedora del merecimiento que merece la vuestra grandeza. Con estas y semejantes razones perdía el pobre caballero el juicio, y desvelábase por entenderlas, y desentrañarles el sentido, que no se lo sacara, ni las entendiera el mismo Aristóteles, si resucitara para sólo ello. No estaba muy bien con las heridas que don Belianis daba y recibía, porque se imaginaba que por grandes maestros que le hubiesen curado, no dejaría de tener el rostro y todo el cuerpo lleno de cicatrices y señales; pero con todo alababa en su autor aquel acabar su libro con la promesa de aquella inacabable aventura, y muchas veces le vino deseo de tomar la pluma, y darle fin al pie de la letra como allí se promete; y sin duda alguna lo hiciera, y aun saliera con ello, si otros mayores y continuos pensamientos no se lo estorbaran.',\n",
              " 'Tuvo muchas veces competencia con el cura de su lugar (que era hombre docto graduado en Sigüenza), sobre cuál había sido mejor caballero, Palmerín de Inglaterra o Amadís de Gaula; mas maese Nicolás, barbero del mismo pueblo, decía que ninguno llegaba al caballero del Febo, y que si alguno se le podía comparar, era don Galaor, hermano de Amadís de Gaula, porque tenía muy acomodada condición para todo; que no era caballero melindroso, ni tan llorón como su hermano, y que en lo de la valentía no le iba en zaga.',\n",
              " 'En resolución, él se enfrascó tanto en su lectura, que se le pasaban las noches leyendo de claro en claro, y los días de turbio en turbio, y así, del poco dormir y del mucho leer, se le secó el cerebro, de manera que vino a perder el juicio. Llenósele la fantasía de todo aquello que leía en los libros, así de encantamientos, como de pendencias, batallas, desafíos, heridas, requiebros, amores, tormentas y disparates imposibles, y asentósele de tal modo en la imaginación que era verdad toda aquella máquina de aquellas soñadas invenciones que leía, que para él no había otra',\n",
              " 'historia más cierta en el mundo.',\n",
              " 'Decía él, que el Cid Ruy Díaz había sido muy buen caballero; pero que no tenía que ver con el caballero de la ardiente espada, que de sólo un revés había partido por medio dos fieros y descomunales gigantes. Mejor estaba con Bernardo del Carpio, porque en Roncesvalle había muerto a Roldán el encantado, valiéndose de la industria de Hércules, cuando ahogó a Anteo, el hijo de la Tierra, entre los brazos. Decía mucho bien del gigante Morgante, porque con ser de aquella generación gigantesca, que todos son soberbios y descomedidos, él solo era afable y bien criado; pero sobre todos estaba bien con Reinaldos de Montalbán, y más cuando le veía salir de su castillo y robar cuantos topaba, y cuando en Allende robó aquel ídolo de Mahoma, que era todo de oro, según dice su historia. Diera él, por dar una mano de coces al traidor de Galalón, al ama que tenía y aun a su sobrina de añadidura.']"
            ]
          },
          "metadata": {
            "tags": []
          },
          "execution_count": 7
        }
      ]
    },
    {
      "cell_type": "markdown",
      "metadata": {
        "id": "P0oUgv0kZ9po"
      },
      "source": [
        "Here, you can see both a method to load a text file line per line and a another reduction operation."
      ]
    },
    {
      "cell_type": "code",
      "metadata": {
        "id": "4Ln1n_RuZ9Cs"
      },
      "source": [
        "quijote.take?"
      ],
      "execution_count": null,
      "outputs": []
    },
    {
      "cell_type": "markdown",
      "metadata": {
        "id": "ki_3xikBabHZ"
      },
      "source": [
        "### Transformations\n",
        "\n",
        "Let's review all the transformation that can be performed to data."
      ]
    },
    {
      "cell_type": "code",
      "metadata": {
        "id": "e_7z-bvxaagO"
      },
      "source": [
        "charsPerLine = quijote.map(lambda s: len(s))\n",
        "allWords = quijote.flatMap(lambda s: s.split())\n",
        "allWordsNoArticles = allWords.filter(lambda a: a.lower() not in [\"el\", \"la\"])\n",
        "allWordsUnique = allWords.map(lambda s: s.lower()).distinct()\n",
        "sampleWords = allWords.sample(withReplacement=True, fraction=0.2, seed=666)\n",
        "weirdSampling = sampleWords.union(allWordsNoArticles.sample(False, fraction=0.3))"
      ],
      "execution_count": null,
      "outputs": []
    },
    {
      "cell_type": "code",
      "metadata": {
        "id": "Az6CA-EEa2JJ",
        "outputId": "592dc986-0c00-4634-b921-09ae47bd2043",
        "colab": {
          "base_uri": "https://localhost:8080/",
          "height": 188
        }
      },
      "source": [
        "allWordsUnique.take(10)"
      ],
      "execution_count": null,
      "outputs": [
        {
          "output_type": "execute_result",
          "data": {
            "text/plain": [
              "['don',\n",
              " 'mancha',\n",
              " 'saavedra',\n",
              " 'primera',\n",
              " 'parte',\n",
              " '1:',\n",
              " 'que',\n",
              " 'condición',\n",
              " 'y',\n",
              " 'del']"
            ]
          },
          "metadata": {
            "tags": []
          },
          "execution_count": 10
        }
      ]
    },
    {
      "cell_type": "markdown",
      "metadata": {
        "id": "S_LL-bOob1tD"
      },
      "source": [
        "--------\n",
        "\n",
        "\n",
        "<font size=10 color=red>Assignment question</font>\n",
        "\n",
        "Explain the use and purpose of each operation above.\n",
        "\n",
        "Comment also on the size of the resulting RDD in terms of the size of the original RDD, e.g. if original RDD is of size $N$, then rdd.filter() is of size $K\\leq N$\n",
        "\n",
        "--------\n",
        "Answer:\n",
        "- map\n",
        "- flatMap\n",
        "- filter\n",
        "- distinct\n",
        "- sample\n",
        "- union"
      ]
    },
    {
      "cell_type": "markdown",
      "metadata": {
        "id": "LTmIP7Qlso3Z"
      },
      "source": [
        "----"
      ]
    },
    {
      "cell_type": "markdown",
      "metadata": {
        "id": "X6EuF9ZRdspr"
      },
      "source": [
        " ### Actions\n",
        "\n",
        " "
      ]
    },
    {
      "cell_type": "code",
      "metadata": {
        "id": "W2t3ZuZIejgT",
        "outputId": "7c560ce0-26d2-43d2-e1c7-634b655f7f48",
        "colab": {
          "base_uri": "https://localhost:8080/",
          "height": 223
        }
      },
      "source": [
        "numLines = quijote.count()\n",
        "numChars = charsPerLine.reduce(lambda a,b: a+b) # also charsPerLine.sum()\n",
        "sortedWordsByLength = allWordsNoArticles.takeOrdered(10, key=lambda x: -len(x))\n",
        "numLines, numChars, sortedWordsByLength"
      ],
      "execution_count": null,
      "outputs": [
        {
          "output_type": "execute_result",
          "data": {
            "text/plain": [
              "(2186,\n",
              " 1036211,\n",
              " ['procuremos.Levántate,',\n",
              "  'extraordinariamente,',\n",
              "  'estrechísimamente,',\n",
              "  'convirtiéndoseles',\n",
              "  'entretenimientos,',\n",
              "  'inadvertidamente.',\n",
              "  'cortesísimamente',\n",
              "  'Agredeciéronselo',\n",
              "  'Pintiquiniestra,',\n",
              "  'entretenimiento,'])"
            ]
          },
          "metadata": {
            "tags": []
          },
          "execution_count": 11
        }
      ]
    },
    {
      "cell_type": "markdown",
      "metadata": {
        "id": "Soe91l95fZun"
      },
      "source": [
        "--------\n",
        "\n",
        "\n",
        "<font size=10 color=red>Assignment question</font>\n",
        "\n",
        "Explain the use and purpose of each action above.\n",
        "\n",
        "Implement the count operation using reduce as the unique option. You can use transformations. Is it possible to achieve a solution without any transformation? Does it make sense?\n",
        "\n",
        "--------\n",
        "Answer:\n"
      ]
    },
    {
      "cell_type": "markdown",
      "metadata": {
        "id": "1ovUlXfEstNx"
      },
      "source": [
        "----"
      ]
    },
    {
      "cell_type": "markdown",
      "metadata": {
        "id": "kwxVvKUXganb"
      },
      "source": [
        "## Key-Value RDDs"
      ]
    },
    {
      "cell_type": "code",
      "metadata": {
        "id": "9fu-B-6SgZXn"
      },
      "source": [
        "import re\n",
        "allWords = allWords.flatMap(lambda w: re.sub(\"\"\";|:|\\.|,|-|–|\"|'|\\s\"\"\",\" \", w.lower()).split(\" \")).filter(lambda a: len(a)>0)\n",
        "allWords2 = sc.parallelize(requests.get(\"https://gist.githubusercontent.com/jsdario/9d871ed773c81bf217f57d1db2d2503f/raw/585de69b0631c805dabc6280506717943b82ba4a/el_quijote_ii.txt\").iter_lines())\n",
        "allWords2 = allWords2.flatMap(lambda w: re.sub(\"\"\";|:|\\.|,|-|–|\"|'|\\s\"\"\",\" \", w.decode(\"utf8\").lower()).split(\" \")).filter(lambda a: len(a)>0)"
      ],
      "execution_count": null,
      "outputs": []
    },
    {
      "cell_type": "code",
      "metadata": {
        "id": "2VuMqwiShPOa",
        "outputId": "f98f0ad8-0498-4c32-cb5f-50ce30a2acb5",
        "colab": {
          "base_uri": "https://localhost:8080/",
          "height": 360
        }
      },
      "source": [
        "allWords.take(10), allWords2.take(10)"
      ],
      "execution_count": null,
      "outputs": [
        {
          "output_type": "execute_result",
          "data": {
            "text/plain": [
              "(['don',\n",
              "  'quijote',\n",
              "  'de',\n",
              "  'la',\n",
              "  'mancha',\n",
              "  'miguel',\n",
              "  'de',\n",
              "  'cervantes',\n",
              "  'saavedra',\n",
              "  'primera'],\n",
              " ['don',\n",
              "  'quijote',\n",
              "  'de',\n",
              "  'la',\n",
              "  'mancha',\n",
              "  'miguel',\n",
              "  'de',\n",
              "  'cervantes',\n",
              "  'saavedra',\n",
              "  'segunda'])"
            ]
          },
          "metadata": {
            "tags": []
          },
          "execution_count": 13
        }
      ]
    },
    {
      "cell_type": "markdown",
      "metadata": {
        "id": "gyJyoNU-iZNN"
      },
      "source": [
        "Next, we move to more interesting operations that involve key-value RDDs. Key-value RDDs are a special kind of RDDs where each is element is a tuple (K,V) where K is the key and V the value."
      ]
    },
    {
      "cell_type": "code",
      "metadata": {
        "id": "olvu_BD6iY8o",
        "outputId": "ced59e32-d6e2-4f23-ec32-9f6973cb8691",
        "colab": {
          "base_uri": "https://localhost:8080/",
          "height": 188
        }
      },
      "source": [
        "words = allWords.map(lambda e: (e,1))\n",
        "words2 = allWords2.map(lambda e: (e,1))\n",
        "\n",
        "words.take(10)"
      ],
      "execution_count": null,
      "outputs": [
        {
          "output_type": "execute_result",
          "data": {
            "text/plain": [
              "[('don', 1),\n",
              " ('quijote', 1),\n",
              " ('de', 1),\n",
              " ('la', 1),\n",
              " ('mancha', 1),\n",
              " ('miguel', 1),\n",
              " ('de', 1),\n",
              " ('cervantes', 1),\n",
              " ('saavedra', 1),\n",
              " ('primera', 1)]"
            ]
          },
          "metadata": {
            "tags": []
          },
          "execution_count": 14
        }
      ]
    },
    {
      "cell_type": "markdown",
      "metadata": {
        "id": "o_GHnGPWi6Cv"
      },
      "source": [
        "### How to manipulate K-V RDDs"
      ]
    },
    {
      "cell_type": "code",
      "metadata": {
        "id": "iRO_Znedi2df",
        "outputId": "a348fa0e-0a25-47e6-f34b-9a8c54da66b2",
        "colab": {
          "base_uri": "https://localhost:8080/",
          "height": 188
        }
      },
      "source": [
        "frequencies = words.reduceByKey(lambda a,b: a+b)\n",
        "frequencies2 = words2.reduceByKey(lambda a,b: a+b)\n",
        "frequencies.takeOrdered(10, key=lambda a: -a[1])"
      ],
      "execution_count": null,
      "outputs": [
        {
          "output_type": "execute_result",
          "data": {
            "text/plain": [
              "[('que', 10705),\n",
              " ('de', 9033),\n",
              " ('y', 8668),\n",
              " ('la', 5015),\n",
              " ('a', 4815),\n",
              " ('en', 4046),\n",
              " ('el', 3857),\n",
              " ('no', 3083),\n",
              " ('se', 2382),\n",
              " ('los', 2148)]"
            ]
          },
          "metadata": {
            "tags": []
          },
          "execution_count": 15
        }
      ]
    },
    {
      "cell_type": "code",
      "metadata": {
        "id": "lCD3gn5bjmrQ",
        "outputId": "4985f0d3-0c75-4eb3-a014-f05a965cfde7",
        "colab": {
          "base_uri": "https://localhost:8080/",
          "height": 188
        }
      },
      "source": [
        "res = words.groupByKey().takeOrdered(10, key=lambda a: -len(a))\n",
        "res # To see the content, res[i][1].data"
      ],
      "execution_count": null,
      "outputs": [
        {
          "output_type": "execute_result",
          "data": {
            "text/plain": [
              "[('don', <pyspark.resultiterable.ResultIterable at 0x7f66cad1b898>),\n",
              " ('mancha', <pyspark.resultiterable.ResultIterable at 0x7f66cad1b400>),\n",
              " ('saavedra', <pyspark.resultiterable.ResultIterable at 0x7f66cad1b438>),\n",
              " ('primera', <pyspark.resultiterable.ResultIterable at 0x7f66cad1b4a8>),\n",
              " ('parte', <pyspark.resultiterable.ResultIterable at 0x7f66cad1b278>),\n",
              " ('1', <pyspark.resultiterable.ResultIterable at 0x7f66cad1b550>),\n",
              " ('que', <pyspark.resultiterable.ResultIterable at 0x7f66cad1b1d0>),\n",
              " ('condición', <pyspark.resultiterable.ResultIterable at 0x7f66cad1b2b0>),\n",
              " ('y', <pyspark.resultiterable.ResultIterable at 0x7f66cad1b7b8>),\n",
              " ('del', <pyspark.resultiterable.ResultIterable at 0x7f66cad1ba20>)]"
            ]
          },
          "metadata": {
            "tags": []
          },
          "execution_count": 16
        }
      ]
    },
    {
      "cell_type": "code",
      "metadata": {
        "id": "SvdeBc5znBpT",
        "outputId": "0f52e5d8-8485-48ac-bb98-b814b3b21482",
        "colab": {
          "base_uri": "https://localhost:8080/",
          "height": 188
        }
      },
      "source": [
        "joinFreq = frequencies.join(frequencies2)\n",
        "joinFreq.take(10)"
      ],
      "execution_count": null,
      "outputs": [
        {
          "output_type": "execute_result",
          "data": {
            "text/plain": [
              "[('don', (1072, 1606)),\n",
              " ('mancha', (50, 101)),\n",
              " ('saavedra', (2, 1)),\n",
              " ('primera', (39, 55)),\n",
              " ('parte', (178, 158)),\n",
              " ('1', (1, 1)),\n",
              " ('que', (10705, 10040)),\n",
              " ('condición', (33, 39)),\n",
              " ('y', (8668, 9650)),\n",
              " ('del', (1128, 1344))]"
            ]
          },
          "metadata": {
            "tags": []
          },
          "execution_count": 17
        }
      ]
    },
    {
      "cell_type": "code",
      "metadata": {
        "id": "_JRtusCnnzgb",
        "outputId": "8025922e-7615-4d0c-ed5d-5376531a5079",
        "colab": {
          "base_uri": "https://localhost:8080/",
          "height": 360
        }
      },
      "source": [
        "joinFreq.map(lambda e: (e[0], (e[1][0] - e[1][1])/(e[1][0] + e[1][1]))).takeOrdered(10, lambda v: -v[1]), joinFreq.map(lambda e: (e[0], (e[1][0] - e[1][1])/(e[1][0] + e[1][1]))).takeOrdered(10, lambda v: +v[1])"
      ],
      "execution_count": null,
      "outputs": [
        {
          "output_type": "execute_result",
          "data": {
            "text/plain": [
              "([('bacía', 0.9393939393939394),\n",
              "  ('venia', 0.9230769230769231),\n",
              "  ('hermandad', 0.9),\n",
              "  ('andrés', 0.8823529411764706),\n",
              "  ('peña', 0.8823529411764706),\n",
              "  ('micomicona', 0.8823529411764706),\n",
              "  ('barca', 0.875),\n",
              "  ('novela', 0.875),\n",
              "  ('yerme', 0.875),\n",
              "  ('acertó', 0.8666666666666667)],\n",
              " [('teresa', -0.9767441860465116),\n",
              "  ('roque', -0.96),\n",
              "  ('refranes', -0.9375),\n",
              "  ('condesa', -0.9333333333333333),\n",
              "  ('leones', -0.9333333333333333),\n",
              "  ('gobernadores', -0.9166666666666666),\n",
              "  ('lacayo', -0.9166666666666666),\n",
              "  ('visorrey', -0.9130434782608695),\n",
              "  ('antonio', -0.9076923076923077),\n",
              "  ('zaragoza', -0.9047619047619048)])"
            ]
          },
          "metadata": {
            "tags": []
          },
          "execution_count": 18
        }
      ]
    },
    {
      "cell_type": "markdown",
      "metadata": {
        "id": "RURvE2E3kE_S"
      },
      "source": [
        "--------\n",
        "\n",
        "\n",
        "<font size=10 color=red>Assignment question</font>\n",
        "\n",
        "Explain the use and purpose of each action above.\n",
        "\n",
        "Implement the frequency with groupByKey and transformations.\n",
        "\n",
        "Which of the two following cells is more efficient?\n",
        "\n",
        "--------\n",
        "Answer:\n"
      ]
    },
    {
      "cell_type": "markdown",
      "metadata": {
        "id": "fsA_SOG9xVnS"
      },
      "source": [
        "------"
      ]
    },
    {
      "cell_type": "code",
      "metadata": {
        "id": "KUQKg6N1j3oP",
        "outputId": "37b86133-b356-425b-d0bd-ad3a0ea01d5a",
        "colab": {
          "base_uri": "https://localhost:8080/",
          "height": 360
        }
      },
      "source": [
        "joinFreq.map(lambda e: (e[0], (e[1][0] - e[1][1])/(e[1][0] + e[1][1]))).takeOrdered(10, lambda v: -v[1]), joinFreq.map(lambda e: (e[0], (e[1][0] - e[1][1])/(e[1][0] + e[1][1]))).takeOrdered(10, lambda v: +v[1])"
      ],
      "execution_count": null,
      "outputs": [
        {
          "output_type": "execute_result",
          "data": {
            "text/plain": [
              "([('bacía', 0.9393939393939394),\n",
              "  ('venia', 0.9230769230769231),\n",
              "  ('hermandad', 0.9),\n",
              "  ('andrés', 0.8823529411764706),\n",
              "  ('peña', 0.8823529411764706),\n",
              "  ('micomicona', 0.8823529411764706),\n",
              "  ('barca', 0.875),\n",
              "  ('novela', 0.875),\n",
              "  ('yerme', 0.875),\n",
              "  ('acertó', 0.8666666666666667)],\n",
              " [('teresa', -0.9767441860465116),\n",
              "  ('roque', -0.96),\n",
              "  ('refranes', -0.9375),\n",
              "  ('condesa', -0.9333333333333333),\n",
              "  ('leones', -0.9333333333333333),\n",
              "  ('gobernadores', -0.9166666666666666),\n",
              "  ('lacayo', -0.9166666666666666),\n",
              "  ('visorrey', -0.9130434782608695),\n",
              "  ('antonio', -0.9076923076923077),\n",
              "  ('zaragoza', -0.9047619047619048)])"
            ]
          },
          "metadata": {
            "tags": []
          },
          "execution_count": 19
        }
      ]
    },
    {
      "cell_type": "code",
      "metadata": {
        "id": "Z5nUgb1upWN_",
        "outputId": "1bb309d9-31c7-4b14-dce1-e34d0611d7a4",
        "colab": {
          "base_uri": "https://localhost:8080/",
          "height": 360
        }
      },
      "source": [
        "result = joinFreq.map(lambda e: (e[0], (e[1][0] - e[1][1])/(e[1][0] + e[1][1])))\n",
        "result.takeOrdered(10, lambda v: -v[1]), result.takeOrdered(10, lambda v: +v[1])"
      ],
      "execution_count": null,
      "outputs": [
        {
          "output_type": "execute_result",
          "data": {
            "text/plain": [
              "([('bacía', 0.9393939393939394),\n",
              "  ('venia', 0.9230769230769231),\n",
              "  ('hermandad', 0.9),\n",
              "  ('andrés', 0.8823529411764706),\n",
              "  ('peña', 0.8823529411764706),\n",
              "  ('micomicona', 0.8823529411764706),\n",
              "  ('barca', 0.875),\n",
              "  ('novela', 0.875),\n",
              "  ('yerme', 0.875),\n",
              "  ('acertó', 0.8666666666666667)],\n",
              " [('teresa', -0.9767441860465116),\n",
              "  ('roque', -0.96),\n",
              "  ('refranes', -0.9375),\n",
              "  ('condesa', -0.9333333333333333),\n",
              "  ('leones', -0.9333333333333333),\n",
              "  ('gobernadores', -0.9166666666666666),\n",
              "  ('lacayo', -0.9166666666666666),\n",
              "  ('visorrey', -0.9130434782608695),\n",
              "  ('antonio', -0.9076923076923077),\n",
              "  ('zaragoza', -0.9047619047619048)])"
            ]
          },
          "metadata": {
            "tags": []
          },
          "execution_count": 20
        }
      ]
    },
    {
      "cell_type": "markdown",
      "metadata": {
        "id": "tjSaV5TfpfB7"
      },
      "source": [
        "## Optimizations and final notes"
      ]
    },
    {
      "cell_type": "markdown",
      "metadata": {
        "id": "0RK3ZSpPprED"
      },
      "source": [
        "### Optimizing the data movement around the cluster\n",
        "\n",
        "One of the main issues could be that if data after an operation is not balanced, we may not be using the cluster properly. For that purpose, we have two operations\n"
      ]
    },
    {
      "cell_type": "code",
      "metadata": {
        "id": "L4Fdsd5_ppXn",
        "outputId": "55868827-78da-46b3-a179-ab46a1ae5262",
        "colab": {
          "base_uri": "https://localhost:8080/",
          "height": 34
        }
      },
      "source": [
        "result.coalesce(numPartitions=2) # Avoids the data movement, so it tries to balance inside each machine\n",
        "result.repartition(numPartitions=2) # We don't care about data movement, this balance the whole thing to ensure all machines are used"
      ],
      "execution_count": null,
      "outputs": [
        {
          "output_type": "execute_result",
          "data": {
            "text/plain": [
              "MapPartitionsRDD[50] at coalesce at NativeMethodAccessorImpl.java:0"
            ]
          },
          "metadata": {
            "tags": []
          },
          "execution_count": 21
        }
      ]
    },
    {
      "cell_type": "markdown",
      "metadata": {
        "id": "pEbSml87qdoj"
      },
      "source": [
        "### Persistance for intermediate operations\n",
        "In contrast to Hadoop, intermediate RDDs are not preserved, each time we use an action/reduction, the whole data pipeline is executed from the datasources. To avoid this:\n"
      ]
    },
    {
      "cell_type": "code",
      "metadata": {
        "id": "eMkUY2p9qwWQ",
        "outputId": "862d3d1d-a7f2-4e74-e326-5f06275a1677",
        "colab": {
          "base_uri": "https://localhost:8080/",
          "height": 188
        }
      },
      "source": [
        "result.take(10)\n",
        "allWords.cache() # allWords RDD must  stay in memory after computation, we made a checkpoint (well, it's a best effort, so must might be too strong)\n",
        "result.take(10)"
      ],
      "execution_count": null,
      "outputs": [
        {
          "output_type": "execute_result",
          "data": {
            "text/plain": [
              "[('don', -0.19940253920836445),\n",
              " ('mancha', -0.33774834437086093),\n",
              " ('saavedra', 0.3333333333333333),\n",
              " ('primera', -0.1702127659574468),\n",
              " ('parte', 0.05952380952380952),\n",
              " ('1', 0.0),\n",
              " ('que', 0.03205591708845505),\n",
              " ('condición', -0.08333333333333333),\n",
              " ('y', -0.05360847254067038),\n",
              " ('del', -0.08737864077669903)]"
            ]
          },
          "metadata": {
            "tags": []
          },
          "execution_count": 22
        }
      ]
    },
    {
      "cell_type": "code",
      "metadata": {
        "id": "4nF1CW9gqa_V",
        "outputId": "e15e6124-fbfd-4628-e815-b7b21bee2bb2",
        "colab": {
          "base_uri": "https://localhost:8080/",
          "height": 34
        }
      },
      "source": [
        "from pyspark import StorageLevel\n",
        "# https://spark.apache.org/docs/2.2.0/rdd-programming-guide.html#rdd-persistence\n",
        "allWords2.persist(StorageLevel.MEMORY_AND_DISK) # Now it will be preserved on disk also"
      ],
      "execution_count": null,
      "outputs": [
        {
          "output_type": "execute_result",
          "data": {
            "text/plain": [
              "PythonRDD[54] at RDD at PythonRDD.scala:53"
            ]
          },
          "metadata": {
            "tags": []
          },
          "execution_count": 23
        }
      ]
    },
    {
      "cell_type": "code",
      "metadata": {
        "id": "eVeLqkBPsIKb"
      },
      "source": [
        "!rm -rf palabras_parte2\n",
        "allWords2.saveAsTextFile(\"palabras_parte2\")"
      ],
      "execution_count": null,
      "outputs": []
    },
    {
      "cell_type": "code",
      "metadata": {
        "id": "SzUNSbOesMn1",
        "outputId": "3678b374-65ef-4b78-f926-e8b497b16c87",
        "colab": {
          "base_uri": "https://localhost:8080/",
          "height": 34
        }
      },
      "source": [
        "!ls palabras_parte2"
      ],
      "execution_count": null,
      "outputs": [
        {
          "output_type": "stream",
          "text": [
            "part-00000  part-00001\t_SUCCESS\n"
          ],
          "name": "stdout"
        }
      ]
    },
    {
      "cell_type": "markdown",
      "metadata": {
        "id": "gM2pc184sT3u"
      },
      "source": [
        "--------\n",
        "\n",
        "\n",
        "<font size=10 color=red>Assignment question</font>\n",
        "\n",
        "Before saving with saveAsTextFile, use coalesce with different values. What's the difference in the previous ls? \n",
        "\n",
        "--------\n",
        "Answer:"
      ]
    },
    {
      "cell_type": "markdown",
      "metadata": {
        "id": "iRf4Hc4KyG1n"
      },
      "source": [
        "----"
      ]
    },
    {
      "cell_type": "markdown",
      "metadata": {
        "id": "gBWm4rKRskyA"
      },
      "source": [
        "### Global variables\n",
        "\n",
        "There are two kind of global variables, read-only and write-only."
      ]
    },
    {
      "cell_type": "code",
      "metadata": {
        "id": "wJSe0N3VstFe",
        "outputId": "af4df357-39bd-4834-adb0-74f54f12cce1",
        "colab": {
          "base_uri": "https://localhost:8080/",
          "height": 34
        }
      },
      "source": [
        "articles = sc.broadcast([\"el\", \"la\"])\n",
        "articles.value"
      ],
      "execution_count": null,
      "outputs": [
        {
          "output_type": "execute_result",
          "data": {
            "text/plain": [
              "['el', 'la']"
            ]
          },
          "metadata": {
            "tags": []
          },
          "execution_count": 26
        }
      ]
    },
    {
      "cell_type": "markdown",
      "metadata": {
        "id": "p5ZDbRk2s3MP"
      },
      "source": [
        "Broadcast variables are read-only. They help us to avoid local variables of the closures (the functions we use inside map, reduce, ...) to be transferred in every single Spark operation. In that way, they are only transferred only once."
      ]
    },
    {
      "cell_type": "code",
      "metadata": {
        "id": "G2TVy19mtRge",
        "outputId": "68bd3dce-5cfa-4e2d-bd31-e493b003ea85",
        "colab": {
          "base_uri": "https://localhost:8080/",
          "height": 34
        }
      },
      "source": [
        "acc = sc.accumulator(0)\n",
        "def incrementar(x):\n",
        "  global acc\n",
        "  acc += x\n",
        "\n",
        "allWords.map(lambda l:1).foreach(incrementar)\n",
        "acc"
      ],
      "execution_count": null,
      "outputs": [
        {
          "output_type": "execute_result",
          "data": {
            "text/plain": [
              "Accumulator<id=0, value=187045>"
            ]
          },
          "metadata": {
            "tags": []
          },
          "execution_count": 27
        }
      ]
    },
    {
      "cell_type": "markdown",
      "metadata": {
        "id": "Ls4WrkUytl_k"
      },
      "source": [
        "Write-only variables can be also declared and initialized, but they can not be read since reading will force a complete synchronization of the cluster."
      ]
    },
    {
      "cell_type": "markdown",
      "metadata": {
        "id": "N0iNSLIItyNO"
      },
      "source": [
        "# Second part: Spark SQL\n",
        "\n",
        "Next, we will do a short review of the high-level API of Spark"
      ]
    },
    {
      "cell_type": "code",
      "metadata": {
        "id": "V_4ZpClHt7nP"
      },
      "source": [
        "import pandas as pd\n",
        "\n",
        "size = int(1e6)\n",
        "def loadRedditToPandas(subreddit=None, size=size):\n",
        "  if subreddit is not None:\n",
        "    redditData = requests.get(f\"https://api.pushshift.io/reddit/search/submission/?subreddit={subreddit}&sort=desc&sort_type=created_utc&size={size:d}\").json()\n",
        "  else:\n",
        "    redditData = requests.get(f\"https://api.pushshift.io/reddit/search/submission/?sort=desc&sort_type=created_utc&size={size:d}\").json()\n",
        "  return pd.DataFrame(redditData[\"data\"])"
      ],
      "execution_count": null,
      "outputs": []
    },
    {
      "cell_type": "code",
      "metadata": {
        "id": "RDi1mIhSubZl",
        "outputId": "65a0fdf2-5f14-4485-a45c-453fedc6fb6d",
        "colab": {
          "base_uri": "https://localhost:8080/",
          "height": 1000
        }
      },
      "source": [
        "pdf = loadRedditToPandas()\n",
        "pdf.head(10)"
      ],
      "execution_count": null,
      "outputs": [
        {
          "output_type": "execute_result",
          "data": {
            "text/html": [
              "<div>\n",
              "<style scoped>\n",
              "    .dataframe tbody tr th:only-of-type {\n",
              "        vertical-align: middle;\n",
              "    }\n",
              "\n",
              "    .dataframe tbody tr th {\n",
              "        vertical-align: top;\n",
              "    }\n",
              "\n",
              "    .dataframe thead th {\n",
              "        text-align: right;\n",
              "    }\n",
              "</style>\n",
              "<table border=\"1\" class=\"dataframe\">\n",
              "  <thead>\n",
              "    <tr style=\"text-align: right;\">\n",
              "      <th></th>\n",
              "      <th>all_awardings</th>\n",
              "      <th>allow_live_comments</th>\n",
              "      <th>author</th>\n",
              "      <th>author_flair_css_class</th>\n",
              "      <th>author_flair_richtext</th>\n",
              "      <th>author_flair_text</th>\n",
              "      <th>author_flair_type</th>\n",
              "      <th>author_fullname</th>\n",
              "      <th>author_patreon_flair</th>\n",
              "      <th>author_premium</th>\n",
              "      <th>awarders</th>\n",
              "      <th>can_mod_post</th>\n",
              "      <th>contest_mode</th>\n",
              "      <th>created_utc</th>\n",
              "      <th>crosspost_parent</th>\n",
              "      <th>crosspost_parent_list</th>\n",
              "      <th>domain</th>\n",
              "      <th>full_link</th>\n",
              "      <th>gildings</th>\n",
              "      <th>id</th>\n",
              "      <th>is_crosspostable</th>\n",
              "      <th>is_meta</th>\n",
              "      <th>is_original_content</th>\n",
              "      <th>is_reddit_media_domain</th>\n",
              "      <th>is_robot_indexable</th>\n",
              "      <th>is_self</th>\n",
              "      <th>is_video</th>\n",
              "      <th>link_flair_background_color</th>\n",
              "      <th>link_flair_richtext</th>\n",
              "      <th>link_flair_text_color</th>\n",
              "      <th>link_flair_type</th>\n",
              "      <th>locked</th>\n",
              "      <th>media</th>\n",
              "      <th>media_embed</th>\n",
              "      <th>media_only</th>\n",
              "      <th>no_follow</th>\n",
              "      <th>num_comments</th>\n",
              "      <th>num_crossposts</th>\n",
              "      <th>over_18</th>\n",
              "      <th>permalink</th>\n",
              "      <th>...</th>\n",
              "      <th>preview</th>\n",
              "      <th>retrieved_on</th>\n",
              "      <th>score</th>\n",
              "      <th>secure_media</th>\n",
              "      <th>secure_media_embed</th>\n",
              "      <th>selftext</th>\n",
              "      <th>send_replies</th>\n",
              "      <th>spoiler</th>\n",
              "      <th>stickied</th>\n",
              "      <th>subreddit</th>\n",
              "      <th>subreddit_id</th>\n",
              "      <th>subreddit_subscribers</th>\n",
              "      <th>subreddit_type</th>\n",
              "      <th>suggested_sort</th>\n",
              "      <th>thumbnail</th>\n",
              "      <th>thumbnail_height</th>\n",
              "      <th>thumbnail_width</th>\n",
              "      <th>title</th>\n",
              "      <th>total_awards_received</th>\n",
              "      <th>treatment_tags</th>\n",
              "      <th>upvote_ratio</th>\n",
              "      <th>url</th>\n",
              "      <th>parent_whitelist_status</th>\n",
              "      <th>pwls</th>\n",
              "      <th>whitelist_status</th>\n",
              "      <th>wls</th>\n",
              "      <th>link_flair_template_id</th>\n",
              "      <th>link_flair_text</th>\n",
              "      <th>link_flair_css_class</th>\n",
              "      <th>removed_by_category</th>\n",
              "      <th>author_flair_background_color</th>\n",
              "      <th>author_flair_template_id</th>\n",
              "      <th>author_flair_text_color</th>\n",
              "      <th>discussion_type</th>\n",
              "      <th>rpan_video</th>\n",
              "      <th>content_categories</th>\n",
              "      <th>author_cakeday</th>\n",
              "      <th>media_metadata</th>\n",
              "      <th>poll_data</th>\n",
              "      <th>banned_by</th>\n",
              "    </tr>\n",
              "  </thead>\n",
              "  <tbody>\n",
              "    <tr>\n",
              "      <th>0</th>\n",
              "      <td>[]</td>\n",
              "      <td>False</td>\n",
              "      <td>Acoal69</td>\n",
              "      <td>None</td>\n",
              "      <td>[]</td>\n",
              "      <td>None</td>\n",
              "      <td>text</td>\n",
              "      <td>t2_5i010vnd</td>\n",
              "      <td>False</td>\n",
              "      <td>False</td>\n",
              "      <td>[]</td>\n",
              "      <td>False</td>\n",
              "      <td>False</td>\n",
              "      <td>1588513721</td>\n",
              "      <td>t3_gcqgeo</td>\n",
              "      <td>[{'all_awardings': [], 'allow_live_comments': ...</td>\n",
              "      <td>gfycat.com</td>\n",
              "      <td>https://www.reddit.com/r/u_Acoal69/comments/gc...</td>\n",
              "      <td>{}</td>\n",
              "      <td>gcqv4j</td>\n",
              "      <td>True</td>\n",
              "      <td>False</td>\n",
              "      <td>False</td>\n",
              "      <td>False</td>\n",
              "      <td>True</td>\n",
              "      <td>False</td>\n",
              "      <td>False</td>\n",
              "      <td></td>\n",
              "      <td>[]</td>\n",
              "      <td>dark</td>\n",
              "      <td>text</td>\n",
              "      <td>False</td>\n",
              "      <td>{'oembed': {'author_name': 'Gfycat', 'descript...</td>\n",
              "      <td>{'content': '&amp;lt;iframe class=\"embedly-embed\" ...</td>\n",
              "      <td>False</td>\n",
              "      <td>True</td>\n",
              "      <td>0</td>\n",
              "      <td>0</td>\n",
              "      <td>True</td>\n",
              "      <td>/r/u_Acoal69/comments/gcqv4j/such_pleasure/</td>\n",
              "      <td>...</td>\n",
              "      <td>{'enabled': True, 'images': [{'id': 'p_9yZUq8J...</td>\n",
              "      <td>1588513840</td>\n",
              "      <td>1</td>\n",
              "      <td>{'oembed': {'author_name': 'Gfycat', 'descript...</td>\n",
              "      <td>{'content': '&amp;lt;iframe class=\"embedly-embed\" ...</td>\n",
              "      <td></td>\n",
              "      <td>True</td>\n",
              "      <td>False</td>\n",
              "      <td>False</td>\n",
              "      <td>u_Acoal69</td>\n",
              "      <td>t5_2dkbzk</td>\n",
              "      <td>0</td>\n",
              "      <td>user</td>\n",
              "      <td>qa</td>\n",
              "      <td>nsfw</td>\n",
              "      <td>78.0</td>\n",
              "      <td>140.0</td>\n",
              "      <td>such pleasure</td>\n",
              "      <td>0</td>\n",
              "      <td>[]</td>\n",
              "      <td>1.0</td>\n",
              "      <td>https://gfycat.com/willingbruiseddragon</td>\n",
              "      <td>NaN</td>\n",
              "      <td>NaN</td>\n",
              "      <td>NaN</td>\n",
              "      <td>NaN</td>\n",
              "      <td>NaN</td>\n",
              "      <td>NaN</td>\n",
              "      <td>NaN</td>\n",
              "      <td>NaN</td>\n",
              "      <td>NaN</td>\n",
              "      <td>NaN</td>\n",
              "      <td>NaN</td>\n",
              "      <td>NaN</td>\n",
              "      <td>NaN</td>\n",
              "      <td>NaN</td>\n",
              "      <td>NaN</td>\n",
              "      <td>NaN</td>\n",
              "      <td>NaN</td>\n",
              "      <td>NaN</td>\n",
              "    </tr>\n",
              "    <tr>\n",
              "      <th>1</th>\n",
              "      <td>[]</td>\n",
              "      <td>False</td>\n",
              "      <td>Hockey_Sweater</td>\n",
              "      <td>None</td>\n",
              "      <td>[]</td>\n",
              "      <td>None</td>\n",
              "      <td>text</td>\n",
              "      <td>t2_p322x</td>\n",
              "      <td>False</td>\n",
              "      <td>False</td>\n",
              "      <td>[]</td>\n",
              "      <td>False</td>\n",
              "      <td>False</td>\n",
              "      <td>1588513720</td>\n",
              "      <td>NaN</td>\n",
              "      <td>NaN</td>\n",
              "      <td>globalnews.ca</td>\n",
              "      <td>https://www.reddit.com/r/UnbiasedCanada/commen...</td>\n",
              "      <td>{}</td>\n",
              "      <td>gcqv4d</td>\n",
              "      <td>True</td>\n",
              "      <td>False</td>\n",
              "      <td>False</td>\n",
              "      <td>False</td>\n",
              "      <td>True</td>\n",
              "      <td>False</td>\n",
              "      <td>False</td>\n",
              "      <td></td>\n",
              "      <td>[]</td>\n",
              "      <td>dark</td>\n",
              "      <td>text</td>\n",
              "      <td>False</td>\n",
              "      <td>NaN</td>\n",
              "      <td>NaN</td>\n",
              "      <td>False</td>\n",
              "      <td>True</td>\n",
              "      <td>0</td>\n",
              "      <td>0</td>\n",
              "      <td>False</td>\n",
              "      <td>/r/UnbiasedCanada/comments/gcqv4d/some_sex_wor...</td>\n",
              "      <td>...</td>\n",
              "      <td>{'enabled': False, 'images': [{'id': 't6mup88_...</td>\n",
              "      <td>1588513840</td>\n",
              "      <td>1</td>\n",
              "      <td>NaN</td>\n",
              "      <td>NaN</td>\n",
              "      <td></td>\n",
              "      <td>True</td>\n",
              "      <td>False</td>\n",
              "      <td>False</td>\n",
              "      <td>UnbiasedCanada</td>\n",
              "      <td>t5_qik0e</td>\n",
              "      <td>1259</td>\n",
              "      <td>public</td>\n",
              "      <td>new</td>\n",
              "      <td>https://b.thumbs.redditmedia.com/Lx6qQtSw7ZY-O...</td>\n",
              "      <td>73.0</td>\n",
              "      <td>140.0</td>\n",
              "      <td>Some sex workers’ income has ‘completely disso...</td>\n",
              "      <td>0</td>\n",
              "      <td>[]</td>\n",
              "      <td>1.0</td>\n",
              "      <td>https://globalnews.ca/news/6883831/sex-workers...</td>\n",
              "      <td>NaN</td>\n",
              "      <td>NaN</td>\n",
              "      <td>NaN</td>\n",
              "      <td>NaN</td>\n",
              "      <td>NaN</td>\n",
              "      <td>NaN</td>\n",
              "      <td>NaN</td>\n",
              "      <td>NaN</td>\n",
              "      <td>NaN</td>\n",
              "      <td>NaN</td>\n",
              "      <td>NaN</td>\n",
              "      <td>NaN</td>\n",
              "      <td>NaN</td>\n",
              "      <td>NaN</td>\n",
              "      <td>NaN</td>\n",
              "      <td>NaN</td>\n",
              "      <td>NaN</td>\n",
              "      <td>NaN</td>\n",
              "    </tr>\n",
              "    <tr>\n",
              "      <th>2</th>\n",
              "      <td>[]</td>\n",
              "      <td>False</td>\n",
              "      <td>sps97grt</td>\n",
              "      <td>None</td>\n",
              "      <td>[]</td>\n",
              "      <td>None</td>\n",
              "      <td>text</td>\n",
              "      <td>t2_139u4a</td>\n",
              "      <td>False</td>\n",
              "      <td>False</td>\n",
              "      <td>[]</td>\n",
              "      <td>False</td>\n",
              "      <td>False</td>\n",
              "      <td>1588513719</td>\n",
              "      <td>NaN</td>\n",
              "      <td>NaN</td>\n",
              "      <td>i.redd.it</td>\n",
              "      <td>https://www.reddit.com/r/betterCallSaul/commen...</td>\n",
              "      <td>{}</td>\n",
              "      <td>gcqv4b</td>\n",
              "      <td>True</td>\n",
              "      <td>False</td>\n",
              "      <td>False</td>\n",
              "      <td>True</td>\n",
              "      <td>True</td>\n",
              "      <td>False</td>\n",
              "      <td>False</td>\n",
              "      <td></td>\n",
              "      <td>[]</td>\n",
              "      <td>dark</td>\n",
              "      <td>text</td>\n",
              "      <td>False</td>\n",
              "      <td>NaN</td>\n",
              "      <td>NaN</td>\n",
              "      <td>False</td>\n",
              "      <td>True</td>\n",
              "      <td>0</td>\n",
              "      <td>0</td>\n",
              "      <td>False</td>\n",
              "      <td>/r/betterCallSaul/comments/gcqv4b/so_i_started...</td>\n",
              "      <td>...</td>\n",
              "      <td>{'enabled': True, 'images': [{'id': 'WGdw84b2P...</td>\n",
              "      <td>1588513840</td>\n",
              "      <td>1</td>\n",
              "      <td>NaN</td>\n",
              "      <td>NaN</td>\n",
              "      <td></td>\n",
              "      <td>True</td>\n",
              "      <td>False</td>\n",
              "      <td>False</td>\n",
              "      <td>betterCallSaul</td>\n",
              "      <td>t5_2u05j</td>\n",
              "      <td>223246</td>\n",
              "      <td>public</td>\n",
              "      <td>NaN</td>\n",
              "      <td>image</td>\n",
              "      <td>78.0</td>\n",
              "      <td>140.0</td>\n",
              "      <td>So I started watching \"It's Always Sunny in Ph...</td>\n",
              "      <td>0</td>\n",
              "      <td>[]</td>\n",
              "      <td>1.0</td>\n",
              "      <td>https://i.redd.it/ludwwha91kw41.jpg</td>\n",
              "      <td>all_ads</td>\n",
              "      <td>6.0</td>\n",
              "      <td>all_ads</td>\n",
              "      <td>6.0</td>\n",
              "      <td>NaN</td>\n",
              "      <td>NaN</td>\n",
              "      <td>NaN</td>\n",
              "      <td>NaN</td>\n",
              "      <td>NaN</td>\n",
              "      <td>NaN</td>\n",
              "      <td>NaN</td>\n",
              "      <td>NaN</td>\n",
              "      <td>NaN</td>\n",
              "      <td>NaN</td>\n",
              "      <td>NaN</td>\n",
              "      <td>NaN</td>\n",
              "      <td>NaN</td>\n",
              "      <td>NaN</td>\n",
              "    </tr>\n",
              "    <tr>\n",
              "      <th>3</th>\n",
              "      <td>[]</td>\n",
              "      <td>False</td>\n",
              "      <td>thirdsurface</td>\n",
              "      <td>None</td>\n",
              "      <td>[]</td>\n",
              "      <td>None</td>\n",
              "      <td>text</td>\n",
              "      <td>t2_l4sxh</td>\n",
              "      <td>False</td>\n",
              "      <td>False</td>\n",
              "      <td>[]</td>\n",
              "      <td>False</td>\n",
              "      <td>False</td>\n",
              "      <td>1588513718</td>\n",
              "      <td>NaN</td>\n",
              "      <td>NaN</td>\n",
              "      <td>self.SouthJersey</td>\n",
              "      <td>https://www.reddit.com/r/SouthJersey/comments/...</td>\n",
              "      <td>{}</td>\n",
              "      <td>gcqv4a</td>\n",
              "      <td>True</td>\n",
              "      <td>False</td>\n",
              "      <td>False</td>\n",
              "      <td>False</td>\n",
              "      <td>True</td>\n",
              "      <td>True</td>\n",
              "      <td>False</td>\n",
              "      <td></td>\n",
              "      <td>[]</td>\n",
              "      <td>dark</td>\n",
              "      <td>text</td>\n",
              "      <td>False</td>\n",
              "      <td>NaN</td>\n",
              "      <td>NaN</td>\n",
              "      <td>False</td>\n",
              "      <td>True</td>\n",
              "      <td>0</td>\n",
              "      <td>0</td>\n",
              "      <td>False</td>\n",
              "      <td>/r/SouthJersey/comments/gcqv4a/any_organizatio...</td>\n",
              "      <td>...</td>\n",
              "      <td>NaN</td>\n",
              "      <td>1588513839</td>\n",
              "      <td>1</td>\n",
              "      <td>NaN</td>\n",
              "      <td>NaN</td>\n",
              "      <td></td>\n",
              "      <td>True</td>\n",
              "      <td>False</td>\n",
              "      <td>False</td>\n",
              "      <td>SouthJersey</td>\n",
              "      <td>t5_2s74w</td>\n",
              "      <td>10105</td>\n",
              "      <td>public</td>\n",
              "      <td>NaN</td>\n",
              "      <td>self</td>\n",
              "      <td>NaN</td>\n",
              "      <td>NaN</td>\n",
              "      <td>Any organizations in the area need hand saniti...</td>\n",
              "      <td>0</td>\n",
              "      <td>[]</td>\n",
              "      <td>1.0</td>\n",
              "      <td>https://www.reddit.com/r/SouthJersey/comments/...</td>\n",
              "      <td>NaN</td>\n",
              "      <td>NaN</td>\n",
              "      <td>NaN</td>\n",
              "      <td>NaN</td>\n",
              "      <td>NaN</td>\n",
              "      <td>NaN</td>\n",
              "      <td>NaN</td>\n",
              "      <td>NaN</td>\n",
              "      <td>NaN</td>\n",
              "      <td>NaN</td>\n",
              "      <td>NaN</td>\n",
              "      <td>NaN</td>\n",
              "      <td>NaN</td>\n",
              "      <td>NaN</td>\n",
              "      <td>NaN</td>\n",
              "      <td>NaN</td>\n",
              "      <td>NaN</td>\n",
              "      <td>NaN</td>\n",
              "    </tr>\n",
              "    <tr>\n",
              "      <th>4</th>\n",
              "      <td>[]</td>\n",
              "      <td>False</td>\n",
              "      <td>uixnetwork</td>\n",
              "      <td>None</td>\n",
              "      <td>[]</td>\n",
              "      <td>None</td>\n",
              "      <td>text</td>\n",
              "      <td>t2_4l7uqxi4</td>\n",
              "      <td>False</td>\n",
              "      <td>False</td>\n",
              "      <td>[]</td>\n",
              "      <td>False</td>\n",
              "      <td>False</td>\n",
              "      <td>1588513718</td>\n",
              "      <td>NaN</td>\n",
              "      <td>NaN</td>\n",
              "      <td>team.userinterface.us</td>\n",
              "      <td>https://www.reddit.com/r/u_uixnetwork/comments...</td>\n",
              "      <td>{}</td>\n",
              "      <td>gcqv49</td>\n",
              "      <td>True</td>\n",
              "      <td>False</td>\n",
              "      <td>False</td>\n",
              "      <td>False</td>\n",
              "      <td>True</td>\n",
              "      <td>False</td>\n",
              "      <td>False</td>\n",
              "      <td></td>\n",
              "      <td>[]</td>\n",
              "      <td>dark</td>\n",
              "      <td>text</td>\n",
              "      <td>False</td>\n",
              "      <td>NaN</td>\n",
              "      <td>NaN</td>\n",
              "      <td>False</td>\n",
              "      <td>True</td>\n",
              "      <td>0</td>\n",
              "      <td>0</td>\n",
              "      <td>False</td>\n",
              "      <td>/r/u_uixnetwork/comments/gcqv49/skip_bayless_q...</td>\n",
              "      <td>...</td>\n",
              "      <td>{'enabled': False, 'images': [{'id': 'Fb39kZaj...</td>\n",
              "      <td>1588513839</td>\n",
              "      <td>1</td>\n",
              "      <td>NaN</td>\n",
              "      <td>NaN</td>\n",
              "      <td></td>\n",
              "      <td>True</td>\n",
              "      <td>False</td>\n",
              "      <td>False</td>\n",
              "      <td>u_uixnetwork</td>\n",
              "      <td>t5_24uy9v</td>\n",
              "      <td>0</td>\n",
              "      <td>user</td>\n",
              "      <td>qa</td>\n",
              "      <td>https://a.thumbs.redditmedia.com/ig7JdUNRUo12Z...</td>\n",
              "      <td>78.0</td>\n",
              "      <td>140.0</td>\n",
              "      <td>Skip Bayless Q&amp;amp;amp;A on \"The Last Dance,\" ...</td>\n",
              "      <td>0</td>\n",
              "      <td>[]</td>\n",
              "      <td>1.0</td>\n",
              "      <td>https://team.userinterface.us/skip-bayless-qa-...</td>\n",
              "      <td>NaN</td>\n",
              "      <td>NaN</td>\n",
              "      <td>NaN</td>\n",
              "      <td>NaN</td>\n",
              "      <td>NaN</td>\n",
              "      <td>NaN</td>\n",
              "      <td>NaN</td>\n",
              "      <td>NaN</td>\n",
              "      <td>NaN</td>\n",
              "      <td>NaN</td>\n",
              "      <td>NaN</td>\n",
              "      <td>NaN</td>\n",
              "      <td>NaN</td>\n",
              "      <td>NaN</td>\n",
              "      <td>NaN</td>\n",
              "      <td>NaN</td>\n",
              "      <td>NaN</td>\n",
              "      <td>NaN</td>\n",
              "    </tr>\n",
              "    <tr>\n",
              "      <th>5</th>\n",
              "      <td>[]</td>\n",
              "      <td>False</td>\n",
              "      <td>jonathanivoridge</td>\n",
              "      <td>None</td>\n",
              "      <td>[]</td>\n",
              "      <td>None</td>\n",
              "      <td>text</td>\n",
              "      <td>t2_5hsgn1gl</td>\n",
              "      <td>False</td>\n",
              "      <td>False</td>\n",
              "      <td>[]</td>\n",
              "      <td>False</td>\n",
              "      <td>False</td>\n",
              "      <td>1588513718</td>\n",
              "      <td>NaN</td>\n",
              "      <td>NaN</td>\n",
              "      <td>i.imgur.com</td>\n",
              "      <td>https://www.reddit.com/r/coaxedintoasnafu/comm...</td>\n",
              "      <td>{}</td>\n",
              "      <td>gcqv48</td>\n",
              "      <td>True</td>\n",
              "      <td>False</td>\n",
              "      <td>False</td>\n",
              "      <td>False</td>\n",
              "      <td>True</td>\n",
              "      <td>False</td>\n",
              "      <td>False</td>\n",
              "      <td></td>\n",
              "      <td>[]</td>\n",
              "      <td>dark</td>\n",
              "      <td>text</td>\n",
              "      <td>False</td>\n",
              "      <td>NaN</td>\n",
              "      <td>NaN</td>\n",
              "      <td>False</td>\n",
              "      <td>True</td>\n",
              "      <td>0</td>\n",
              "      <td>0</td>\n",
              "      <td>False</td>\n",
              "      <td>/r/coaxedintoasnafu/comments/gcqv48/rpics/</td>\n",
              "      <td>...</td>\n",
              "      <td>{'enabled': True, 'images': [{'id': 'mzfNbKOdb...</td>\n",
              "      <td>1588513839</td>\n",
              "      <td>1</td>\n",
              "      <td>NaN</td>\n",
              "      <td>NaN</td>\n",
              "      <td></td>\n",
              "      <td>True</td>\n",
              "      <td>False</td>\n",
              "      <td>False</td>\n",
              "      <td>coaxedintoasnafu</td>\n",
              "      <td>t5_2w7ch</td>\n",
              "      <td>248157</td>\n",
              "      <td>public</td>\n",
              "      <td>NaN</td>\n",
              "      <td>https://b.thumbs.redditmedia.com/bvySukg8JHy8q...</td>\n",
              "      <td>117.0</td>\n",
              "      <td>140.0</td>\n",
              "      <td>r/pics</td>\n",
              "      <td>0</td>\n",
              "      <td>[]</td>\n",
              "      <td>1.0</td>\n",
              "      <td>https://i.imgur.com/ngki9rY.jpg</td>\n",
              "      <td>all_ads</td>\n",
              "      <td>6.0</td>\n",
              "      <td>all_ads</td>\n",
              "      <td>6.0</td>\n",
              "      <td>b9578106-7052-11e4-ba47-12313d1648d4</td>\n",
              "      <td>r/pics</td>\n",
              "      <td>NaN</td>\n",
              "      <td>NaN</td>\n",
              "      <td>NaN</td>\n",
              "      <td>NaN</td>\n",
              "      <td>NaN</td>\n",
              "      <td>NaN</td>\n",
              "      <td>NaN</td>\n",
              "      <td>NaN</td>\n",
              "      <td>NaN</td>\n",
              "      <td>NaN</td>\n",
              "      <td>NaN</td>\n",
              "      <td>NaN</td>\n",
              "    </tr>\n",
              "    <tr>\n",
              "      <th>6</th>\n",
              "      <td>[]</td>\n",
              "      <td>False</td>\n",
              "      <td>Darketties</td>\n",
              "      <td>None</td>\n",
              "      <td>[]</td>\n",
              "      <td>None</td>\n",
              "      <td>text</td>\n",
              "      <td>t2_5xea20j3</td>\n",
              "      <td>False</td>\n",
              "      <td>False</td>\n",
              "      <td>[]</td>\n",
              "      <td>False</td>\n",
              "      <td>False</td>\n",
              "      <td>1588513717</td>\n",
              "      <td>NaN</td>\n",
              "      <td>NaN</td>\n",
              "      <td>self.HeistTeams</td>\n",
              "      <td>https://www.reddit.com/r/HeistTeams/comments/g...</td>\n",
              "      <td>{}</td>\n",
              "      <td>gcqv47</td>\n",
              "      <td>True</td>\n",
              "      <td>False</td>\n",
              "      <td>False</td>\n",
              "      <td>False</td>\n",
              "      <td>True</td>\n",
              "      <td>True</td>\n",
              "      <td>False</td>\n",
              "      <td>#0079d3</td>\n",
              "      <td>[]</td>\n",
              "      <td>dark</td>\n",
              "      <td>text</td>\n",
              "      <td>False</td>\n",
              "      <td>NaN</td>\n",
              "      <td>NaN</td>\n",
              "      <td>False</td>\n",
              "      <td>True</td>\n",
              "      <td>0</td>\n",
              "      <td>0</td>\n",
              "      <td>False</td>\n",
              "      <td>/r/HeistTeams/comments/gcqv47/casino_heist_bog...</td>\n",
              "      <td>...</td>\n",
              "      <td>NaN</td>\n",
              "      <td>1588513839</td>\n",
              "      <td>1</td>\n",
              "      <td>NaN</td>\n",
              "      <td>NaN</td>\n",
              "      <td>Need someone to do b2b with ASAP. Psn arsenall...</td>\n",
              "      <td>True</td>\n",
              "      <td>False</td>\n",
              "      <td>False</td>\n",
              "      <td>HeistTeams</td>\n",
              "      <td>t5_37bm9</td>\n",
              "      <td>65946</td>\n",
              "      <td>public</td>\n",
              "      <td>new</td>\n",
              "      <td>self</td>\n",
              "      <td>NaN</td>\n",
              "      <td>NaN</td>\n",
              "      <td>Casino Heist / Bogdan B2B</td>\n",
              "      <td>0</td>\n",
              "      <td>[]</td>\n",
              "      <td>1.0</td>\n",
              "      <td>https://www.reddit.com/r/HeistTeams/comments/g...</td>\n",
              "      <td>all_ads</td>\n",
              "      <td>6.0</td>\n",
              "      <td>all_ads</td>\n",
              "      <td>6.0</td>\n",
              "      <td>8adfad10-c5c7-11e4-9797-22000b340108</td>\n",
              "      <td>PlayStation</td>\n",
              "      <td>ps4f</td>\n",
              "      <td>NaN</td>\n",
              "      <td>NaN</td>\n",
              "      <td>NaN</td>\n",
              "      <td>NaN</td>\n",
              "      <td>NaN</td>\n",
              "      <td>NaN</td>\n",
              "      <td>NaN</td>\n",
              "      <td>NaN</td>\n",
              "      <td>NaN</td>\n",
              "      <td>NaN</td>\n",
              "      <td>NaN</td>\n",
              "    </tr>\n",
              "    <tr>\n",
              "      <th>7</th>\n",
              "      <td>[]</td>\n",
              "      <td>False</td>\n",
              "      <td>mysterious_mosaic</td>\n",
              "      <td>None</td>\n",
              "      <td>[]</td>\n",
              "      <td>None</td>\n",
              "      <td>text</td>\n",
              "      <td>t2_5dxoghg2</td>\n",
              "      <td>False</td>\n",
              "      <td>False</td>\n",
              "      <td>[]</td>\n",
              "      <td>False</td>\n",
              "      <td>False</td>\n",
              "      <td>1588513717</td>\n",
              "      <td>NaN</td>\n",
              "      <td>NaN</td>\n",
              "      <td>self.AskReddit</td>\n",
              "      <td>https://www.reddit.com/r/AskReddit/comments/gc...</td>\n",
              "      <td>{}</td>\n",
              "      <td>gcqv46</td>\n",
              "      <td>True</td>\n",
              "      <td>False</td>\n",
              "      <td>False</td>\n",
              "      <td>False</td>\n",
              "      <td>True</td>\n",
              "      <td>True</td>\n",
              "      <td>False</td>\n",
              "      <td></td>\n",
              "      <td>[]</td>\n",
              "      <td>dark</td>\n",
              "      <td>text</td>\n",
              "      <td>False</td>\n",
              "      <td>NaN</td>\n",
              "      <td>NaN</td>\n",
              "      <td>False</td>\n",
              "      <td>True</td>\n",
              "      <td>1</td>\n",
              "      <td>0</td>\n",
              "      <td>False</td>\n",
              "      <td>/r/AskReddit/comments/gcqv46/people_of_reddit_...</td>\n",
              "      <td>...</td>\n",
              "      <td>NaN</td>\n",
              "      <td>1588513839</td>\n",
              "      <td>2</td>\n",
              "      <td>NaN</td>\n",
              "      <td>NaN</td>\n",
              "      <td></td>\n",
              "      <td>True</td>\n",
              "      <td>False</td>\n",
              "      <td>False</td>\n",
              "      <td>AskReddit</td>\n",
              "      <td>t5_2qh1i</td>\n",
              "      <td>27683189</td>\n",
              "      <td>public</td>\n",
              "      <td>NaN</td>\n",
              "      <td>self</td>\n",
              "      <td>NaN</td>\n",
              "      <td>NaN</td>\n",
              "      <td>People of Reddit, what were some of your best ...</td>\n",
              "      <td>0</td>\n",
              "      <td>[]</td>\n",
              "      <td>1.0</td>\n",
              "      <td>https://www.reddit.com/r/AskReddit/comments/gc...</td>\n",
              "      <td>all_ads</td>\n",
              "      <td>6.0</td>\n",
              "      <td>all_ads</td>\n",
              "      <td>6.0</td>\n",
              "      <td>NaN</td>\n",
              "      <td>NaN</td>\n",
              "      <td>NaN</td>\n",
              "      <td>NaN</td>\n",
              "      <td>NaN</td>\n",
              "      <td>NaN</td>\n",
              "      <td>NaN</td>\n",
              "      <td>NaN</td>\n",
              "      <td>NaN</td>\n",
              "      <td>NaN</td>\n",
              "      <td>NaN</td>\n",
              "      <td>NaN</td>\n",
              "      <td>NaN</td>\n",
              "      <td>NaN</td>\n",
              "    </tr>\n",
              "    <tr>\n",
              "      <th>8</th>\n",
              "      <td>[]</td>\n",
              "      <td>False</td>\n",
              "      <td>Civil_Working</td>\n",
              "      <td>None</td>\n",
              "      <td>[]</td>\n",
              "      <td>None</td>\n",
              "      <td>text</td>\n",
              "      <td>t2_6deghbnb</td>\n",
              "      <td>False</td>\n",
              "      <td>False</td>\n",
              "      <td>[]</td>\n",
              "      <td>False</td>\n",
              "      <td>False</td>\n",
              "      <td>1588513717</td>\n",
              "      <td>NaN</td>\n",
              "      <td>NaN</td>\n",
              "      <td>streamable.com</td>\n",
              "      <td>https://www.reddit.com/r/gtaonline/comments/gc...</td>\n",
              "      <td>{}</td>\n",
              "      <td>gcqv45</td>\n",
              "      <td>False</td>\n",
              "      <td>False</td>\n",
              "      <td>False</td>\n",
              "      <td>False</td>\n",
              "      <td>False</td>\n",
              "      <td>False</td>\n",
              "      <td>False</td>\n",
              "      <td></td>\n",
              "      <td>[{'e': 'text', 't': 'VIDEO'}]</td>\n",
              "      <td>dark</td>\n",
              "      <td>richtext</td>\n",
              "      <td>False</td>\n",
              "      <td>{'oembed': {'description': 'Check out this vid...</td>\n",
              "      <td>{'content': '&amp;lt;iframe class=\"embedly-embed\" ...</td>\n",
              "      <td>False</td>\n",
              "      <td>True</td>\n",
              "      <td>0</td>\n",
              "      <td>0</td>\n",
              "      <td>False</td>\n",
              "      <td>/r/gtaonline/comments/gcqv45/today_i_fought_ba...</td>\n",
              "      <td>...</td>\n",
              "      <td>{'enabled': False, 'images': [{'id': 'itqqOtBL...</td>\n",
              "      <td>1588513839</td>\n",
              "      <td>1</td>\n",
              "      <td>{'oembed': {'description': 'Check out this vid...</td>\n",
              "      <td>{'content': '&amp;lt;iframe class=\"embedly-embed\" ...</td>\n",
              "      <td></td>\n",
              "      <td>True</td>\n",
              "      <td>False</td>\n",
              "      <td>False</td>\n",
              "      <td>gtaonline</td>\n",
              "      <td>t5_2xrd1</td>\n",
              "      <td>563212</td>\n",
              "      <td>public</td>\n",
              "      <td>NaN</td>\n",
              "      <td>https://b.thumbs.redditmedia.com/X2Igdlfnl0r-M...</td>\n",
              "      <td>78.0</td>\n",
              "      <td>140.0</td>\n",
              "      <td>Today, I fought back against the aliens</td>\n",
              "      <td>0</td>\n",
              "      <td>[]</td>\n",
              "      <td>1.0</td>\n",
              "      <td>https://streamable.com/ct1f7u</td>\n",
              "      <td>all_ads</td>\n",
              "      <td>6.0</td>\n",
              "      <td>all_ads</td>\n",
              "      <td>6.0</td>\n",
              "      <td>c7456812-be7a-11e3-a70f-12313d06c56f</td>\n",
              "      <td>VIDEO</td>\n",
              "      <td>VIDEO</td>\n",
              "      <td>automod_filtered</td>\n",
              "      <td>NaN</td>\n",
              "      <td>NaN</td>\n",
              "      <td>NaN</td>\n",
              "      <td>NaN</td>\n",
              "      <td>NaN</td>\n",
              "      <td>NaN</td>\n",
              "      <td>NaN</td>\n",
              "      <td>NaN</td>\n",
              "      <td>NaN</td>\n",
              "      <td>NaN</td>\n",
              "    </tr>\n",
              "    <tr>\n",
              "      <th>9</th>\n",
              "      <td>[]</td>\n",
              "      <td>False</td>\n",
              "      <td>Idontknow123456889</td>\n",
              "      <td>None</td>\n",
              "      <td>[]</td>\n",
              "      <td>None</td>\n",
              "      <td>text</td>\n",
              "      <td>t2_4q7jvhpf</td>\n",
              "      <td>False</td>\n",
              "      <td>False</td>\n",
              "      <td>[]</td>\n",
              "      <td>False</td>\n",
              "      <td>False</td>\n",
              "      <td>1588513717</td>\n",
              "      <td>NaN</td>\n",
              "      <td>NaN</td>\n",
              "      <td>i.redd.it</td>\n",
              "      <td>https://www.reddit.com/r/ksi/comments/gcqv44/h...</td>\n",
              "      <td>{}</td>\n",
              "      <td>gcqv44</td>\n",
              "      <td>True</td>\n",
              "      <td>False</td>\n",
              "      <td>False</td>\n",
              "      <td>True</td>\n",
              "      <td>True</td>\n",
              "      <td>False</td>\n",
              "      <td>False</td>\n",
              "      <td></td>\n",
              "      <td>[]</td>\n",
              "      <td>dark</td>\n",
              "      <td>text</td>\n",
              "      <td>False</td>\n",
              "      <td>NaN</td>\n",
              "      <td>NaN</td>\n",
              "      <td>False</td>\n",
              "      <td>True</td>\n",
              "      <td>0</td>\n",
              "      <td>0</td>\n",
              "      <td>False</td>\n",
              "      <td>/r/ksi/comments/gcqv44/he_change_it/</td>\n",
              "      <td>...</td>\n",
              "      <td>{'enabled': True, 'images': [{'id': 'XLGygJkRb...</td>\n",
              "      <td>1588513839</td>\n",
              "      <td>1</td>\n",
              "      <td>NaN</td>\n",
              "      <td>NaN</td>\n",
              "      <td></td>\n",
              "      <td>True</td>\n",
              "      <td>False</td>\n",
              "      <td>False</td>\n",
              "      <td>ksi</td>\n",
              "      <td>t5_2xd5g</td>\n",
              "      <td>569038</td>\n",
              "      <td>public</td>\n",
              "      <td>confidence</td>\n",
              "      <td>https://b.thumbs.redditmedia.com/63cjgz9sruQw5...</td>\n",
              "      <td>22.0</td>\n",
              "      <td>140.0</td>\n",
              "      <td>He change it</td>\n",
              "      <td>0</td>\n",
              "      <td>[]</td>\n",
              "      <td>1.0</td>\n",
              "      <td>https://i.redd.it/1vhlgu3b1kw41.jpg</td>\n",
              "      <td>all_ads</td>\n",
              "      <td>6.0</td>\n",
              "      <td>all_ads</td>\n",
              "      <td>6.0</td>\n",
              "      <td>NaN</td>\n",
              "      <td>NaN</td>\n",
              "      <td>NaN</td>\n",
              "      <td>NaN</td>\n",
              "      <td>NaN</td>\n",
              "      <td>NaN</td>\n",
              "      <td>NaN</td>\n",
              "      <td>NaN</td>\n",
              "      <td>NaN</td>\n",
              "      <td>NaN</td>\n",
              "      <td>NaN</td>\n",
              "      <td>NaN</td>\n",
              "      <td>NaN</td>\n",
              "      <td>NaN</td>\n",
              "    </tr>\n",
              "  </tbody>\n",
              "</table>\n",
              "<p>10 rows × 82 columns</p>\n",
              "</div>"
            ],
            "text/plain": [
              "  all_awardings  allow_live_comments  ... poll_data banned_by\n",
              "0            []                False  ...       NaN       NaN\n",
              "1            []                False  ...       NaN       NaN\n",
              "2            []                False  ...       NaN       NaN\n",
              "3            []                False  ...       NaN       NaN\n",
              "4            []                False  ...       NaN       NaN\n",
              "5            []                False  ...       NaN       NaN\n",
              "6            []                False  ...       NaN       NaN\n",
              "7            []                False  ...       NaN       NaN\n",
              "8            []                False  ...       NaN       NaN\n",
              "9            []                False  ...       NaN       NaN\n",
              "\n",
              "[10 rows x 82 columns]"
            ]
          },
          "metadata": {
            "tags": []
          },
          "execution_count": 29
        }
      ]
    },
    {
      "cell_type": "code",
      "metadata": {
        "id": "fF97kX8FQWeb"
      },
      "source": [
        "pdf.selftext = pdf.selftext.apply(lambda e: str(e))"
      ],
      "execution_count": null,
      "outputs": []
    },
    {
      "cell_type": "code",
      "metadata": {
        "id": "5JciRGbIvvV2"
      },
      "source": [
        "attrs = [\"author\", \"created_utc\", \"title\", \"subreddit\", \"selftext\", \"over_18\"]\n",
        "df = spark.createDataFrame(pdf[attrs])"
      ],
      "execution_count": null,
      "outputs": []
    },
    {
      "cell_type": "markdown",
      "metadata": {
        "id": "Cf_LJhRlPFRw"
      },
      "source": [
        "## Basic operations"
      ]
    },
    {
      "cell_type": "code",
      "metadata": {
        "id": "gf5-2gBcwGCe",
        "outputId": "2d4f956f-8f54-4335-ed9a-d3ca59a54484",
        "colab": {
          "base_uri": "https://localhost:8080/",
          "height": 463
        }
      },
      "source": [
        "df.show()"
      ],
      "execution_count": null,
      "outputs": [
        {
          "output_type": "stream",
          "text": [
            "+------------------+-----------+--------------------+--------------------+--------------------+-------+\n",
            "|            author|created_utc|               title|           subreddit|            selftext|over_18|\n",
            "+------------------+-----------+--------------------+--------------------+--------------------+-------+\n",
            "|           Acoal69| 1588513721|       such pleasure|           u_Acoal69|                    |   true|\n",
            "|    Hockey_Sweater| 1588513720|Some sex workers’...|      UnbiasedCanada|                    |  false|\n",
            "|          sps97grt| 1588513719|So I started watc...|      betterCallSaul|                    |  false|\n",
            "|      thirdsurface| 1588513718|Any organizations...|         SouthJersey|                    |  false|\n",
            "|        uixnetwork| 1588513718|Skip Bayless Q&am...|        u_uixnetwork|                    |  false|\n",
            "|  jonathanivoridge| 1588513718|              r/pics|    coaxedintoasnafu|                    |  false|\n",
            "|        Darketties| 1588513717|Casino Heist / Bo...|          HeistTeams|Need someone to d...|  false|\n",
            "| mysterious_mosaic| 1588513717|People of Reddit,...|           AskReddit|                    |  false|\n",
            "|     Civil_Working| 1588513717|Today, I fought b...|           gtaonline|                    |  false|\n",
            "|Idontknow123456889| 1588513717|        He change it|                 ksi|                    |  false|\n",
            "|     blitzburgh216| 1588513717|[PS4] H: urban sc...|            Market76|                    |  false|\n",
            "|     EliteRifleman| 1588513716|Anyone knows what...|                bugs|                    |  false|\n",
            "|           Progstu| 1588513716|Was messing aroun...|   mechanicalpencils|                    |  false|\n",
            "|           FawadA_| 1588513716|Follow the straig...|            pakistan|                    |  false|\n",
            "|    blackheartmoon| 1588513715|A forgotten cemet...|CemeteryPreservation|                    |  false|\n",
            "|       bballconnor| 1588513715|The water was coo...|      PublicFreakout|                    |  false|\n",
            "|         X4thorsex| 1588513713|Private request f...|         CockTribute|                    |   true|\n",
            "|        MommyNuxia| 1588513713|Game crashes on C...|                Xcom|Title says it all...|  false|\n",
            "|   CPViolation6626| 1588513713|  Mada mada koinu yo|        ShittySekiro|                    |  false|\n",
            "|         ChoiNissa| 1588513713|19F Looking for s...|kiksnapchatusernames|                    |   true|\n",
            "+------------------+-----------+--------------------+--------------------+--------------------+-------+\n",
            "only showing top 20 rows\n",
            "\n"
          ],
          "name": "stdout"
        }
      ]
    },
    {
      "cell_type": "markdown",
      "metadata": {
        "id": "ALRm1VdnT8W8"
      },
      "source": [
        "### Filtering"
      ]
    },
    {
      "cell_type": "code",
      "metadata": {
        "id": "EVJKXQBvRWFy",
        "outputId": "3b3e2885-f70b-435c-b233-3d1683260903",
        "colab": {
          "base_uri": "https://localhost:8080/",
          "height": 463
        }
      },
      "source": [
        "df.filter(~df.over_18).show()"
      ],
      "execution_count": null,
      "outputs": [
        {
          "output_type": "stream",
          "text": [
            "+------------------+-----------+--------------------+--------------------+--------------------+-------+\n",
            "|            author|created_utc|               title|           subreddit|            selftext|over_18|\n",
            "+------------------+-----------+--------------------+--------------------+--------------------+-------+\n",
            "|    Hockey_Sweater| 1588513720|Some sex workers’...|      UnbiasedCanada|                    |  false|\n",
            "|          sps97grt| 1588513719|So I started watc...|      betterCallSaul|                    |  false|\n",
            "|      thirdsurface| 1588513718|Any organizations...|         SouthJersey|                    |  false|\n",
            "|        uixnetwork| 1588513718|Skip Bayless Q&am...|        u_uixnetwork|                    |  false|\n",
            "|  jonathanivoridge| 1588513718|              r/pics|    coaxedintoasnafu|                    |  false|\n",
            "|        Darketties| 1588513717|Casino Heist / Bo...|          HeistTeams|Need someone to d...|  false|\n",
            "| mysterious_mosaic| 1588513717|People of Reddit,...|           AskReddit|                    |  false|\n",
            "|     Civil_Working| 1588513717|Today, I fought b...|           gtaonline|                    |  false|\n",
            "|Idontknow123456889| 1588513717|        He change it|                 ksi|                    |  false|\n",
            "|     blitzburgh216| 1588513717|[PS4] H: urban sc...|            Market76|                    |  false|\n",
            "|     EliteRifleman| 1588513716|Anyone knows what...|                bugs|                    |  false|\n",
            "|           Progstu| 1588513716|Was messing aroun...|   mechanicalpencils|                    |  false|\n",
            "|           FawadA_| 1588513716|Follow the straig...|            pakistan|                    |  false|\n",
            "|    blackheartmoon| 1588513715|A forgotten cemet...|CemeteryPreservation|                    |  false|\n",
            "|       bballconnor| 1588513715|The water was coo...|      PublicFreakout|                    |  false|\n",
            "|        MommyNuxia| 1588513713|Game crashes on C...|                Xcom|Title says it all...|  false|\n",
            "|   CPViolation6626| 1588513713|  Mada mada koinu yo|        ShittySekiro|                    |  false|\n",
            "|        Fishfry123| 1588513713|              Please|             walmart|Since you guys ar...|  false|\n",
            "|     JohnHoffman69| 1588513713|Background Contes...|                gmod|                    |  false|\n",
            "|      Flaky-Annual| 1588513713|Opal is crafting ...|             NoFeeAC|Comment here and ...|  false|\n",
            "+------------------+-----------+--------------------+--------------------+--------------------+-------+\n",
            "only showing top 20 rows\n",
            "\n"
          ],
          "name": "stdout"
        }
      ]
    },
    {
      "cell_type": "code",
      "metadata": {
        "id": "4WCIDfgtTwGx",
        "outputId": "67fefd3e-b168-4fe5-b919-17ea67829188",
        "colab": {
          "base_uri": "https://localhost:8080/",
          "height": 463
        }
      },
      "source": [
        "df.where(~df.over_18).show()"
      ],
      "execution_count": null,
      "outputs": [
        {
          "output_type": "stream",
          "text": [
            "+------------------+-----------+--------------------+--------------------+--------------------+-------+\n",
            "|            author|created_utc|               title|           subreddit|            selftext|over_18|\n",
            "+------------------+-----------+--------------------+--------------------+--------------------+-------+\n",
            "|    Hockey_Sweater| 1588513720|Some sex workers’...|      UnbiasedCanada|                    |  false|\n",
            "|          sps97grt| 1588513719|So I started watc...|      betterCallSaul|                    |  false|\n",
            "|      thirdsurface| 1588513718|Any organizations...|         SouthJersey|                    |  false|\n",
            "|        uixnetwork| 1588513718|Skip Bayless Q&am...|        u_uixnetwork|                    |  false|\n",
            "|  jonathanivoridge| 1588513718|              r/pics|    coaxedintoasnafu|                    |  false|\n",
            "|        Darketties| 1588513717|Casino Heist / Bo...|          HeistTeams|Need someone to d...|  false|\n",
            "| mysterious_mosaic| 1588513717|People of Reddit,...|           AskReddit|                    |  false|\n",
            "|     Civil_Working| 1588513717|Today, I fought b...|           gtaonline|                    |  false|\n",
            "|Idontknow123456889| 1588513717|        He change it|                 ksi|                    |  false|\n",
            "|     blitzburgh216| 1588513717|[PS4] H: urban sc...|            Market76|                    |  false|\n",
            "|     EliteRifleman| 1588513716|Anyone knows what...|                bugs|                    |  false|\n",
            "|           Progstu| 1588513716|Was messing aroun...|   mechanicalpencils|                    |  false|\n",
            "|           FawadA_| 1588513716|Follow the straig...|            pakistan|                    |  false|\n",
            "|    blackheartmoon| 1588513715|A forgotten cemet...|CemeteryPreservation|                    |  false|\n",
            "|       bballconnor| 1588513715|The water was coo...|      PublicFreakout|                    |  false|\n",
            "|        MommyNuxia| 1588513713|Game crashes on C...|                Xcom|Title says it all...|  false|\n",
            "|   CPViolation6626| 1588513713|  Mada mada koinu yo|        ShittySekiro|                    |  false|\n",
            "|        Fishfry123| 1588513713|              Please|             walmart|Since you guys ar...|  false|\n",
            "|     JohnHoffman69| 1588513713|Background Contes...|                gmod|                    |  false|\n",
            "|      Flaky-Annual| 1588513713|Opal is crafting ...|             NoFeeAC|Comment here and ...|  false|\n",
            "+------------------+-----------+--------------------+--------------------+--------------------+-------+\n",
            "only showing top 20 rows\n",
            "\n"
          ],
          "name": "stdout"
        }
      ]
    },
    {
      "cell_type": "code",
      "metadata": {
        "id": "uqhyhwhrTzX7",
        "outputId": "aab4bb8a-e318-4fbd-92ba-d5b7b4be3c98",
        "colab": {
          "base_uri": "https://localhost:8080/",
          "height": 463
        }
      },
      "source": [
        "df.where(\"not over_18\").show() # SQL syntax"
      ],
      "execution_count": null,
      "outputs": [
        {
          "output_type": "stream",
          "text": [
            "+------------------+-----------+--------------------+--------------------+--------------------+-------+\n",
            "|            author|created_utc|               title|           subreddit|            selftext|over_18|\n",
            "+------------------+-----------+--------------------+--------------------+--------------------+-------+\n",
            "|    Hockey_Sweater| 1588513720|Some sex workers’...|      UnbiasedCanada|                    |  false|\n",
            "|          sps97grt| 1588513719|So I started watc...|      betterCallSaul|                    |  false|\n",
            "|      thirdsurface| 1588513718|Any organizations...|         SouthJersey|                    |  false|\n",
            "|        uixnetwork| 1588513718|Skip Bayless Q&am...|        u_uixnetwork|                    |  false|\n",
            "|  jonathanivoridge| 1588513718|              r/pics|    coaxedintoasnafu|                    |  false|\n",
            "|        Darketties| 1588513717|Casino Heist / Bo...|          HeistTeams|Need someone to d...|  false|\n",
            "| mysterious_mosaic| 1588513717|People of Reddit,...|           AskReddit|                    |  false|\n",
            "|     Civil_Working| 1588513717|Today, I fought b...|           gtaonline|                    |  false|\n",
            "|Idontknow123456889| 1588513717|        He change it|                 ksi|                    |  false|\n",
            "|     blitzburgh216| 1588513717|[PS4] H: urban sc...|            Market76|                    |  false|\n",
            "|     EliteRifleman| 1588513716|Anyone knows what...|                bugs|                    |  false|\n",
            "|           Progstu| 1588513716|Was messing aroun...|   mechanicalpencils|                    |  false|\n",
            "|           FawadA_| 1588513716|Follow the straig...|            pakistan|                    |  false|\n",
            "|    blackheartmoon| 1588513715|A forgotten cemet...|CemeteryPreservation|                    |  false|\n",
            "|       bballconnor| 1588513715|The water was coo...|      PublicFreakout|                    |  false|\n",
            "|        MommyNuxia| 1588513713|Game crashes on C...|                Xcom|Title says it all...|  false|\n",
            "|   CPViolation6626| 1588513713|  Mada mada koinu yo|        ShittySekiro|                    |  false|\n",
            "|        Fishfry123| 1588513713|              Please|             walmart|Since you guys ar...|  false|\n",
            "|     JohnHoffman69| 1588513713|Background Contes...|                gmod|                    |  false|\n",
            "|      Flaky-Annual| 1588513713|Opal is crafting ...|             NoFeeAC|Comment here and ...|  false|\n",
            "+------------------+-----------+--------------------+--------------------+--------------------+-------+\n",
            "only showing top 20 rows\n",
            "\n"
          ],
          "name": "stdout"
        }
      ]
    },
    {
      "cell_type": "markdown",
      "metadata": {
        "id": "MK3Yq-pCT_Li"
      },
      "source": [
        "### Operations\n",
        "\n"
      ]
    },
    {
      "cell_type": "code",
      "metadata": {
        "id": "7LttXKpzUSK1",
        "outputId": "fff52050-0087-4066-b6af-2b29e767c53f",
        "colab": {
          "base_uri": "https://localhost:8080/",
          "height": 463
        }
      },
      "source": [
        "df.select(df.created_utc * 2).show()"
      ],
      "execution_count": null,
      "outputs": [
        {
          "output_type": "stream",
          "text": [
            "+-----------------+\n",
            "|(created_utc * 2)|\n",
            "+-----------------+\n",
            "|       3177027442|\n",
            "|       3177027440|\n",
            "|       3177027438|\n",
            "|       3177027436|\n",
            "|       3177027436|\n",
            "|       3177027436|\n",
            "|       3177027434|\n",
            "|       3177027434|\n",
            "|       3177027434|\n",
            "|       3177027434|\n",
            "|       3177027434|\n",
            "|       3177027432|\n",
            "|       3177027432|\n",
            "|       3177027432|\n",
            "|       3177027430|\n",
            "|       3177027430|\n",
            "|       3177027426|\n",
            "|       3177027426|\n",
            "|       3177027426|\n",
            "|       3177027426|\n",
            "+-----------------+\n",
            "only showing top 20 rows\n",
            "\n"
          ],
          "name": "stdout"
        }
      ]
    },
    {
      "cell_type": "code",
      "metadata": {
        "id": "sBuGYfz2Ueky",
        "outputId": "0bd82cfe-d689-46df-d295-73dd70ca0582",
        "colab": {
          "base_uri": "https://localhost:8080/",
          "height": 463
        }
      },
      "source": [
        "from pyspark.sql.functions import log\n",
        "df.select(log(df.created_utc * 2)).show()"
      ],
      "execution_count": null,
      "outputs": [
        {
          "output_type": "stream",
          "text": [
            "+----------------------+\n",
            "|LOG((created_utc * 2))|\n",
            "+----------------------+\n",
            "|    21.879211829905014|\n",
            "|    21.879211829275498|\n",
            "|     21.87921182864598|\n",
            "|     21.87921182801646|\n",
            "|     21.87921182801646|\n",
            "|     21.87921182801646|\n",
            "|     21.87921182738694|\n",
            "|     21.87921182738694|\n",
            "|     21.87921182738694|\n",
            "|     21.87921182738694|\n",
            "|     21.87921182738694|\n",
            "|     21.87921182675742|\n",
            "|     21.87921182675742|\n",
            "|     21.87921182675742|\n",
            "|      21.8792118261279|\n",
            "|      21.8792118261279|\n",
            "|     21.87921182486886|\n",
            "|     21.87921182486886|\n",
            "|     21.87921182486886|\n",
            "|     21.87921182486886|\n",
            "+----------------------+\n",
            "only showing top 20 rows\n",
            "\n"
          ],
          "name": "stdout"
        }
      ]
    },
    {
      "cell_type": "markdown",
      "metadata": {
        "id": "7DykNMbpUzrN"
      },
      "source": [
        "### Aggregations\n",
        "\n"
      ]
    },
    {
      "cell_type": "code",
      "metadata": {
        "id": "MJ_Q6df9U4Lw",
        "outputId": "7c61696d-6a62-4912-ef2f-e6adb583eb28",
        "colab": {
          "base_uri": "https://localhost:8080/",
          "height": 414
        }
      },
      "source": [
        "df.where(\"not over_18\").groupby([\"author\", df.subreddit]).count().toPandas()"
      ],
      "execution_count": null,
      "outputs": [
        {
          "output_type": "execute_result",
          "data": {
            "text/html": [
              "<div>\n",
              "<style scoped>\n",
              "    .dataframe tbody tr th:only-of-type {\n",
              "        vertical-align: middle;\n",
              "    }\n",
              "\n",
              "    .dataframe tbody tr th {\n",
              "        vertical-align: top;\n",
              "    }\n",
              "\n",
              "    .dataframe thead th {\n",
              "        text-align: right;\n",
              "    }\n",
              "</style>\n",
              "<table border=\"1\" class=\"dataframe\">\n",
              "  <thead>\n",
              "    <tr style=\"text-align: right;\">\n",
              "      <th></th>\n",
              "      <th>author</th>\n",
              "      <th>subreddit</th>\n",
              "      <th>count</th>\n",
              "    </tr>\n",
              "  </thead>\n",
              "  <tbody>\n",
              "    <tr>\n",
              "      <th>0</th>\n",
              "      <td>g4m3f33d</td>\n",
              "      <td>GameFeed</td>\n",
              "      <td>2</td>\n",
              "    </tr>\n",
              "    <tr>\n",
              "      <th>1</th>\n",
              "      <td>TwiliciousREEE</td>\n",
              "      <td>reddeadfashion</td>\n",
              "      <td>1</td>\n",
              "    </tr>\n",
              "    <tr>\n",
              "      <th>2</th>\n",
              "      <td>masterofmastercard</td>\n",
              "      <td>holdmyfeedingtube</td>\n",
              "      <td>1</td>\n",
              "    </tr>\n",
              "    <tr>\n",
              "      <th>3</th>\n",
              "      <td>DaVibes</td>\n",
              "      <td>rnb</td>\n",
              "      <td>1</td>\n",
              "    </tr>\n",
              "    <tr>\n",
              "      <th>4</th>\n",
              "      <td>Jack_Douniels</td>\n",
              "      <td>ClashRoyaleTrade</td>\n",
              "      <td>1</td>\n",
              "    </tr>\n",
              "    <tr>\n",
              "      <th>...</th>\n",
              "      <td>...</td>\n",
              "      <td>...</td>\n",
              "      <td>...</td>\n",
              "    </tr>\n",
              "    <tr>\n",
              "      <th>745</th>\n",
              "      <td>Mr_Max_Pusherman</td>\n",
              "      <td>runescape</td>\n",
              "      <td>1</td>\n",
              "    </tr>\n",
              "    <tr>\n",
              "      <th>746</th>\n",
              "      <td>shpnwrkd</td>\n",
              "      <td>DynastyCW</td>\n",
              "      <td>1</td>\n",
              "    </tr>\n",
              "    <tr>\n",
              "      <th>747</th>\n",
              "      <td>hjalmar111</td>\n",
              "      <td>FreezingFuckingCold</td>\n",
              "      <td>1</td>\n",
              "    </tr>\n",
              "    <tr>\n",
              "      <th>748</th>\n",
              "      <td>zeldaguy85</td>\n",
              "      <td>findfashion</td>\n",
              "      <td>1</td>\n",
              "    </tr>\n",
              "    <tr>\n",
              "      <th>749</th>\n",
              "      <td>Dalton201292</td>\n",
              "      <td>AskReddit</td>\n",
              "      <td>1</td>\n",
              "    </tr>\n",
              "  </tbody>\n",
              "</table>\n",
              "<p>750 rows × 3 columns</p>\n",
              "</div>"
            ],
            "text/plain": [
              "                 author            subreddit  count\n",
              "0              g4m3f33d             GameFeed      2\n",
              "1        TwiliciousREEE       reddeadfashion      1\n",
              "2    masterofmastercard    holdmyfeedingtube      1\n",
              "3               DaVibes                  rnb      1\n",
              "4         Jack_Douniels     ClashRoyaleTrade      1\n",
              "..                  ...                  ...    ...\n",
              "745    Mr_Max_Pusherman            runescape      1\n",
              "746            shpnwrkd            DynastyCW      1\n",
              "747          hjalmar111  FreezingFuckingCold      1\n",
              "748          zeldaguy85          findfashion      1\n",
              "749        Dalton201292            AskReddit      1\n",
              "\n",
              "[750 rows x 3 columns]"
            ]
          },
          "metadata": {
            "tags": []
          },
          "execution_count": 38
        }
      ]
    },
    {
      "cell_type": "markdown",
      "metadata": {
        "id": "G_Wb3JOMYToZ"
      },
      "source": [
        "### Custom functions"
      ]
    },
    {
      "cell_type": "code",
      "metadata": {
        "id": "3jEQlhtwVbkB",
        "outputId": "c6b3f7f5-a203-4f68-8f66-984c6a394153",
        "colab": {
          "base_uri": "https://localhost:8080/",
          "height": 1000
        }
      },
      "source": [
        "from pyspark.sql.functions import length\n",
        "\n",
        "df = df.withColumn(\"length\", length(df.selftext)) # This adds a column\n",
        "\n",
        "df.where(\"length > 1000\").toPandas()"
      ],
      "execution_count": null,
      "outputs": [
        {
          "output_type": "execute_result",
          "data": {
            "text/html": [
              "<div>\n",
              "<style scoped>\n",
              "    .dataframe tbody tr th:only-of-type {\n",
              "        vertical-align: middle;\n",
              "    }\n",
              "\n",
              "    .dataframe tbody tr th {\n",
              "        vertical-align: top;\n",
              "    }\n",
              "\n",
              "    .dataframe thead th {\n",
              "        text-align: right;\n",
              "    }\n",
              "</style>\n",
              "<table border=\"1\" class=\"dataframe\">\n",
              "  <thead>\n",
              "    <tr style=\"text-align: right;\">\n",
              "      <th></th>\n",
              "      <th>author</th>\n",
              "      <th>created_utc</th>\n",
              "      <th>title</th>\n",
              "      <th>subreddit</th>\n",
              "      <th>selftext</th>\n",
              "      <th>over_18</th>\n",
              "      <th>length</th>\n",
              "    </tr>\n",
              "  </thead>\n",
              "  <tbody>\n",
              "    <tr>\n",
              "      <th>0</th>\n",
              "      <td>beachxbunny</td>\n",
              "      <td>1588513712</td>\n",
              "      <td>Ethical Q: how bad is it to take props from ra...</td>\n",
              "      <td>houseplants</td>\n",
              "      <td>I have a few babies, outside I have an aloe ve...</td>\n",
              "      <td>False</td>\n",
              "      <td>1136</td>\n",
              "    </tr>\n",
              "    <tr>\n",
              "      <th>1</th>\n",
              "      <td>deadly_nightshaade</td>\n",
              "      <td>1588513709</td>\n",
              "      <td>High stats in qp/classic mix playlist but havi...</td>\n",
              "      <td>CruciblePlaybook</td>\n",
              "      <td>Right now I have an overall in regular 6v6 of ...</td>\n",
              "      <td>False</td>\n",
              "      <td>1115</td>\n",
              "    </tr>\n",
              "    <tr>\n",
              "      <th>2</th>\n",
              "      <td>bear-rah</td>\n",
              "      <td>1588513704</td>\n",
              "      <td>Warren Buffett dumps US airline stocks, saying...</td>\n",
              "      <td>collapse</td>\n",
              "      <td>[https://www.theguardian.com/world/2020/may/0...</td>\n",
              "      <td>False</td>\n",
              "      <td>1315</td>\n",
              "    </tr>\n",
              "    <tr>\n",
              "      <th>3</th>\n",
              "      <td>ijlver68</td>\n",
              "      <td>1588513701</td>\n",
              "      <td>Do you find it weird that people in their 30s+...</td>\n",
              "      <td>AskWomenOver30</td>\n",
              "      <td>So I’m 22 and I have a friend who’s 18 and I c...</td>\n",
              "      <td>False</td>\n",
              "      <td>1553</td>\n",
              "    </tr>\n",
              "    <tr>\n",
              "      <th>4</th>\n",
              "      <td>CradleTheDead</td>\n",
              "      <td>1588513697</td>\n",
              "      <td>[Xbox] [H] a dream [W] you to help me finish t...</td>\n",
              "      <td>RocketLeagueExchange</td>\n",
              "      <td>\\n\\n\\n\\n\\n\\n#Sweeper Fennec’s 3/13\\n\\n\\n|PAINT...</td>\n",
              "      <td>False</td>\n",
              "      <td>1081</td>\n",
              "    </tr>\n",
              "    <tr>\n",
              "      <th>5</th>\n",
              "      <td>MarcixB</td>\n",
              "      <td>1588513693</td>\n",
              "      <td>How badly would a 5700xt be bottlenecked by pc...</td>\n",
              "      <td>pcmasterrace</td>\n",
              "      <td>So I'm waiting on the i7-10700k before I upgra...</td>\n",
              "      <td>False</td>\n",
              "      <td>1232</td>\n",
              "    </tr>\n",
              "    <tr>\n",
              "      <th>6</th>\n",
              "      <td>Novaxel</td>\n",
              "      <td>1588513691</td>\n",
              "      <td>How to Put an End to Procrastination</td>\n",
              "      <td>DecidingToBeBetter</td>\n",
              "      <td>Following yesterday's post about getting out o...</td>\n",
              "      <td>False</td>\n",
              "      <td>14799</td>\n",
              "    </tr>\n",
              "    <tr>\n",
              "      <th>7</th>\n",
              "      <td>CradleTheDead</td>\n",
              "      <td>1588513690</td>\n",
              "      <td>[Xbox] [H] a dream [W] you to help me finish t...</td>\n",
              "      <td>RocketLeagueExchange</td>\n",
              "      <td>\\n\\n\\n\\n\\n\\n#Sweeper Fennec’s 3/13\\n\\n\\n|PAINT...</td>\n",
              "      <td>False</td>\n",
              "      <td>1081</td>\n",
              "    </tr>\n",
              "    <tr>\n",
              "      <th>8</th>\n",
              "      <td>sisterjerry83</td>\n",
              "      <td>1588513690</td>\n",
              "      <td>I'm (37F) not feeling listened to by my boyfri...</td>\n",
              "      <td>relationship_advice</td>\n",
              "      <td>Lately I have been fighting with my boyfriend ...</td>\n",
              "      <td>False</td>\n",
              "      <td>3652</td>\n",
              "    </tr>\n",
              "    <tr>\n",
              "      <th>9</th>\n",
              "      <td>Dil26</td>\n",
              "      <td>1588513690</td>\n",
              "      <td>[For Hire] Professional &amp;amp; Affordable Write...</td>\n",
              "      <td>forhire</td>\n",
              "      <td>Hey!\\n\\nI am a SEO-focused freelance writer t...</td>\n",
              "      <td>False</td>\n",
              "      <td>2847</td>\n",
              "    </tr>\n",
              "    <tr>\n",
              "      <th>10</th>\n",
              "      <td>OptimisticShaggy</td>\n",
              "      <td>1588513689</td>\n",
              "      <td>Giving Birth</td>\n",
              "      <td>pregnant</td>\n",
              "      <td>Me and my fiance are talking, planning. She's ...</td>\n",
              "      <td>False</td>\n",
              "      <td>1067</td>\n",
              "    </tr>\n",
              "    <tr>\n",
              "      <th>11</th>\n",
              "      <td>PhoenixCodes</td>\n",
              "      <td>1588513681</td>\n",
              "      <td>AITA for being upset about a broken promise?</td>\n",
              "      <td>AmItheAsshole</td>\n",
              "      <td>I (30M) am a long-haul truck driver. I don't g...</td>\n",
              "      <td>False</td>\n",
              "      <td>1856</td>\n",
              "    </tr>\n",
              "    <tr>\n",
              "      <th>12</th>\n",
              "      <td>Ofspaceand_time</td>\n",
              "      <td>1588513676</td>\n",
              "      <td>Printer advice!</td>\n",
              "      <td>ArtistLounge</td>\n",
              "      <td>Hi,\\n\\nAs with most artists recently with ever...</td>\n",
              "      <td>False</td>\n",
              "      <td>1460</td>\n",
              "    </tr>\n",
              "    <tr>\n",
              "      <th>13</th>\n",
              "      <td>throweroftheawayssss</td>\n",
              "      <td>1588513674</td>\n",
              "      <td>Just need to say this</td>\n",
              "      <td>SuicideWatch</td>\n",
              "      <td>Soon im turning 18, im lost hve no clue what i...</td>\n",
              "      <td>False</td>\n",
              "      <td>1427</td>\n",
              "    </tr>\n",
              "    <tr>\n",
              "      <th>14</th>\n",
              "      <td>Allureii</td>\n",
              "      <td>1588513670</td>\n",
              "      <td>AITA for calling my mum out?</td>\n",
              "      <td>AmItheAsshole</td>\n",
              "      <td>So maybe I'm TA here or maybe I'm just too sen...</td>\n",
              "      <td>False</td>\n",
              "      <td>2478</td>\n",
              "    </tr>\n",
              "    <tr>\n",
              "      <th>15</th>\n",
              "      <td>L0rdTeddingt0n</td>\n",
              "      <td>1588513670</td>\n",
              "      <td>AITA for pushing for my partner for us to get ...</td>\n",
              "      <td>AmItheAsshole</td>\n",
              "      <td>I (27f) have been with my partner (34m) for ov...</td>\n",
              "      <td>False</td>\n",
              "      <td>2354</td>\n",
              "    </tr>\n",
              "    <tr>\n",
              "      <th>16</th>\n",
              "      <td>FintanH28</td>\n",
              "      <td>1588513669</td>\n",
              "      <td>The fact that people are scared of insects and...</td>\n",
              "      <td>unpopularopinion</td>\n",
              "      <td>Honestly I don’t understand why people are sca...</td>\n",
              "      <td>False</td>\n",
              "      <td>1249</td>\n",
              "    </tr>\n",
              "    <tr>\n",
              "      <th>17</th>\n",
              "      <td>Ofspaceand_time</td>\n",
              "      <td>1588513661</td>\n",
              "      <td>Printer advice!</td>\n",
              "      <td>ArtistLounge</td>\n",
              "      <td>Hi,\\n\\nAs with most artists recently with ever...</td>\n",
              "      <td>False</td>\n",
              "      <td>1460</td>\n",
              "    </tr>\n",
              "    <tr>\n",
              "      <th>18</th>\n",
              "      <td>AITAweedthrowaway</td>\n",
              "      <td>1588513658</td>\n",
              "      <td>WIBTA for asking my bf to get rid of his weed ...</td>\n",
              "      <td>AmItheAsshole</td>\n",
              "      <td>My bf and I are young parents, and were not th...</td>\n",
              "      <td>False</td>\n",
              "      <td>2973</td>\n",
              "    </tr>\n",
              "    <tr>\n",
              "      <th>19</th>\n",
              "      <td>losGama</td>\n",
              "      <td>1588513657</td>\n",
              "      <td>Woocommerce Create Order</td>\n",
              "      <td>swift</td>\n",
              "      <td>Ive been trying to create an order using the W...</td>\n",
              "      <td>False</td>\n",
              "      <td>6732</td>\n",
              "    </tr>\n",
              "    <tr>\n",
              "      <th>20</th>\n",
              "      <td>SuunyWays</td>\n",
              "      <td>1588513656</td>\n",
              "      <td>Jokes For Me But Not for Thee</td>\n",
              "      <td>OverwhelminglyWhite</td>\n",
              "      <td>Iranian girl on twitter freaks out because whi...</td>\n",
              "      <td>False</td>\n",
              "      <td>1148</td>\n",
              "    </tr>\n",
              "    <tr>\n",
              "      <th>21</th>\n",
              "      <td>MonaEBR16</td>\n",
              "      <td>1588513655</td>\n",
              "      <td>Coconut oil Everywhere!</td>\n",
              "      <td>curlyhair</td>\n",
              "      <td>I have 2b wave when I dont take care of my hai...</td>\n",
              "      <td>False</td>\n",
              "      <td>1228</td>\n",
              "    </tr>\n",
              "    <tr>\n",
              "      <th>22</th>\n",
              "      <td>Grizzly666</td>\n",
              "      <td>1588513652</td>\n",
              "      <td>The shame oh the shame!</td>\n",
              "      <td>battlewagon</td>\n",
              "      <td>It was around 95-96 when i was 19-20 and drove...</td>\n",
              "      <td>False</td>\n",
              "      <td>7946</td>\n",
              "    </tr>\n",
              "    <tr>\n",
              "      <th>23</th>\n",
              "      <td>pinkwintershadows</td>\n",
              "      <td>1588513652</td>\n",
              "      <td>My dream came true</td>\n",
              "      <td>Dreams</td>\n",
              "      <td>So I can’t seem to get out of my mind this par...</td>\n",
              "      <td>False</td>\n",
              "      <td>2704</td>\n",
              "    </tr>\n",
              "    <tr>\n",
              "      <th>24</th>\n",
              "      <td>throweroftheawayssss</td>\n",
              "      <td>1588513649</td>\n",
              "      <td>Just need to say this</td>\n",
              "      <td>SuicideWatch</td>\n",
              "      <td>Soon im turning 18, im lost hve no clue what i...</td>\n",
              "      <td>False</td>\n",
              "      <td>1427</td>\n",
              "    </tr>\n",
              "    <tr>\n",
              "      <th>25</th>\n",
              "      <td>kawaii_paki</td>\n",
              "      <td>1588513649</td>\n",
              "      <td>What makes you happy and how do you find it?</td>\n",
              "      <td>AskMen</td>\n",
              "      <td>I used to be very laidback, introverted, chill...</td>\n",
              "      <td>False</td>\n",
              "      <td>1621</td>\n",
              "    </tr>\n",
              "    <tr>\n",
              "      <th>26</th>\n",
              "      <td>ThrowRAdrankund</td>\n",
              "      <td>1588513640</td>\n",
              "      <td>My boyfriend (25m) doesn’t last more than 3 mi...</td>\n",
              "      <td>sex</td>\n",
              "      <td>\\nMy boyfriend is a really sweet, kind and lov...</td>\n",
              "      <td>False</td>\n",
              "      <td>1611</td>\n",
              "    </tr>\n",
              "    <tr>\n",
              "      <th>27</th>\n",
              "      <td>borkis34</td>\n",
              "      <td>1588513633</td>\n",
              "      <td>Girlfriend problems, life choices</td>\n",
              "      <td>relationship_advice</td>\n",
              "      <td>Hi to all the people!\\nI need some advice abou...</td>\n",
              "      <td>False</td>\n",
              "      <td>1789</td>\n",
              "    </tr>\n",
              "    <tr>\n",
              "      <th>28</th>\n",
              "      <td>Dr_ChimRichalds</td>\n",
              "      <td>1588513622</td>\n",
              "      <td>Hot Water survivor, Round 6</td>\n",
              "      <td>ParrotHeads</td>\n",
              "      <td>With 26.79% of 56 votes, **\"Bring Back the Mag...</td>\n",
              "      <td>False</td>\n",
              "      <td>1020</td>\n",
              "    </tr>\n",
              "    <tr>\n",
              "      <th>29</th>\n",
              "      <td>CringeNibba</td>\n",
              "      <td>1588513619</td>\n",
              "      <td>Cummy's Lover</td>\n",
              "      <td>copypasta</td>\n",
              "      <td>cummy, with your consent, i will bear your chi...</td>\n",
              "      <td>True</td>\n",
              "      <td>2206</td>\n",
              "    </tr>\n",
              "    <tr>\n",
              "      <th>30</th>\n",
              "      <td>Sleepoi</td>\n",
              "      <td>1588513618</td>\n",
              "      <td>I saw something as a kid, and to this day, I d...</td>\n",
              "      <td>Ghosts</td>\n",
              "      <td>This is entirely a true story.\\n\\nI’m a young ...</td>\n",
              "      <td>False</td>\n",
              "      <td>2665</td>\n",
              "    </tr>\n",
              "    <tr>\n",
              "      <th>31</th>\n",
              "      <td>fooddiefirst</td>\n",
              "      <td>1588513611</td>\n",
              "      <td>Masters Engineering in Innovation, Sustainabil...</td>\n",
              "      <td>UofArizona</td>\n",
              "      <td>I'm really interested in the online ME Innovat...</td>\n",
              "      <td>False</td>\n",
              "      <td>1401</td>\n",
              "    </tr>\n",
              "    <tr>\n",
              "      <th>32</th>\n",
              "      <td>theokayestmanalive</td>\n",
              "      <td>1588513610</td>\n",
              "      <td>[38M4F] The Naughty Babysitter Every Story Des...</td>\n",
              "      <td>dirtypenpals</td>\n",
              "      <td>Obligatory I'm 18+ and you should be too\\n\\nI ...</td>\n",
              "      <td>True</td>\n",
              "      <td>3982</td>\n",
              "    </tr>\n",
              "    <tr>\n",
              "      <th>33</th>\n",
              "      <td>pettroni</td>\n",
              "      <td>1588513609</td>\n",
              "      <td>[TRADE] Andrew Tate - OnlyFans Fortunes</td>\n",
              "      <td>Andrew_Tate_Courses</td>\n",
              "      <td>Hello, I have the OnlyFans Fortunes course by ...</td>\n",
              "      <td>False</td>\n",
              "      <td>1846</td>\n",
              "    </tr>\n",
              "    <tr>\n",
              "      <th>34</th>\n",
              "      <td>DominantxSir25</td>\n",
              "      <td>1588513601</td>\n",
              "      <td>25 [M4F] NYC/Online: Experienced Dom looking f...</td>\n",
              "      <td>BDSMpersonals</td>\n",
              "      <td>I guess ill start out with my kinks since that...</td>\n",
              "      <td>True</td>\n",
              "      <td>1642</td>\n",
              "    </tr>\n",
              "    <tr>\n",
              "      <th>35</th>\n",
              "      <td>tnczno</td>\n",
              "      <td>1588513598</td>\n",
              "      <td>TLDR; my mother is in an abusive relationship ...</td>\n",
              "      <td>relationship_advice</td>\n",
              "      <td>Quick rundown of my family situation, I live w...</td>\n",
              "      <td>False</td>\n",
              "      <td>2294</td>\n",
              "    </tr>\n",
              "    <tr>\n",
              "      <th>36</th>\n",
              "      <td>Xrisplays</td>\n",
              "      <td>1588513596</td>\n",
              "      <td>An analysis on the Valentine's day even in P5R</td>\n",
              "      <td>shumako</td>\n",
              "      <td>This has been actually been in my mind for a w...</td>\n",
              "      <td>False</td>\n",
              "      <td>9265</td>\n",
              "    </tr>\n",
              "    <tr>\n",
              "      <th>37</th>\n",
              "      <td>Ectophial1</td>\n",
              "      <td>1588513596</td>\n",
              "      <td>[PS4] [H] Decent List [W] Offers</td>\n",
              "      <td>RocketLeagueExchange</td>\n",
              "      <td>**CARS**\\n\\n* Striker FG Nimbus\\n* All coloure...</td>\n",
              "      <td>False</td>\n",
              "      <td>4496</td>\n",
              "    </tr>\n",
              "    <tr>\n",
              "      <th>38</th>\n",
              "      <td>orchidsandcheesecake</td>\n",
              "      <td>1588513590</td>\n",
              "      <td>Accepting friends offer to remodel home</td>\n",
              "      <td>legaladvice</td>\n",
              "      <td>I (28) am a single woman who owns a home in T...</td>\n",
              "      <td>False</td>\n",
              "      <td>1422</td>\n",
              "    </tr>\n",
              "    <tr>\n",
              "      <th>39</th>\n",
              "      <td>crnislshr</td>\n",
              "      <td>1588513590</td>\n",
              "      <td>[Excerpts|The Devastation of Baal] Tyranids ar...</td>\n",
              "      <td>40kLore</td>\n",
              "      <td>There  was a fine recent post-explanation [Und...</td>\n",
              "      <td>False</td>\n",
              "      <td>11806</td>\n",
              "    </tr>\n",
              "    <tr>\n",
              "      <th>40</th>\n",
              "      <td>earlericksone</td>\n",
              "      <td>1588513585</td>\n",
              "      <td>Footstock - £15 Bonus (Fantasy Football / Trad...</td>\n",
              "      <td>referralcodes</td>\n",
              "      <td>Sign up here:\\n\\n  \\n[https://www.footstock.c...</td>\n",
              "      <td>False</td>\n",
              "      <td>1289</td>\n",
              "    </tr>\n",
              "    <tr>\n",
              "      <th>41</th>\n",
              "      <td>EnkaChannel</td>\n",
              "      <td>1588513581</td>\n",
              "      <td>Stay Home &amp;amp; Stay Safe</td>\n",
              "      <td>enka</td>\n",
              "      <td>In times of social distance, several Japanese ...</td>\n",
              "      <td>False</td>\n",
              "      <td>1173</td>\n",
              "    </tr>\n",
              "    <tr>\n",
              "      <th>42</th>\n",
              "      <td>TheSnowTimes</td>\n",
              "      <td>1588513580</td>\n",
              "      <td>QB competition &amp;amp; Preseason</td>\n",
              "      <td>CHIBears</td>\n",
              "      <td>The best part of this qb situation is definite...</td>\n",
              "      <td>False</td>\n",
              "      <td>1256</td>\n",
              "    </tr>\n",
              "    <tr>\n",
              "      <th>43</th>\n",
              "      <td>whatstheinternets</td>\n",
              "      <td>1588513580</td>\n",
              "      <td>Engine Compartment Heat - New Exhaust Header?</td>\n",
              "      <td>CherokeeXJ</td>\n",
              "      <td>Hi all,\\n\\n**tldr; 2001, engine compartment ge...</td>\n",
              "      <td>False</td>\n",
              "      <td>1852</td>\n",
              "    </tr>\n",
              "    <tr>\n",
              "      <th>44</th>\n",
              "      <td>sn0097</td>\n",
              "      <td>1588513579</td>\n",
              "      <td>Unsure where I stand with cancelled cruise boo...</td>\n",
              "      <td>LegalAdviceUK</td>\n",
              "      <td>I booked a cruise through a travel agent back ...</td>\n",
              "      <td>False</td>\n",
              "      <td>1008</td>\n",
              "    </tr>\n",
              "    <tr>\n",
              "      <th>45</th>\n",
              "      <td>panjob</td>\n",
              "      <td>1588513579</td>\n",
              "      <td>The wedding invitation</td>\n",
              "      <td>shortscarystories</td>\n",
              "      <td>It was June when I received the postcard. Chad...</td>\n",
              "      <td>False</td>\n",
              "      <td>2506</td>\n",
              "    </tr>\n",
              "  </tbody>\n",
              "</table>\n",
              "</div>"
            ],
            "text/plain": [
              "                  author  created_utc  ... over_18 length\n",
              "0            beachxbunny   1588513712  ...   False   1136\n",
              "1     deadly_nightshaade   1588513709  ...   False   1115\n",
              "2               bear-rah   1588513704  ...   False   1315\n",
              "3               ijlver68   1588513701  ...   False   1553\n",
              "4          CradleTheDead   1588513697  ...   False   1081\n",
              "5                MarcixB   1588513693  ...   False   1232\n",
              "6                Novaxel   1588513691  ...   False  14799\n",
              "7          CradleTheDead   1588513690  ...   False   1081\n",
              "8          sisterjerry83   1588513690  ...   False   3652\n",
              "9                  Dil26   1588513690  ...   False   2847\n",
              "10      OptimisticShaggy   1588513689  ...   False   1067\n",
              "11          PhoenixCodes   1588513681  ...   False   1856\n",
              "12       Ofspaceand_time   1588513676  ...   False   1460\n",
              "13  throweroftheawayssss   1588513674  ...   False   1427\n",
              "14              Allureii   1588513670  ...   False   2478\n",
              "15        L0rdTeddingt0n   1588513670  ...   False   2354\n",
              "16             FintanH28   1588513669  ...   False   1249\n",
              "17       Ofspaceand_time   1588513661  ...   False   1460\n",
              "18     AITAweedthrowaway   1588513658  ...   False   2973\n",
              "19               losGama   1588513657  ...   False   6732\n",
              "20             SuunyWays   1588513656  ...   False   1148\n",
              "21             MonaEBR16   1588513655  ...   False   1228\n",
              "22            Grizzly666   1588513652  ...   False   7946\n",
              "23     pinkwintershadows   1588513652  ...   False   2704\n",
              "24  throweroftheawayssss   1588513649  ...   False   1427\n",
              "25           kawaii_paki   1588513649  ...   False   1621\n",
              "26       ThrowRAdrankund   1588513640  ...   False   1611\n",
              "27              borkis34   1588513633  ...   False   1789\n",
              "28       Dr_ChimRichalds   1588513622  ...   False   1020\n",
              "29           CringeNibba   1588513619  ...    True   2206\n",
              "30               Sleepoi   1588513618  ...   False   2665\n",
              "31          fooddiefirst   1588513611  ...   False   1401\n",
              "32    theokayestmanalive   1588513610  ...    True   3982\n",
              "33              pettroni   1588513609  ...   False   1846\n",
              "34        DominantxSir25   1588513601  ...    True   1642\n",
              "35                tnczno   1588513598  ...   False   2294\n",
              "36             Xrisplays   1588513596  ...   False   9265\n",
              "37            Ectophial1   1588513596  ...   False   4496\n",
              "38  orchidsandcheesecake   1588513590  ...   False   1422\n",
              "39             crnislshr   1588513590  ...   False  11806\n",
              "40         earlericksone   1588513585  ...   False   1289\n",
              "41           EnkaChannel   1588513581  ...   False   1173\n",
              "42          TheSnowTimes   1588513580  ...   False   1256\n",
              "43     whatstheinternets   1588513580  ...   False   1852\n",
              "44                sn0097   1588513579  ...   False   1008\n",
              "45                panjob   1588513579  ...   False   2506\n",
              "\n",
              "[46 rows x 7 columns]"
            ]
          },
          "metadata": {
            "tags": []
          },
          "execution_count": 39
        }
      ]
    },
    {
      "cell_type": "code",
      "metadata": {
        "id": "Q2T9m26TXwou",
        "outputId": "3fa8014f-46fc-4a67-ddca-341b64235586",
        "colab": {
          "base_uri": "https://localhost:8080/",
          "height": 463
        }
      },
      "source": [
        "from pyspark.sql.functions import udf\n",
        "\n",
        "def splitWords(e):\n",
        "  return e.split(\" \")\n",
        "\n",
        "splitWords = udf(splitWords)\n",
        "df.select(splitWords(df.selftext)).show()"
      ],
      "execution_count": null,
      "outputs": [
        {
          "output_type": "stream",
          "text": [
            "+--------------------+\n",
            "|splitWords(selftext)|\n",
            "+--------------------+\n",
            "|                  []|\n",
            "|                  []|\n",
            "|                  []|\n",
            "|                  []|\n",
            "|                  []|\n",
            "|                  []|\n",
            "|[Need, someone, t...|\n",
            "|                  []|\n",
            "|                  []|\n",
            "|                  []|\n",
            "|                  []|\n",
            "|                  []|\n",
            "|                  []|\n",
            "|                  []|\n",
            "|                  []|\n",
            "|                  []|\n",
            "|                  []|\n",
            "|[Title, says, it,...|\n",
            "|                  []|\n",
            "|                  []|\n",
            "+--------------------+\n",
            "only showing top 20 rows\n",
            "\n"
          ],
          "name": "stdout"
        }
      ]
    },
    {
      "cell_type": "markdown",
      "metadata": {
        "id": "y5MF454KVb37"
      },
      "source": [
        "--------\n",
        "\n",
        "\n",
        "<font size=10 color=red>Assignment question</font>\n",
        "\n",
        "Obtain the users who have posted in reddit more than 1k posts in any subreddit\n",
        "\n",
        "--------\n",
        "Answer:"
      ]
    },
    {
      "cell_type": "markdown",
      "metadata": {
        "id": "pjzfM9GNynlT"
      },
      "source": [
        "-----"
      ]
    },
    {
      "cell_type": "markdown",
      "metadata": {
        "id": "JYw2OCoKXgiV"
      },
      "source": [
        "## SQL operations"
      ]
    },
    {
      "cell_type": "markdown",
      "metadata": {
        "id": "EXFw_7RIYotq"
      },
      "source": [
        "### How to declare a view from a Dataframe"
      ]
    },
    {
      "cell_type": "code",
      "metadata": {
        "id": "t3xUrC8xXja1"
      },
      "source": [
        "df.createOrReplaceTempView(\"reddit\")"
      ],
      "execution_count": null,
      "outputs": []
    },
    {
      "cell_type": "code",
      "metadata": {
        "id": "F4xEgHQxYyle",
        "outputId": "838f2298-df52-479b-e3f1-c3aa5cf62bb9",
        "colab": {
          "base_uri": "https://localhost:8080/",
          "height": 274
        }
      },
      "source": [
        "spark.sql(\"select * from reddit limit 10\").show()"
      ],
      "execution_count": null,
      "outputs": [
        {
          "output_type": "stream",
          "text": [
            "+------------------+-----------+--------------------+----------------+--------------------+-------+------+\n",
            "|            author|created_utc|               title|       subreddit|            selftext|over_18|length|\n",
            "+------------------+-----------+--------------------+----------------+--------------------+-------+------+\n",
            "|           Acoal69| 1588513721|       such pleasure|       u_Acoal69|                    |   true|     0|\n",
            "|    Hockey_Sweater| 1588513720|Some sex workers’...|  UnbiasedCanada|                    |  false|     0|\n",
            "|          sps97grt| 1588513719|So I started watc...|  betterCallSaul|                    |  false|     0|\n",
            "|      thirdsurface| 1588513718|Any organizations...|     SouthJersey|                    |  false|     0|\n",
            "|        uixnetwork| 1588513718|Skip Bayless Q&am...|    u_uixnetwork|                    |  false|     0|\n",
            "|  jonathanivoridge| 1588513718|              r/pics|coaxedintoasnafu|                    |  false|     0|\n",
            "|        Darketties| 1588513717|Casino Heist / Bo...|      HeistTeams|Need someone to d...|  false|    52|\n",
            "| mysterious_mosaic| 1588513717|People of Reddit,...|       AskReddit|                    |  false|     0|\n",
            "|     Civil_Working| 1588513717|Today, I fought b...|       gtaonline|                    |  false|     0|\n",
            "|Idontknow123456889| 1588513717|        He change it|             ksi|                    |  false|     0|\n",
            "+------------------+-----------+--------------------+----------------+--------------------+-------+------+\n",
            "\n"
          ],
          "name": "stdout"
        }
      ]
    },
    {
      "cell_type": "markdown",
      "metadata": {
        "id": "bPMXmWxuZAmN"
      },
      "source": [
        "--------\n",
        "\n",
        "\n",
        "<font size=10 color=red>Assignment question</font>\n",
        "\n",
        "Obtain the users who have posted in reddit more than 1k characters in any subreddit with SQL (without using any column named length)\n",
        "\n",
        "--------\n",
        "Answer:"
      ]
    },
    {
      "cell_type": "markdown",
      "metadata": {
        "id": "p2C2IMYEy1xG"
      },
      "source": [
        "----"
      ]
    },
    {
      "cell_type": "markdown",
      "metadata": {
        "id": "hlppkNJXcMj9"
      },
      "source": [
        "## Other libraries"
      ]
    },
    {
      "cell_type": "markdown",
      "metadata": {
        "id": "JkXeyuPpcshd"
      },
      "source": [
        "Beyond dataframes, we can find other libraries that also rely on Spark..."
      ]
    },
    {
      "cell_type": "code",
      "metadata": {
        "id": "fJUekp3JcJrQ",
        "outputId": "ca78b154-0aa2-46fc-a59a-80f39ec3b51a",
        "colab": {
          "base_uri": "https://localhost:8080/",
          "height": 294
        }
      },
      "source": [
        "!pip install koalas"
      ],
      "execution_count": null,
      "outputs": [
        {
          "output_type": "stream",
          "text": [
            "Collecting koalas\n",
            "\u001b[?25l  Downloading https://files.pythonhosted.org/packages/9b/24/8e967dfd7e087393a7d676a9b269b289e7b37ed31875f3f76e7a472f1621/koalas-0.32.0-py3-none-any.whl (593kB)\n",
            "\u001b[K     |████████████████████████████████| 593kB 2.5MB/s \n",
            "\u001b[?25hRequirement already satisfied: matplotlib>=3.0.0 in /usr/local/lib/python3.6/dist-packages (from koalas) (3.2.1)\n",
            "Requirement already satisfied: pandas>=0.23.2 in /usr/local/lib/python3.6/dist-packages (from koalas) (1.0.3)\n",
            "Requirement already satisfied: pyarrow>=0.10 in /usr/local/lib/python3.6/dist-packages (from koalas) (0.14.1)\n",
            "Requirement already satisfied: numpy>=1.14 in /usr/local/lib/python3.6/dist-packages (from koalas) (1.18.3)\n",
            "Requirement already satisfied: python-dateutil>=2.1 in /usr/local/lib/python3.6/dist-packages (from matplotlib>=3.0.0->koalas) (2.8.1)\n",
            "Requirement already satisfied: cycler>=0.10 in /usr/local/lib/python3.6/dist-packages (from matplotlib>=3.0.0->koalas) (0.10.0)\n",
            "Requirement already satisfied: kiwisolver>=1.0.1 in /usr/local/lib/python3.6/dist-packages (from matplotlib>=3.0.0->koalas) (1.2.0)\n",
            "Requirement already satisfied: pyparsing!=2.0.4,!=2.1.2,!=2.1.6,>=2.0.1 in /usr/local/lib/python3.6/dist-packages (from matplotlib>=3.0.0->koalas) (2.4.7)\n",
            "Requirement already satisfied: pytz>=2017.2 in /usr/local/lib/python3.6/dist-packages (from pandas>=0.23.2->koalas) (2018.9)\n",
            "Requirement already satisfied: six>=1.0.0 in /usr/local/lib/python3.6/dist-packages (from pyarrow>=0.10->koalas) (1.12.0)\n",
            "Installing collected packages: koalas\n",
            "Successfully installed koalas-0.32.0\n"
          ],
          "name": "stdout"
        }
      ]
    },
    {
      "cell_type": "code",
      "metadata": {
        "id": "PoabWTVQcQvK",
        "outputId": "cce15ce2-8c26-4649-a681-2db23bf5b199",
        "colab": {
          "base_uri": "https://localhost:8080/",
          "height": 201
        }
      },
      "source": [
        "import databricks.koalas as ks\n",
        "import pandas as pd\n",
        "\n",
        "# Create a Koalas DataFrame from pandas DataFrame\n",
        "kdf = ks.from_pandas(pdf[attrs])\n",
        "\n",
        "kdf.head()"
      ],
      "execution_count": null,
      "outputs": [
        {
          "output_type": "execute_result",
          "data": {
            "text/html": [
              "<div>\n",
              "<style scoped>\n",
              "    .dataframe tbody tr th:only-of-type {\n",
              "        vertical-align: middle;\n",
              "    }\n",
              "\n",
              "    .dataframe tbody tr th {\n",
              "        vertical-align: top;\n",
              "    }\n",
              "\n",
              "    .dataframe thead th {\n",
              "        text-align: right;\n",
              "    }\n",
              "</style>\n",
              "<table border=\"1\" class=\"dataframe\">\n",
              "  <thead>\n",
              "    <tr style=\"text-align: right;\">\n",
              "      <th></th>\n",
              "      <th>author</th>\n",
              "      <th>created_utc</th>\n",
              "      <th>title</th>\n",
              "      <th>subreddit</th>\n",
              "      <th>selftext</th>\n",
              "      <th>over_18</th>\n",
              "    </tr>\n",
              "  </thead>\n",
              "  <tbody>\n",
              "    <tr>\n",
              "      <th>0</th>\n",
              "      <td>Acoal69</td>\n",
              "      <td>1588513721</td>\n",
              "      <td>such pleasure</td>\n",
              "      <td>u_Acoal69</td>\n",
              "      <td></td>\n",
              "      <td>True</td>\n",
              "    </tr>\n",
              "    <tr>\n",
              "      <th>1</th>\n",
              "      <td>Hockey_Sweater</td>\n",
              "      <td>1588513720</td>\n",
              "      <td>Some sex workers’ income has ‘completely disso...</td>\n",
              "      <td>UnbiasedCanada</td>\n",
              "      <td></td>\n",
              "      <td>False</td>\n",
              "    </tr>\n",
              "    <tr>\n",
              "      <th>2</th>\n",
              "      <td>sps97grt</td>\n",
              "      <td>1588513719</td>\n",
              "      <td>So I started watching \"It's Always Sunny in Ph...</td>\n",
              "      <td>betterCallSaul</td>\n",
              "      <td></td>\n",
              "      <td>False</td>\n",
              "    </tr>\n",
              "    <tr>\n",
              "      <th>3</th>\n",
              "      <td>thirdsurface</td>\n",
              "      <td>1588513718</td>\n",
              "      <td>Any organizations in the area need hand saniti...</td>\n",
              "      <td>SouthJersey</td>\n",
              "      <td></td>\n",
              "      <td>False</td>\n",
              "    </tr>\n",
              "    <tr>\n",
              "      <th>4</th>\n",
              "      <td>uixnetwork</td>\n",
              "      <td>1588513718</td>\n",
              "      <td>Skip Bayless Q&amp;amp;amp;A on \"The Last Dance,\" ...</td>\n",
              "      <td>u_uixnetwork</td>\n",
              "      <td></td>\n",
              "      <td>False</td>\n",
              "    </tr>\n",
              "  </tbody>\n",
              "</table>\n",
              "</div>"
            ],
            "text/plain": [
              "           author  created_utc                                                                                                          title       subreddit selftext  over_18\n",
              "0         Acoal69   1588513721                                                                                                  such pleasure       u_Acoal69              True\n",
              "1  Hockey_Sweater   1588513720              Some sex workers’ income has ‘completely dissolved’ due to COVID-19. Here’s how they’re surviving  UnbiasedCanada             False\n",
              "2        sps97grt   1588513719  So I started watching \"It's Always Sunny in Philadelphia\", and I think I've seen that wheelchair somewhere...  betterCallSaul             False\n",
              "3    thirdsurface   1588513718                         Any organizations in the area need hand sanitizer? Looking for a quick local drop off.     SouthJersey             False\n",
              "4      uixnetwork   1588513718    Skip Bayless Q&amp;amp;A on \"The Last Dance,\" Cowboys Draft, Debating Shannon (Teaser Trailer) | UNDISPUTED    u_uixnetwork             False"
            ]
          },
          "metadata": {
            "tags": []
          },
          "execution_count": 44
        }
      ]
    },
    {
      "cell_type": "code",
      "metadata": {
        "id": "BV1TxsPrcrgY",
        "outputId": "2d07b0ed-f628-4a2a-e032-e3c5f7b4bb1a",
        "colab": {
          "base_uri": "https://localhost:8080/",
          "height": 1000
        }
      },
      "source": [
        "kdf[\"sumChars\"] = kdf.selftext.str.len()\n",
        "res = kdf.groupby([\"author\", \"subreddit\"]).sum()\n",
        "res[res.sumChars > 1000]"
      ],
      "execution_count": null,
      "outputs": [
        {
          "output_type": "execute_result",
          "data": {
            "text/html": [
              "<div>\n",
              "<style scoped>\n",
              "    .dataframe tbody tr th:only-of-type {\n",
              "        vertical-align: middle;\n",
              "    }\n",
              "\n",
              "    .dataframe tbody tr th {\n",
              "        vertical-align: top;\n",
              "    }\n",
              "\n",
              "    .dataframe thead th {\n",
              "        text-align: right;\n",
              "    }\n",
              "</style>\n",
              "<table border=\"1\" class=\"dataframe\">\n",
              "  <thead>\n",
              "    <tr style=\"text-align: right;\">\n",
              "      <th></th>\n",
              "      <th></th>\n",
              "      <th>created_utc</th>\n",
              "      <th>sumChars</th>\n",
              "    </tr>\n",
              "    <tr>\n",
              "      <th>author</th>\n",
              "      <th>subreddit</th>\n",
              "      <th></th>\n",
              "      <th></th>\n",
              "    </tr>\n",
              "  </thead>\n",
              "  <tbody>\n",
              "    <tr>\n",
              "      <th>L0rdTeddingt0n</th>\n",
              "      <th>AmItheAsshole</th>\n",
              "      <td>1588513670</td>\n",
              "      <td>2354</td>\n",
              "    </tr>\n",
              "    <tr>\n",
              "      <th>Dil26</th>\n",
              "      <th>forhire</th>\n",
              "      <td>1588513690</td>\n",
              "      <td>2847</td>\n",
              "    </tr>\n",
              "    <tr>\n",
              "      <th>Ofspaceand_time</th>\n",
              "      <th>ArtistLounge</th>\n",
              "      <td>3177027337</td>\n",
              "      <td>2920</td>\n",
              "    </tr>\n",
              "    <tr>\n",
              "      <th>earlericksone</th>\n",
              "      <th>referralcodes</th>\n",
              "      <td>1588513585</td>\n",
              "      <td>1289</td>\n",
              "    </tr>\n",
              "    <tr>\n",
              "      <th>ijlver68</th>\n",
              "      <th>AskWomenOver30</th>\n",
              "      <td>1588513701</td>\n",
              "      <td>1553</td>\n",
              "    </tr>\n",
              "    <tr>\n",
              "      <th>CringeNibba</th>\n",
              "      <th>copypasta</th>\n",
              "      <td>1588513619</td>\n",
              "      <td>2206</td>\n",
              "    </tr>\n",
              "    <tr>\n",
              "      <th>panjob</th>\n",
              "      <th>shortscarystories</th>\n",
              "      <td>1588513579</td>\n",
              "      <td>2506</td>\n",
              "    </tr>\n",
              "    <tr>\n",
              "      <th>EnkaChannel</th>\n",
              "      <th>enka</th>\n",
              "      <td>1588513581</td>\n",
              "      <td>1173</td>\n",
              "    </tr>\n",
              "    <tr>\n",
              "      <th>borkis34</th>\n",
              "      <th>relationship_advice</th>\n",
              "      <td>1588513633</td>\n",
              "      <td>1789</td>\n",
              "    </tr>\n",
              "    <tr>\n",
              "      <th>theokayestmanalive</th>\n",
              "      <th>dirtypenpals</th>\n",
              "      <td>1588513610</td>\n",
              "      <td>3982</td>\n",
              "    </tr>\n",
              "    <tr>\n",
              "      <th>sn0097</th>\n",
              "      <th>LegalAdviceUK</th>\n",
              "      <td>1588513579</td>\n",
              "      <td>1008</td>\n",
              "    </tr>\n",
              "    <tr>\n",
              "      <th>deadly_nightshaade</th>\n",
              "      <th>CruciblePlaybook</th>\n",
              "      <td>1588513709</td>\n",
              "      <td>1115</td>\n",
              "    </tr>\n",
              "    <tr>\n",
              "      <th>kawaii_paki</th>\n",
              "      <th>AskMen</th>\n",
              "      <td>1588513649</td>\n",
              "      <td>1621</td>\n",
              "    </tr>\n",
              "    <tr>\n",
              "      <th>pettroni</th>\n",
              "      <th>Andrew_Tate_Courses</th>\n",
              "      <td>1588513609</td>\n",
              "      <td>1846</td>\n",
              "    </tr>\n",
              "    <tr>\n",
              "      <th>beachxbunny</th>\n",
              "      <th>houseplants</th>\n",
              "      <td>1588513712</td>\n",
              "      <td>1136</td>\n",
              "    </tr>\n",
              "    <tr>\n",
              "      <th>throweroftheawayssss</th>\n",
              "      <th>SuicideWatch</th>\n",
              "      <td>3177027323</td>\n",
              "      <td>2854</td>\n",
              "    </tr>\n",
              "    <tr>\n",
              "      <th>Allureii</th>\n",
              "      <th>AmItheAsshole</th>\n",
              "      <td>1588513670</td>\n",
              "      <td>2478</td>\n",
              "    </tr>\n",
              "    <tr>\n",
              "      <th>sisterjerry83</th>\n",
              "      <th>relationship_advice</th>\n",
              "      <td>1588513690</td>\n",
              "      <td>3652</td>\n",
              "    </tr>\n",
              "    <tr>\n",
              "      <th>OptimisticShaggy</th>\n",
              "      <th>pregnant</th>\n",
              "      <td>1588513689</td>\n",
              "      <td>1067</td>\n",
              "    </tr>\n",
              "    <tr>\n",
              "      <th>PhoenixCodes</th>\n",
              "      <th>AmItheAsshole</th>\n",
              "      <td>1588513681</td>\n",
              "      <td>1856</td>\n",
              "    </tr>\n",
              "    <tr>\n",
              "      <th>ThrowRAdrankund</th>\n",
              "      <th>sex</th>\n",
              "      <td>1588513640</td>\n",
              "      <td>1611</td>\n",
              "    </tr>\n",
              "    <tr>\n",
              "      <th>MarcixB</th>\n",
              "      <th>pcmasterrace</th>\n",
              "      <td>1588513693</td>\n",
              "      <td>1232</td>\n",
              "    </tr>\n",
              "    <tr>\n",
              "      <th>Dr_ChimRichalds</th>\n",
              "      <th>ParrotHeads</th>\n",
              "      <td>1588513622</td>\n",
              "      <td>1020</td>\n",
              "    </tr>\n",
              "    <tr>\n",
              "      <th>whatstheinternets</th>\n",
              "      <th>CherokeeXJ</th>\n",
              "      <td>1588513580</td>\n",
              "      <td>1852</td>\n",
              "    </tr>\n",
              "    <tr>\n",
              "      <th>SuunyWays</th>\n",
              "      <th>OverwhelminglyWhite</th>\n",
              "      <td>1588513656</td>\n",
              "      <td>1148</td>\n",
              "    </tr>\n",
              "    <tr>\n",
              "      <th>TheSnowTimes</th>\n",
              "      <th>CHIBears</th>\n",
              "      <td>1588513580</td>\n",
              "      <td>1256</td>\n",
              "    </tr>\n",
              "    <tr>\n",
              "      <th>Xrisplays</th>\n",
              "      <th>shumako</th>\n",
              "      <td>1588513596</td>\n",
              "      <td>9265</td>\n",
              "    </tr>\n",
              "    <tr>\n",
              "      <th>orchidsandcheesecake</th>\n",
              "      <th>legaladvice</th>\n",
              "      <td>1588513590</td>\n",
              "      <td>1422</td>\n",
              "    </tr>\n",
              "    <tr>\n",
              "      <th>Sleepoi</th>\n",
              "      <th>Ghosts</th>\n",
              "      <td>1588513618</td>\n",
              "      <td>2665</td>\n",
              "    </tr>\n",
              "    <tr>\n",
              "      <th>Novaxel</th>\n",
              "      <th>DecidingToBeBetter</th>\n",
              "      <td>1588513691</td>\n",
              "      <td>14799</td>\n",
              "    </tr>\n",
              "    <tr>\n",
              "      <th>tnczno</th>\n",
              "      <th>relationship_advice</th>\n",
              "      <td>1588513598</td>\n",
              "      <td>2294</td>\n",
              "    </tr>\n",
              "    <tr>\n",
              "      <th>CradleTheDead</th>\n",
              "      <th>RocketLeagueExchange</th>\n",
              "      <td>3177027387</td>\n",
              "      <td>2162</td>\n",
              "    </tr>\n",
              "    <tr>\n",
              "      <th>pinkwintershadows</th>\n",
              "      <th>Dreams</th>\n",
              "      <td>1588513652</td>\n",
              "      <td>2704</td>\n",
              "    </tr>\n",
              "    <tr>\n",
              "      <th>AITAweedthrowaway</th>\n",
              "      <th>AmItheAsshole</th>\n",
              "      <td>1588513658</td>\n",
              "      <td>2973</td>\n",
              "    </tr>\n",
              "    <tr>\n",
              "      <th>DominantxSir25</th>\n",
              "      <th>BDSMpersonals</th>\n",
              "      <td>1588513601</td>\n",
              "      <td>1642</td>\n",
              "    </tr>\n",
              "    <tr>\n",
              "      <th>Ectophial1</th>\n",
              "      <th>RocketLeagueExchange</th>\n",
              "      <td>1588513596</td>\n",
              "      <td>4496</td>\n",
              "    </tr>\n",
              "    <tr>\n",
              "      <th>bear-rah</th>\n",
              "      <th>collapse</th>\n",
              "      <td>1588513704</td>\n",
              "      <td>1315</td>\n",
              "    </tr>\n",
              "    <tr>\n",
              "      <th>-SkeptiCat</th>\n",
              "      <th>Gatineau</th>\n",
              "      <td>3177027385</td>\n",
              "      <td>1474</td>\n",
              "    </tr>\n",
              "    <tr>\n",
              "      <th>FintanH28</th>\n",
              "      <th>unpopularopinion</th>\n",
              "      <td>1588513669</td>\n",
              "      <td>1249</td>\n",
              "    </tr>\n",
              "    <tr>\n",
              "      <th>losGama</th>\n",
              "      <th>swift</th>\n",
              "      <td>1588513657</td>\n",
              "      <td>6732</td>\n",
              "    </tr>\n",
              "    <tr>\n",
              "      <th>fooddiefirst</th>\n",
              "      <th>UofArizona</th>\n",
              "      <td>1588513611</td>\n",
              "      <td>1401</td>\n",
              "    </tr>\n",
              "    <tr>\n",
              "      <th>Grizzly666</th>\n",
              "      <th>battlewagon</th>\n",
              "      <td>1588513652</td>\n",
              "      <td>7946</td>\n",
              "    </tr>\n",
              "    <tr>\n",
              "      <th>MonaEBR16</th>\n",
              "      <th>curlyhair</th>\n",
              "      <td>1588513655</td>\n",
              "      <td>1228</td>\n",
              "    </tr>\n",
              "    <tr>\n",
              "      <th>crnislshr</th>\n",
              "      <th>40kLore</th>\n",
              "      <td>1588513590</td>\n",
              "      <td>11806</td>\n",
              "    </tr>\n",
              "  </tbody>\n",
              "</table>\n",
              "</div>"
            ],
            "text/plain": [
              "                                           created_utc  sumChars\n",
              "author               subreddit                                  \n",
              "L0rdTeddingt0n       AmItheAsshole          1588513670      2354\n",
              "Dil26                forhire                1588513690      2847\n",
              "Ofspaceand_time      ArtistLounge           3177027337      2920\n",
              "earlericksone        referralcodes          1588513585      1289\n",
              "ijlver68             AskWomenOver30         1588513701      1553\n",
              "CringeNibba          copypasta              1588513619      2206\n",
              "panjob               shortscarystories      1588513579      2506\n",
              "EnkaChannel          enka                   1588513581      1173\n",
              "borkis34             relationship_advice    1588513633      1789\n",
              "theokayestmanalive   dirtypenpals           1588513610      3982\n",
              "sn0097               LegalAdviceUK          1588513579      1008\n",
              "deadly_nightshaade   CruciblePlaybook       1588513709      1115\n",
              "kawaii_paki          AskMen                 1588513649      1621\n",
              "pettroni             Andrew_Tate_Courses    1588513609      1846\n",
              "beachxbunny          houseplants            1588513712      1136\n",
              "throweroftheawayssss SuicideWatch           3177027323      2854\n",
              "Allureii             AmItheAsshole          1588513670      2478\n",
              "sisterjerry83        relationship_advice    1588513690      3652\n",
              "OptimisticShaggy     pregnant               1588513689      1067\n",
              "PhoenixCodes         AmItheAsshole          1588513681      1856\n",
              "ThrowRAdrankund      sex                    1588513640      1611\n",
              "MarcixB              pcmasterrace           1588513693      1232\n",
              "Dr_ChimRichalds      ParrotHeads            1588513622      1020\n",
              "whatstheinternets    CherokeeXJ             1588513580      1852\n",
              "SuunyWays            OverwhelminglyWhite    1588513656      1148\n",
              "TheSnowTimes         CHIBears               1588513580      1256\n",
              "Xrisplays            shumako                1588513596      9265\n",
              "orchidsandcheesecake legaladvice            1588513590      1422\n",
              "Sleepoi              Ghosts                 1588513618      2665\n",
              "Novaxel              DecidingToBeBetter     1588513691     14799\n",
              "tnczno               relationship_advice    1588513598      2294\n",
              "CradleTheDead        RocketLeagueExchange   3177027387      2162\n",
              "pinkwintershadows    Dreams                 1588513652      2704\n",
              "AITAweedthrowaway    AmItheAsshole          1588513658      2973\n",
              "DominantxSir25       BDSMpersonals          1588513601      1642\n",
              "Ectophial1           RocketLeagueExchange   1588513596      4496\n",
              "bear-rah             collapse               1588513704      1315\n",
              "-SkeptiCat           Gatineau               3177027385      1474\n",
              "FintanH28            unpopularopinion       1588513669      1249\n",
              "losGama              swift                  1588513657      6732\n",
              "fooddiefirst         UofArizona             1588513611      1401\n",
              "Grizzly666           battlewagon            1588513652      7946\n",
              "MonaEBR16            curlyhair              1588513655      1228\n",
              "crnislshr            40kLore                1588513590     11806"
            ]
          },
          "metadata": {
            "tags": []
          },
          "execution_count": 45
        }
      ]
    },
    {
      "cell_type": "code",
      "metadata": {
        "id": "F32pzCDDeFAE",
        "outputId": "996453b2-1914-4004-8b80-625c7a8fa159",
        "colab": {
          "base_uri": "https://localhost:8080/",
          "height": 283
        }
      },
      "source": [
        "import matplotlib.pyplot as plt\n",
        "plt.hist(res.sumChars.to_numpy())\n",
        "plt.xlabel(\"# characters\")\n",
        "plt.ylabel(\"Frequency\")\n",
        "plt.xscale(\"log\")"
      ],
      "execution_count": null,
      "outputs": [
        {
          "output_type": "display_data",
          "data": {
            "image/png": "[encoded data removed]",
            "text/plain": [
              "<Figure size 432x288 with 1 Axes>"
            ]
          },
          "metadata": {
            "tags": [],
            "needs_background": "light"
          }
        }
      ]
    },
    {
      "cell_type": "code",
      "metadata": {
        "id": "BPNyEFulkHzo",
        "outputId": "cf04256a-a101-4755-8943-50f100a3db96",
        "colab": {
          "base_uri": "https://localhost:8080/",
          "height": 68
        }
      },
      "source": [
        "!curl https://2.bp.blogspot.com/-eGskF3n8_Ag/XE7F3P_de2I/AAAAAAAAHU8/WJw0un2nHqMGA8cFVtv_yFfpBVQJSYyVACK4BGAYYCw/s1600/Icon-Reddit.png > reddit.png\n",
        "from wordcloud import WordCloud, ImageColorGenerator\n",
        "from PIL import Image\n",
        "\n",
        "mask = np.array(Image.open(\"reddit.png\"))\n",
        "text = \" \".join([i for i in kdf.selftext.to_numpy() if len(i) > 0 and i != \"[removed]\" and i!=\"[deleted]\"])"
      ],
      "execution_count": null,
      "outputs": [
        {
          "output_type": "stream",
          "text": [
            "  % Total    % Received % Xferd  Average Speed   Time    Time     Time  Current\n",
            "                                 Dload  Upload   Total   Spent    Left  Speed\n",
            "\r  0     0    0     0    0     0      0      0 --:--:-- --:--:-- --:--:--     0\r100 76154  100 76154    0     0  3098k      0 --:--:-- --:--:-- --:--:-- 3098k\n"
          ],
          "name": "stdout"
        }
      ]
    },
    {
      "cell_type": "code",
      "metadata": {
        "id": "RvcD42CknI2J"
      },
      "source": [
        "text = \" \".join([i for i in kdf.selftext.to_numpy() if len(i) > 0 and i != \"[removed]\" and i!=\"[deleted]\"])\n",
        "wordcloud = WordCloud(max_words=5000, mask=~mask[:,:,0], background_color=\"white\", mode=\"RGBA\").generate(text)\n",
        "# create coloring from image\n",
        "image_colors = ImageColorGenerator(mask)\n",
        "plt.figure(figsize=(20,20))\n",
        "plt.imshow(wordcloud.recolor(color_func=image_colors), interpolation=\"bilinear\")\n",
        "plt.title(\"Most popular topics in posts\")\n",
        "plt.axis(\"off\");"
      ],
      "execution_count": null,
      "outputs": []
    },
    {
      "cell_type": "code",
      "metadata": {
        "id": "EQ5z9FVzp4SV"
      },
      "source": [
        "text = \" \".join([i for i in kdf.title.to_numpy() if len(i) > 0 and i != \"[removed]\" and i!=\"[deleted]\"])\n",
        "wordcloud = WordCloud(max_words=5000, mask=~mask[:,:,0], background_color=\"white\", mode=\"RGBA\").generate(text)\n",
        "# create coloring from image\n",
        "image_colors = ImageColorGenerator(mask)\n",
        "plt.figure(figsize=(20,20))\n",
        "plt.imshow(wordcloud.recolor(color_func=image_colors), interpolation=\"bilinear\")\n",
        "plt.title(\"Most popular topics in title\")\n",
        "plt.axis(\"off\");"
      ],
      "execution_count": null,
      "outputs": []
    },
    {
      "cell_type": "code",
      "metadata": {
        "id": "C7Y8EXxiqIpN"
      },
      "source": [
        "text = \" \".join([i for i in kdf.subreddit.to_numpy() if len(i) > 0 and i != \"[removed]\" and i!=\"[deleted]\"])\n",
        "wordcloud = WordCloud(max_words=5000, mask=~mask[:,:,0], background_color=\"white\", mode=\"RGBA\").generate(text)\n",
        "# create coloring from image\n",
        "image_colors = ImageColorGenerator(mask)\n",
        "plt.figure(figsize=(20,20))\n",
        "plt.imshow(wordcloud.recolor(color_func=image_colors), interpolation=\"bilinear\")\n",
        "plt.title(\"Most popular subreddits\")\n",
        "plt.axis(\"off\");"
      ],
      "execution_count": null,
      "outputs": []
    },
    {
      "cell_type": "markdown",
      "metadata": {
        "id": "ENfW2Od0rMvV"
      },
      "source": [
        "--------\n",
        "\n",
        "\n",
        "<font size=10 color=red>Assignment question</font>\n",
        "\n",
        "Choose a subreddit you like and build a worldcloud using Koalas. Feel free to change the mask or the colors...\n",
        "\n",
        "--------\n",
        "Answer:"
      ]
    }
  ]
}