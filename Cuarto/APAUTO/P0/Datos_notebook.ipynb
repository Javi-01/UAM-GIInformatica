{
 "cells": [
  {
   "cell_type": "code",
   "execution_count": 1,
   "id": "6610dc70",
   "metadata": {},
   "outputs": [],
   "source": [
    "import pandas as pd\n",
    "import numpy as np"
   ]
  },
  {
   "cell_type": "code",
   "execution_count": 2,
   "id": "ce3b7f60",
   "metadata": {},
   "outputs": [],
   "source": [
    "class Datos:\n",
    "\n",
    "    # Constructor: procesar el fichero para asignar correctamente las\n",
    "    # variables nominalAtributos, datos y diccionario\n",
    "    def __init__(self, nombreFichero):\n",
    "\n",
    "        # Leemos el dataset pasado por argumentos, y lo canvertimos en un DataFrame\n",
    "        # de pandas\n",
    "        df = pd.read_csv(nombreFichero)\n",
    "        # Listas de valores nominales (True), o numericos (False)\n",
    "        self.nominalAtributos = []\n",
    "        # conversor de datos nominales a datos numéricos\n",
    "        self.diccionarios = {}\n",
    "        # Array numpy de datos convertidos a forma numerica\n",
    "        self.datos = np.array([])\n",
    "\n",
    "        # Iterar por los atributos (incluye clase)\n",
    "        for attr in df.columns:\n",
    "            # Crear una entrada al diccionario para cada atributo\n",
    "            self.diccionarios[attr] = {}\n",
    "            # Se guarda si es atributo nominal o no, en el array nominalAtributos\n",
    "            if df[attr].dtypes in [np.int64, np.float64]:\n",
    "                self.nominalAtributos.append(False)\n",
    "            elif isinstance(df[attr].dtypes, object):\n",
    "                self.nominalAtributos.append(True)\n",
    "                value = 1\n",
    "                # Se iteran los datos únicos obtenidos para cada atributo nominal, de manera ordenanda\n",
    "                for key in sorted(df[attr].unique()):\n",
    "                    # Se crea una nueva entrada para cada dato nominal con el valor al cual se va a tranformar\n",
    "                    self.diccionarios[attr][key] = value\n",
    "                    value += 1\n",
    "            else:\n",
    "                raise ValueError\n",
    "\n",
    "            # Con el metodo replace, reemplazara los datos de nuestro DataFrame con el mapeo de claves-valor realizadas en diccionarios\n",
    "            df = df.replace(self.diccionarios)\n",
    "\n",
    "            # Finalmente se pasa a array de numpy\n",
    "            self.datos = df.to_numpy()\n",
    "\n",
    "    def extraeDatos(self, idx):\n",
    "\n",
    "        # Lista que almacenará los datos correspondientes a los indices pedidos\n",
    "        listaDatos = []\n",
    "\n",
    "        for i in idx:\n",
    "            listaDatos.append(self.datos[i])\n",
    "\n",
    "        return listaDatos"
   ]
  },
  {
   "cell_type": "code",
   "execution_count": 3,
   "id": "40232550",
   "metadata": {},
   "outputs": [
    {
     "name": "stdout",
     "output_type": "stream",
     "text": [
      "Contenido del diccionario:\n",
      "{'Atr1': {'A11': 1, 'A12': 2, 'A13': 3, 'A14': 4}, 'Atr2': {}, 'Atr3': {'A30': 1, 'A31': 2, 'A32': 3, 'A33': 4, 'A34': 5}, 'Atr4': {'A40': 1, 'A41': 2, 'A410': 3, 'A42': 4, 'A43': 5, 'A44': 6, 'A45': 7, 'A46': 8, 'A48': 9, 'A49': 10}, 'Atr5': {}, 'Atr6': {'A61': 1, 'A62': 2, 'A63': 3, 'A64': 4, 'A65': 5}, 'Atr7': {'A71': 1, 'A72': 2, 'A73': 3, 'A74': 4, 'A75': 5}, 'Atr8': {}, 'Atr9': {'A91': 1, 'A92': 2, 'A93': 3, 'A94': 4}, 'Atr10': {'A101': 1, 'A102': 2, 'A103': 3}, 'Atr11': {}, 'Atr12': {'A121': 1, 'A122': 2, 'A123': 3, 'A124': 4}, 'Atr13': {}, 'Atr14': {'A141': 1, 'A142': 2, 'A143': 3}, 'Atr15': {'A151': 1, 'A152': 2, 'A153': 3}, 'Atr16': {}, 'Atr17': {'A171': 1, 'A172': 2, 'A173': 3, 'A174': 4}, 'Atr18': {}, 'Atr19': {'A191': 1, 'A192': 2}, 'Atr20': {'A201': 1, 'A202': 2}, 'Class': {}}\n",
      "Contenido matriz datos:\n",
      "[   1    6    5    5 1169    5    5    4    3    1    4    1   67    3\n",
      "    2    2    3    1    2    1    1]\n",
      "[   2   48    3    5 5951    1    3    2    2    1    2    1   22    3\n",
      "    2    1    3    1    1    1    2]\n"
     ]
    }
   ],
   "source": [
    "datos = Datos(\"german.csv\")\n",
    "print(\"Contenido del diccionario:\\n\" + str(datos.diccionarios))\n",
    "print(\"Contenido matriz datos:\\n\" + str(datos.datos[0]) + \"\\n\" + str(datos.datos[1]))\n"
   ]
  }
 ],
 "metadata": {
  "kernelspec": {
   "display_name": "Python 3.10.4 64-bit",
   "language": "python",
   "name": "python3"
  },
  "language_info": {
   "codemirror_mode": {
    "name": "ipython",
    "version": 3
   },
   "file_extension": ".py",
   "mimetype": "text/x-python",
   "name": "python",
   "nbconvert_exporter": "python",
   "pygments_lexer": "ipython3",
   "version": "3.10.4"
  },
  "vscode": {
   "interpreter": {
    "hash": "31f2aee4e71d21fbe5cf8b01ff0e069b9275f58929596ceb00d14d90e3e16cd6"
   }
  }
 },
 "nbformat": 4,
 "nbformat_minor": 5
}
