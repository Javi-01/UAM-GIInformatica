{
 "cells": [
  {
   "cell_type": "markdown",
   "metadata": {},
   "source": [
    "Prev"
   ]
  },
  {
   "cell_type": "code",
   "execution_count": 22,
   "metadata": {},
   "outputs": [],
   "source": [
    "import pandas as pd\n",
    "import matplotlib.pyplot as plt\n",
    "import seaborn as sns\n",
    "\n",
    "# Cargar datos\n",
    "ds = pd.read_csv(\"./HT_Sensor_dataset.dat\", sep=\"\\s+\")\n",
    "md = pd.read_csv(\"./HT_Sensor_metadata.dat\", sep=\"\\s+\")\n",
    "# y = df[\"Class\"]"
   ]
  },
  {
   "cell_type": "code",
   "execution_count": 25,
   "metadata": {},
   "outputs": [
    {
     "data": {
      "text/plain": [
       "928991"
      ]
     },
     "execution_count": 25,
     "metadata": {},
     "output_type": "execute_result"
    }
   ],
   "source": [
    "total = ds['id'].count()\n",
    "total"
   ]
  },
  {
   "cell_type": "code",
   "execution_count": 34,
   "metadata": {},
   "outputs": [
    {
     "name": "stdout",
     "output_type": "stream",
     "text": [
      "{'wine': 346580, 'banana': 305444, 'background': 276967}\n"
     ]
    }
   ],
   "source": [
    "count = {'wine': 0, 'banana': 0, 'background': 0}\n",
    "for i, c in zip(md['id'], md['class']):\n",
    "    count[c] += ds[ds['id'] == i]['id'].count()\n",
    "\n",
    "print(count)"
   ]
  },
  {
   "cell_type": "code",
   "execution_count": 35,
   "metadata": {},
   "outputs": [
    {
     "name": "stdout",
     "output_type": "stream",
     "text": [
      "wine 37.30714291096469\n",
      "banana 32.879112930049914\n",
      "background 29.813744158985394\n"
     ]
    }
   ],
   "source": [
    "for k in count:\n",
    "    print(k, 100 * count[k] / total)"
   ]
  },
  {
   "cell_type": "markdown",
   "metadata": {},
   "source": [
    "Post"
   ]
  },
  {
   "cell_type": "code",
   "execution_count": 65,
   "metadata": {},
   "outputs": [],
   "source": [
    "import pandas as pd\n",
    "import matplotlib.pyplot as plt\n",
    "import seaborn as sns\n",
    "import numpy as np\n",
    "\n",
    "# Cargar datos\n",
    "df = pd.read_csv(\"./result.dat\", sep=\"\\s+\")\n",
    "df = df[df['id']>-1]\n",
    "y = df[\"Class\"]"
   ]
  },
  {
   "cell_type": "code",
   "execution_count": 66,
   "metadata": {},
   "outputs": [
    {
     "data": {
      "text/plain": [
       "126385"
      ]
     },
     "execution_count": 66,
     "metadata": {},
     "output_type": "execute_result"
    }
   ],
   "source": [
    "t = y.count()\n",
    "t"
   ]
  },
  {
   "cell_type": "code",
   "execution_count": 67,
   "metadata": {},
   "outputs": [
    {
     "data": {
      "text/plain": [
       "42.37923804248922"
      ]
     },
     "execution_count": 67,
     "metadata": {},
     "output_type": "execute_result"
    }
   ],
   "source": [
    "a = y[y == 'wine'].count()\n",
    "100 * a / t"
   ]
  },
  {
   "cell_type": "code",
   "execution_count": 68,
   "metadata": {},
   "outputs": [
    {
     "data": {
      "text/plain": [
       "30.91031372393876"
      ]
     },
     "execution_count": 68,
     "metadata": {},
     "output_type": "execute_result"
    }
   ],
   "source": [
    "a = y[y == 'banana'].count()\n",
    "100 * a / t"
   ]
  },
  {
   "cell_type": "code",
   "execution_count": 69,
   "metadata": {},
   "outputs": [
    {
     "data": {
      "text/plain": [
       "26.710448233572023"
      ]
     },
     "execution_count": 69,
     "metadata": {},
     "output_type": "execute_result"
    }
   ],
   "source": [
    "a = y[y == 'background'].count()\n",
    "100 * a / t"
   ]
  },
  {
   "cell_type": "markdown",
   "metadata": {},
   "source": [
    "Atributos"
   ]
  },
  {
   "cell_type": "code",
   "execution_count": 2,
   "metadata": {},
   "outputs": [],
   "source": [
    "import pandas as pd\n",
    "import matplotlib.pyplot as plt\n",
    "import seaborn as sns\n",
    "import numpy as np\n",
    "\n",
    "# Cargar datos\n",
    "ds = pd.read_csv(\"./HT_Sensor_dataset.dat\", sep=\"\\s+\")\n",
    "md = pd.read_csv(\"./HT_Sensor_metadata.dat\", sep=\"\\s+\")"
   ]
  },
  {
   "cell_type": "code",
   "execution_count": 15,
   "metadata": {},
   "outputs": [
    {
     "name": "stdout",
     "output_type": "stream",
     "text": [
      "R1\n",
      "  global:       mean=12.185,   std=0.868\n",
      "  banana:       mean=12.214,   std=0.88\n",
      "  background:   mean=12.417,   std=0.309\n",
      "  wine:         mean=11.975,   std=1.083\n",
      "R2\n",
      "  global:       mean=8.958,   std=1.558\n",
      "  banana:       mean=8.966,   std=1.574\n",
      "  background:   mean=9.635,   std=0.627\n",
      "  wine:         mean=8.411,   std=1.829\n",
      "R3\n",
      "  global:       mean=8.945,   std=1.749\n",
      "  banana:       mean=8.951,   std=1.644\n",
      "  background:   mean=9.782,   std=0.624\n",
      "  wine:         mean=8.271,   std=2.119\n",
      "R4\n",
      "  global:       mean=10.13,   std=1.712\n",
      "  banana:       mean=10.111,   std=1.733\n",
      "  background:   mean=10.922,   std=0.723\n",
      "  wine:         mean=9.514,   std=1.977\n",
      "R5\n",
      "  global:       mean=15.154,   std=18.392\n",
      "  banana:       mean=17.473,   std=19.16\n",
      "  background:   mean=11.813,   std=3.663\n",
      "  wine:         mean=15.78,   std=23.63\n",
      "R6\n",
      "  global:       mean=16.052,   std=3.303\n",
      "  banana:       mean=15.199,   std=2.422\n",
      "  background:   mean=16.721,   std=0.778\n",
      "  wine:         mean=16.271,   std=4.748\n",
      "R7\n",
      "  global:       mean=5.391,   std=2.889\n",
      "  banana:       mean=5.329,   std=4.041\n",
      "  background:   mean=6.052,   std=1.879\n",
      "  wine:         mean=4.916,   std=2.141\n",
      "R8\n",
      "  global:       mean=5.913,   std=3.304\n",
      "  banana:       mean=5.948,   std=4.596\n",
      "  background:   mean=6.509,   std=1.746\n",
      "  wine:         mean=5.405,   std=2.769\n",
      "Temp.\n",
      "  global:       mean=27.283,   std=0.905\n",
      "  banana:       mean=27.147,   std=0.887\n",
      "  background:   mean=27.563,   std=0.847\n",
      "  wine:         mean=27.18,   std=0.914\n",
      "Humidity\n",
      "  global:       mean=57.568,   std=4.822\n",
      "  banana:       mean=58.354,   std=4.709\n",
      "  background:   mean=56.678,   std=4.89\n",
      "  wine:         mean=57.587,   std=4.742\n"
     ]
    }
   ],
   "source": [
    "tablaM, tablaS = dict(), dict()\n",
    "clases = {'wine', 'banana', 'background'}\n",
    "for atr in ds:\n",
    "    if atr in {'id', 'time'}:\n",
    "        continue\n",
    "    tablaM[atr], tablaS[atr] = dict(), dict()\n",
    "    print(atr)\n",
    "    glob = ds[atr]\n",
    "    m, s = round(np.mean(glob), 3), round(np.std(glob), 3)\n",
    "    tablaM[atr]['global'], tablaS[atr]['global'] = m, s\n",
    "    print('  global:'.ljust(15), f'mean={m},   std={s}')\n",
    "    for c in clases:\n",
    "        ids = md['id'][md['class']==c]\n",
    "        data = []\n",
    "        for i in ids:\n",
    "            data.extend(ds[ds['id'] == i][atr])\n",
    "        m, s = round(np.mean(data), 3), round(np.std(data), 3)\n",
    "        tablaM[atr][c], tablaS[atr][c] = m, s\n",
    "        print(f'  {c}:'.ljust(15), f'mean={m},   std={s}')"
   ]
  },
  {
   "cell_type": "code",
   "execution_count": 13,
   "metadata": {},
   "outputs": [
    {
     "data": {
      "text/plain": [
       "{'R1': {'global': 12.185,\n",
       "  'banana': 12.214,\n",
       "  'background': 12.417,\n",
       "  'wine': 11.975},\n",
       " 'R2': {'global': 8.958, 'banana': 8.966, 'background': 9.635, 'wine': 8.411},\n",
       " 'R3': {'global': 8.945, 'banana': 8.951, 'background': 9.782, 'wine': 8.271},\n",
       " 'R4': {'global': 10.13,\n",
       "  'banana': 10.111,\n",
       "  'background': 10.922,\n",
       "  'wine': 9.514},\n",
       " 'R5': {'global': 15.154,\n",
       "  'banana': 17.473,\n",
       "  'background': 11.813,\n",
       "  'wine': 15.78},\n",
       " 'R6': {'global': 16.052,\n",
       "  'banana': 15.199,\n",
       "  'background': 16.721,\n",
       "  'wine': 16.271},\n",
       " 'R7': {'global': 5.391, 'banana': 5.329, 'background': 6.052, 'wine': 4.916},\n",
       " 'R8': {'global': 5.913, 'banana': 5.948, 'background': 6.509, 'wine': 5.405},\n",
       " 'Temp.': {'global': 27.283,\n",
       "  'banana': 27.147,\n",
       "  'background': 27.563,\n",
       "  'wine': 27.18},\n",
       " 'Humidity': {'global': 57.568,\n",
       "  'banana': 58.354,\n",
       "  'background': 56.678,\n",
       "  'wine': 57.587}}"
      ]
     },
     "execution_count": 13,
     "metadata": {},
     "output_type": "execute_result"
    }
   ],
   "source": [
    "tablaM"
   ]
  },
  {
   "cell_type": "code",
   "execution_count": 4,
   "metadata": {},
   "outputs": [
    {
     "name": "stdout",
     "output_type": "stream",
     "text": [
      "R1\n",
      "  global:       mean=12.185,   std=0.868\n",
      "  background:   mean=12.417,   std=0.309\n",
      "  wine:         mean=11.975,   std=1.083\n",
      "  banana:       mean=12.214,   std=0.88\n",
      "R2\n",
      "  global:       mean=8.958,   std=1.558\n",
      "  background:   mean=9.635,   std=0.627\n",
      "  wine:         mean=8.411,   std=1.829\n",
      "  banana:       mean=8.966,   std=1.574\n",
      "R3\n",
      "  global:       mean=8.945,   std=1.749\n",
      "  background:   mean=9.782,   std=0.624\n",
      "  wine:         mean=8.271,   std=2.119\n",
      "  banana:       mean=8.951,   std=1.644\n",
      "R4\n",
      "  global:       mean=10.13,   std=1.712\n",
      "  background:   mean=10.922,   std=0.723\n",
      "  wine:         mean=9.514,   std=1.977\n",
      "  banana:       mean=10.111,   std=1.733\n",
      "R5\n",
      "  global:       mean=15.154,   std=18.392\n",
      "  background:   mean=11.813,   std=3.663\n",
      "  wine:         mean=15.78,   std=23.63\n",
      "  banana:       mean=17.473,   std=19.16\n",
      "R6\n",
      "  global:       mean=16.052,   std=3.303\n",
      "  background:   mean=16.721,   std=0.778\n",
      "  wine:         mean=16.271,   std=4.748\n",
      "  banana:       mean=15.199,   std=2.422\n",
      "R7\n",
      "  global:       mean=5.391,   std=2.889\n",
      "  background:   mean=6.052,   std=1.879\n",
      "  wine:         mean=4.916,   std=2.141\n",
      "  banana:       mean=5.329,   std=4.041\n",
      "R8\n",
      "  global:       mean=5.913,   std=3.304\n",
      "  background:   mean=6.509,   std=1.746\n",
      "  wine:         mean=5.405,   std=2.769\n",
      "  banana:       mean=5.948,   std=4.596\n",
      "Temp.\n",
      "  global:       mean=27.283,   std=0.905\n",
      "  background:   mean=27.563,   std=0.847\n",
      "  wine:         mean=27.18,   std=0.914\n",
      "  banana:       mean=27.147,   std=0.887\n",
      "Humidity\n",
      "  global:       mean=57.568,   std=4.822\n",
      "  background:   mean=56.678,   std=4.89\n",
      "  wine:         mean=57.587,   std=4.742\n",
      "  banana:       mean=58.354,   std=4.709\n"
     ]
    }
   ],
   "source": [
    "x_labels = []\n",
    "y_vals_M = {'global': [], 'wine': [], 'banana': [], 'background': []}\n",
    "y_vals_S = {'global': [], 'wine': [], 'banana': [], 'background': []}\n",
    "clases = {'wine', 'banana', 'background'}\n",
    "for atr in ds:\n",
    "    if atr in {'id', 'time'}:\n",
    "        continue\n",
    "    x_labels.append(atr)\n",
    "    print(atr)\n",
    "    glob = ds[atr]\n",
    "    m, s = round(np.mean(glob), 3), round(np.std(glob), 3)\n",
    "    y_vals_M['global'].append(m)\n",
    "    y_vals_S['global'].append(s)\n",
    "    print('  global:'.ljust(15), f'mean={m},   std={s}')\n",
    "    for c in clases:\n",
    "        ids = md['id'][md['class']==c]\n",
    "        data = []\n",
    "        for i in ids:\n",
    "            data.extend(ds[ds['id'] == i][atr])\n",
    "        m, s = round(np.mean(data), 3), round(np.std(data), 3)\n",
    "        y_vals_M[c].append(m)\n",
    "        y_vals_S[c].append(s)\n",
    "        print(f'  {c}:'.ljust(15), f'mean={m},   std={s}')"
   ]
  },
  {
   "cell_type": "code",
   "execution_count": 19,
   "metadata": {},
   "outputs": [
    {
     "data": {
      "text/plain": [
       "{'global': [12.185,\n",
       "  8.958,\n",
       "  8.945,\n",
       "  10.13,\n",
       "  15.154,\n",
       "  16.052,\n",
       "  5.391,\n",
       "  5.913,\n",
       "  27.283,\n",
       "  57.568],\n",
       " 'wine': [11.975,\n",
       "  8.411,\n",
       "  8.271,\n",
       "  9.514,\n",
       "  15.78,\n",
       "  16.271,\n",
       "  4.916,\n",
       "  5.405,\n",
       "  27.18,\n",
       "  57.587],\n",
       " 'banana': [12.214,\n",
       "  8.966,\n",
       "  8.951,\n",
       "  10.111,\n",
       "  17.473,\n",
       "  15.199,\n",
       "  5.329,\n",
       "  5.948,\n",
       "  27.147,\n",
       "  58.354],\n",
       " 'background': [12.417,\n",
       "  9.635,\n",
       "  9.782,\n",
       "  10.922,\n",
       "  11.813,\n",
       "  16.721,\n",
       "  6.052,\n",
       "  6.509,\n",
       "  27.563,\n",
       "  56.678]}"
      ]
     },
     "execution_count": 19,
     "metadata": {},
     "output_type": "execute_result"
    }
   ],
   "source": [
    "y_vals_M"
   ]
  },
  {
   "cell_type": "code",
   "execution_count": 20,
   "metadata": {},
   "outputs": [
    {
     "data": {
      "text/plain": [
       "Text(0.5, 1.0, 'Medias')"
      ]
     },
     "execution_count": 20,
     "metadata": {},
     "output_type": "execute_result"
    },
    {
     "data": {
      "image/png": "[encoded data removed]",
      "text/plain": [
       "<Figure size 432x288 with 1 Axes>"
      ]
     },
     "metadata": {
      "needs_background": "light"
     },
     "output_type": "display_data"
    }
   ],
   "source": [
    "\n",
    "for k in y_vals_M:\n",
    "    plt.plot(x_labels[:-2], y_vals_M[k][:-2], label=k)\n",
    "plt.legend()\n",
    "plt.title('Medias')"
   ]
  },
  {
   "cell_type": "code",
   "execution_count": 21,
   "metadata": {},
   "outputs": [
    {
     "data": {
      "text/plain": [
       "Text(0.5, 1.0, 'Desviación típica')"
      ]
     },
     "execution_count": 21,
     "metadata": {},
     "output_type": "execute_result"
    },
    {
     "data": {
      "image/png": "[encoded data removed]",
      "text/plain": [
       "<Figure size 432x288 with 1 Axes>"
      ]
     },
     "metadata": {
      "needs_background": "light"
     },
     "output_type": "display_data"
    }
   ],
   "source": [
    "\n",
    "for k in y_vals_S:\n",
    "    plt.plot(x_labels[:-2], y_vals_S[k][:-2], label=k)\n",
    "plt.legend()\n",
    "plt.title('Desviación típica')"
   ]
  },
  {
   "cell_type": "code",
   "execution_count": 40,
   "metadata": {},
   "outputs": [
    {
     "data": {
      "text/plain": [
       "<matplotlib.legend.Legend at 0x187a1bbd2b0>"
      ]
     },
     "execution_count": 40,
     "metadata": {},
     "output_type": "execute_result"
    },
    {
     "data": {
      "image/png": "[encoded data removed]",
      "text/plain": [
       "<Figure size 432x288 with 2 Axes>"
      ]
     },
     "metadata": {
      "needs_background": "light"
     },
     "output_type": "display_data"
    }
   ],
   "source": [
    "fig, axes = plt.subplots(2, 1)\n",
    "axes[0].set_title('Medias y desviaciones típicas')\n",
    "\n",
    "for i, y in zip((0, 1), (y_vals_M, y_vals_S)):\n",
    "    ax = axes[i]\n",
    "    for k in y:\n",
    "        ax.plot(x_labels[:-2], y[k][:-2], label=k)\n",
    "ax.legend()\n"
   ]
  }
 ],
 "metadata": {
  "interpreter": {
   "hash": "920c69d45b65dd50c54e0aafc90b96108bf21adc56c5f404bd4e3c503caad545"
  },
  "kernelspec": {
   "display_name": "Python 3.6.4 64-bit",
   "language": "python",
   "name": "python3"
  },
  "language_info": {
   "codemirror_mode": {
    "name": "ipython",
    "version": 3
   },
   "file_extension": ".py",
   "mimetype": "text/x-python",
   "name": "python",
   "nbconvert_exporter": "python",
   "pygments_lexer": "ipython3",
   "version": "3.6.4"
  },
  "orig_nbformat": 4
 },
 "nbformat": 4,
 "nbformat_minor": 2
}
