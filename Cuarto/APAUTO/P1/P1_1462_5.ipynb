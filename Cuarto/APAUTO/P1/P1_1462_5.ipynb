{
 "cells": [
  {
   "cell_type": "markdown",
   "metadata": {},
   "source": [
    "## Integrantes\n",
    "Iván Fernandez París\n",
    "\n",
    "Javier Fraile Iglesias"
   ]
  },
  {
   "cell_type": "markdown",
   "metadata": {},
   "source": [
    "# APARTADO 1"
   ]
  },
  {
   "cell_type": "code",
   "execution_count": 2,
   "metadata": {},
   "outputs": [],
   "source": [
    "from Datos import Datos\n",
    "import EstrategiaParticionado\n",
    "import ClasificadorNB"
   ]
  },
  {
   "cell_type": "code",
   "execution_count": 3,
   "metadata": {},
   "outputs": [],
   "source": [
    "dataset_ttt = Datos('./tic-tac-toe.csv')\n",
    "dataset_german = Datos('./german.csv')"
   ]
  },
  {
   "cell_type": "code",
   "execution_count": 4,
   "metadata": {},
   "outputs": [],
   "source": [
    "# Creamos las estrategias de particionado para validacion simple y cruzada\n",
    "estrategia_vs = EstrategiaParticionado.ValidacionSimple(5, 30)\n",
    "estrategia_vc = EstrategiaParticionado.ValidacionCruzada(10)"
   ]
  },
  {
   "cell_type": "code",
   "execution_count": 5,
   "metadata": {},
   "outputs": [],
   "source": [
    "# Inicializamos los clasificadores\n",
    "clasificador = ClasificadorNB.ClasificadorNaiveBayes()\n",
    "clasificador_laplace = ClasificadorNB.ClasificadorNaiveBayes(laplace=True)"
   ]
  },
  {
   "cell_type": "code",
   "execution_count": 7,
   "metadata": {},
   "outputs": [],
   "source": [
    "errores_ttt_vs = clasificador.validacion(estrategia_vs, dataset_ttt)\n",
    "errores_ttt_vc = clasificador.validacion(estrategia_vc, dataset_ttt)\n",
    "\n",
    "errores_lp_ttt_vs = clasificador_laplace.validacion(estrategia_vs, dataset_ttt)\n",
    "errores_lp_ttt_vc = clasificador_laplace.validacion(estrategia_vc, dataset_ttt)\n",
    "\n",
    "errores_german_vs = clasificador.validacion(estrategia_vs, dataset_german)\n",
    "errores_german_vc = clasificador.validacion(estrategia_vc, dataset_german)\n",
    "\n",
    "errores_lp_german_vs = clasificador_laplace.validacion(estrategia_vs, dataset_german)\n",
    "errores_lp_german_vc = clasificador_laplace.validacion(estrategia_vc, dataset_german)"
   ]
  },
  {
   "cell_type": "markdown",
   "metadata": {},
   "source": [
    "### Errores (Nuestro Modelo)\n",
    "\n",
    "|   Dataset   | Estrategia | Laplace | Media_Error | Desviacion Típica |\n",
    "|-------------|------------|---------|-------------|-------------------|\n",
    "| tic-tac-toe |  V.Simple  |    No   |  0.3076923  |     0.0119086     |\n",
    "| tic-tac-toe |  V.Simple  |    Si   |  0.3076923  |     0.0119086     |\n",
    "| tic-tac-toe | V.Cruzada  |    No   |  0.5611702  |     0.2263288     |\n",
    "| tic-tac-toe | V.Cruzada  |    Si   |  0.5611702  |     0.2263288     |\n",
    "|   german    |  V.Simple  |    No   |  0.2566433  |     0.0215084     |\n",
    "|   german    |  V.Simple  |    Si   |  0.2566433  |     0.0215084     |\n",
    "|   german    | V.Cruzada  |    No   |  0.2556515  |     0.0393679     |\n",
    "|   german    | V.Cruzada  |    Si   |  0.2556515  |     0.0393679     |"
   ]
  },
  {
   "cell_type": "markdown",
   "metadata": {},
   "source": [
    "### Analisis de los resultados\n",
    "\n",
    "En cuanto a los resultados, en tic-tac-toe, los errores en la validacion cruzada y la simple, son mas distantes; mientras que en german, se mantienen parejos. \n",
    "\n",
    "Respecto al efecto de Lapalce, de la forma en la que lo hemos aplicado, no afecta a los resultados. Esto se debe a que la correccion afecta cuado un suceso no ocurre (probabilidad 0), pero en estos conjuntos de datos no se da esta condicion. En general, Laplace puede no afectar a la decision final del clasificador."
   ]
  },
  {
   "cell_type": "markdown",
   "metadata": {},
   "source": [
    "# Apartado 2"
   ]
  },
  {
   "cell_type": "code",
   "execution_count": 6,
   "metadata": {},
   "outputs": [],
   "source": [
    "import pandas as pd\n",
    "import numpy as np\n",
    "from sklearn.preprocessing import OneHotEncoder\n",
    "from sklearn.model_selection import train_test_split, cross_val_score\n",
    "from sklearn.naive_bayes import MultinomialNB, GaussianNB, CategoricalNB"
   ]
  },
  {
   "cell_type": "markdown",
   "metadata": {},
   "source": [
    "### Preparacion de datos"
   ]
  },
  {
   "cell_type": "code",
   "execution_count": 7,
   "metadata": {},
   "outputs": [],
   "source": [
    "# Sobre nuestros datos german y ttt\n",
    "data_ttt = pd.DataFrame(dataset_ttt.datos)\n",
    "data_german = pd.DataFrame(dataset_german.datos)\n",
    "\n",
    "# Obtenemos todos los atributos X y la clase y de tic-tac-toe.csv\n",
    "X_ttt = data_ttt.iloc[:, :-1]\n",
    "y_ttt = data_ttt.iloc[:, -1]\n",
    "\n",
    "# Obtenemos todos los atributos X y la clase y de german.csv\n",
    "X_german = data_german.iloc[:, :-1]\n",
    "y_german = data_german.iloc[:, -1]"
   ]
  },
  {
   "cell_type": "markdown",
   "metadata": {},
   "source": [
    "### Creación de modelos"
   ]
  },
  {
   "cell_type": "code",
   "execution_count": 8,
   "metadata": {},
   "outputs": [],
   "source": [
    "# GaussianModel\n",
    "gaussian_model = GaussianNB()\n",
    "\n",
    "# MultinomialModel\n",
    "multinomial_model = MultinomialNB(fit_prior=False)\n",
    "multinomial_model_laplace = MultinomialNB(fit_prior=False, alpha=1)\n",
    "\n",
    "# CategoricalModel\n",
    "categorical_model = CategoricalNB(fit_prior=False)\n",
    "categorical_model_laplace = CategoricalNB(fit_prior=False, alpha =1)"
   ]
  },
  {
   "cell_type": "markdown",
   "metadata": {},
   "source": [
    "### Validaciones simple y cruzada con Sklearn"
   ]
  },
  {
   "cell_type": "code",
   "execution_count": 9,
   "metadata": {},
   "outputs": [],
   "source": [
    "# Funcion auxiliar que devuelve la lista de errores para el modelo especifico (Validacion simple)\n",
    "def errors_VS(X, y, size, n_ejec, model):\n",
    "    errors = []\n",
    "    errors_laplace = []\n",
    "    \n",
    "    for i in range(0, n_ejec):\n",
    "        # Split the data\n",
    "        X_train, X_test, y_train, y_test = train_test_split(X, y, test_size=size)        \n",
    "        \n",
    "        if model == \"gaussian_model\":\n",
    "            # Se ajustan los datos y se anota el error (1 - acierto)\n",
    "            gaussian_model.fit(X_train, y_train)\n",
    "            errors.append(1 - gaussian_model.score(X_test, y_test))\n",
    "        elif model == \"multinomial_model\":\n",
    "            multinomial_model.fit(X_train, y_train)\n",
    "            errors.append(1 - multinomial_model.score(X_test, y_test))\n",
    "            multinomial_model_laplace.fit(X_train, y_train)\n",
    "            errors_laplace.append(1 - multinomial_model_laplace.score(X_test, y_test))\n",
    "        elif model == \"categorical_model\":\n",
    "            categorical_model.fit(X_train, y_train)\n",
    "            errors.append(1 - categorical_model.score(X_test, y_test))\n",
    "            categorical_model_laplace.fit(X_train, y_train)\n",
    "            errors_laplace.append(1 - categorical_model_laplace.score(X_test, y_test))\n",
    "        else:\n",
    "            return 0\n",
    "        \n",
    "    return errors, errors_laplace"
   ]
  },
  {
   "cell_type": "code",
   "execution_count": 10,
   "metadata": {},
   "outputs": [],
   "source": [
    "# Funcion auxiliar que devuelve la lista de errores para el modelo especifico (Validacion Cruzada)\n",
    "\n",
    "def errors_VC(X, y, folds, model):\n",
    "    errors = []\n",
    "    errors_laplace = []\n",
    "    \n",
    "    if model == \"gaussian_model\":\n",
    "        errors = cross_val_score(gaussian_model, X, y, cv=folds)\n",
    "    elif model == \"multinomial_model\":\n",
    "        errors = cross_val_score(multinomial_model, X, y, cv=folds)\n",
    "        errors_laplace = cross_val_score(multinomial_model_laplace, X, y, cv=folds)\n",
    "    elif model == \"categorical_model\":\n",
    "        errors = cross_val_score(categorical_model, X, y, cv=folds)\n",
    "        errors_laplace = cross_val_score(categorical_model_laplace, X, y, cv=folds)\n",
    "    else:\n",
    "        return 0\n",
    "    \n",
    "    return errors, errors_laplace"
   ]
  },
  {
   "cell_type": "markdown",
   "metadata": {},
   "source": [
    "#### GaussianNB"
   ]
  },
  {
   "cell_type": "code",
   "execution_count": 11,
   "metadata": {},
   "outputs": [],
   "source": [
    "# Validacion simple con 5 ejecuciones para GaussianNB\n",
    "\n",
    "# 30% de test y 5 iteraciones sobre tic-tac-toe\n",
    "errors_ttt, _ = errors_VS(X_ttt, y_ttt, 0.3, 10, \"gaussian_model\")\n",
    "\n",
    "# 30% de test y 5 iteraciones sobre tic-tac-toe\n",
    "errors_german, _ = errors_VS(X_german, y_german, 0.3, 10, \"gaussian_model\")"
   ]
  },
  {
   "cell_type": "code",
   "execution_count": 12,
   "metadata": {},
   "outputs": [],
   "source": [
    "# Validacion cruzada con 10 particiones para GaussianNB\n",
    "\n",
    "# 10 particiones para tic-tac-toe\n",
    "errors_ttt, _ = errors_VC(X_ttt, y_ttt, 10, \"gaussian_model\")\n",
    "\n",
    "# 10 particiones para german\n",
    "errors_german, _ = errors_VC(X_german, y_german, 10, \"gaussian_model\")"
   ]
  },
  {
   "cell_type": "markdown",
   "metadata": {},
   "source": [
    "#### MultinomialNB"
   ]
  },
  {
   "cell_type": "code",
   "execution_count": 13,
   "metadata": {},
   "outputs": [],
   "source": [
    "# Validacion simple con 5 ejecuciones para MultinomialNB\n",
    "\n",
    "# 30% de test y 5 iteraciones sobre tic-tac-toe\n",
    "errors_ttt, errors_ttt_laplace = errors_VS(X_ttt, y_ttt, 0.3, 5, \"multinomial_model\")\n",
    "\n",
    "# 30% de test y 5 iteraciones sobre tic-tac-toe\n",
    "errors_german, errors_german_laplace = errors_VS(X_german, y_german, 0.3, 5, \"multinomial_model\")"
   ]
  },
  {
   "cell_type": "code",
   "execution_count": 14,
   "metadata": {},
   "outputs": [],
   "source": [
    "# Validacion simple con 5 ejecuciones para MultinomialNB\n",
    "\n",
    "# 10 particiones para tic-tac-toe\n",
    "errors_ttt, errors_ttt_laplace = errors_VC(X_ttt, y_ttt, 10, \"multinomial_model\")\n",
    "\n",
    "# 10 particiones para german\n",
    "errors_german, errors_german_laplace = errors_VC(X_german, y_german, 10, \"multinomial_model\")"
   ]
  },
  {
   "cell_type": "markdown",
   "metadata": {},
   "source": [
    "#### CategoricalNB"
   ]
  },
  {
   "cell_type": "code",
   "execution_count": 15,
   "metadata": {},
   "outputs": [],
   "source": [
    "# Validacion simple con 5 ejecuciones para CategoricalNB\n",
    "\n",
    "# 30% de test y 5 iteraciones sobre tic-tac-toe\n",
    "errors_ttt, errors_ttt_laplace = errors_VS(X_ttt, y_ttt, 0.3, 5, \"categorical_model\")"
   ]
  },
  {
   "cell_type": "code",
   "execution_count": 16,
   "metadata": {
    "scrolled": true
   },
   "outputs": [],
   "source": [
    "# Validacion cruzada con 10 particiones para CategoricalNB\n",
    "\n",
    "# 10 particiones para tic-tac-toe\n",
    "errors_ttt, errors_ttt_laplace = errors_VC(X_ttt, y_ttt, 10, \"categorical_model\")"
   ]
  },
  {
   "cell_type": "markdown",
   "metadata": {},
   "source": [
    "### Errores (Con Sklearn)\n",
    "\n",
    "|   Dataset   | Estrategia | Laplace | Gaussian(mean) | Gaussian(std) |MultinomialNB(mean)|MultinomialNB(std)|CategoricalNB(mean)| CategoricalNB(std)|\n",
    "|-------------|------------|---------|----------------|---------------|-------------------|------------------|-------------------|-------------------|\n",
    "| tic-tac-toe |  V.Simple  |    No   |   0.2958333    |   0.0123055   |   0.4104166       |   0.0217838      |   0.3236111       |   0.0341903       |\n",
    "| tic-tac-toe |  V.Simple  |    Si   |   0.2958333    |   0.0123055   |   0.4104166       |   0.0217838      |   0.3236111       |   0.0341903   |\n",
    "| tic-tac-toe | V.Cruzada  |    No   |   0.6858662    |   0.0332495   |   0.5322587       |   0.0956273      |   0.6034978       |   0.1093299   |\n",
    "| tic-tac-toe | V.Cruzada  |    Si   |   0.6858662    |   0.0332495   |   0.5322587       |   0.0956273      |   0.6034978       |   0.1093299   |\n",
    "|   german    |  V.Simple  |    No   |   0.2686666    |   0.0225487   |   0.3440000       |   0.0180616      |   ---------       |   ---------   |\n",
    "|   german    |  V.Simple  |    Si   |   0.2686666    |   0.0225487   |   0.3440000       |   0.0180616      |   ---------       |   ---------   |\n",
    "|   german    | V.Cruzada  |    No   |   0.7340000    |   0.0431740   |   0.6270000       |   0.0661891      |   ---------       |   ---------   |\n",
    "|   german    | V.Cruzada  |    Si   |   0.7340000    |   0.0431740   |   0.6270000       |   0.0661891      |   ---------       |   ---------   |"
   ]
  },
  {
   "cell_type": "markdown",
   "metadata": {},
   "source": [
    "### Discursión de Resultados\n",
    "\n",
    "Descartamos en ambos modelos el clasificador MultinomialNB, puesto que es la version Naive Bayes para datos distribuidos multinomialmente, es decir, es una generalizacion de la distribucion binomial cuando el experimento no tiene solo dos resultados posibles, si no, tres o mas (en nuestro caso son dos psibilidades de resultados).\n",
    "\n",
    "Para el conjunto de datos tic-tac-toe, creemos que el mejor modelo es el categoricalNB, ya que dicho modelo es la version Naive Bayes para datos categoricos (todos los atributos son categoricos), y cada atributo sigue su distribucion categorica.\n",
    "\n",
    "Para el conjunto german, el mejor debe ser el gaussian porque descartamos Multinomial, y categorical no se puede ejecutar ya que no todos los atributos son categoricos."
   ]
  },
  {
   "cell_type": "markdown",
   "metadata": {},
   "source": [
    "## Preparacion de datos (One Hot Encoder)"
   ]
  },
  {
   "cell_type": "code",
   "execution_count": 17,
   "metadata": {},
   "outputs": [],
   "source": [
    "# Se aplica oneHotEncoder a todos las filas del dataset, menos a la clase\n",
    "dataframe = pd.read_csv('./tic-tac-toe.csv')\n",
    "\n",
    "# Obtenemos todos los atributos X y la clase y de tic-tac-toe.csv\n",
    "X_ttt = dataframe.iloc[:, :-1]\n",
    "y_ttt = dataframe.iloc[:, -1]\n",
    "\n",
    "# Aplicamos oneHotEncoder para los datos\n",
    "nominal_categories = np.asarray(X_ttt)\n",
    "encoder = OneHotEncoder(sparse=False, dtype=np.int32)\n",
    "onehot = encoder.fit(nominal_categories)\n",
    "X_ttt = encoder.transform(nominal_categories)"
   ]
  },
  {
   "cell_type": "markdown",
   "metadata": {},
   "source": [
    "#### GaussianNB"
   ]
  },
  {
   "cell_type": "code",
   "execution_count": 18,
   "metadata": {
    "scrolled": false
   },
   "outputs": [],
   "source": [
    "# Validacion simple con 5 ejecuciones para GaussianNB\n",
    "\n",
    "# 30% de test y 5 iteraciones sobre tic-tac-toe\n",
    "errors_ttt, _ = errors_VS(X_ttt, y_ttt, 0.3, 5, \"gaussian_model\")"
   ]
  },
  {
   "cell_type": "code",
   "execution_count": 19,
   "metadata": {},
   "outputs": [],
   "source": [
    "# Validacion cruzada con 10 particiones para GaussianNB\n",
    "\n",
    "# 10 particiones para tic-tac-toe\n",
    "errors_ttt, _ = errors_VC(X_ttt, y_ttt, 10, \"gaussian_model\")"
   ]
  },
  {
   "cell_type": "markdown",
   "metadata": {},
   "source": [
    "#### MultinomialNB"
   ]
  },
  {
   "cell_type": "code",
   "execution_count": 20,
   "metadata": {},
   "outputs": [],
   "source": [
    "# Validacion simple con 5 ejecuciones para MultinomialNB\n",
    "\n",
    "# 30% de test y 5 iteraciones sobre tic-tac-toe\n",
    "errors_ttt, errors_ttt_laplace = errors_VS(X_ttt, y_ttt, 0.3, 5, \"multinomial_model\")"
   ]
  },
  {
   "cell_type": "code",
   "execution_count": 21,
   "metadata": {},
   "outputs": [],
   "source": [
    "# Validacion simple con 5 ejecuciones para MultinomialNB\n",
    "\n",
    "# 10 particiones para tic-tac-toe\n",
    "errors_ttt, errors_ttt_laplace = errors_VC(X_ttt, y_ttt, 10, \"multinomial_model\")"
   ]
  },
  {
   "cell_type": "markdown",
   "metadata": {},
   "source": [
    "#### CategoricalNB"
   ]
  },
  {
   "cell_type": "code",
   "execution_count": 22,
   "metadata": {},
   "outputs": [],
   "source": [
    "# Validacion simple con 5 ejecuciones para CategoricalNB\n",
    "\n",
    "# 30% de test y 5 iteraciones sobre tic-tac-toe\n",
    "errors_ttt, errors_ttt_laplace = errors_VS(X_ttt, y_ttt, 0.3, 5, \"categorical_model\")"
   ]
  },
  {
   "cell_type": "code",
   "execution_count": 23,
   "metadata": {},
   "outputs": [],
   "source": [
    "# Validacion cruzada con 10 particiones para CategoricalNB\n",
    "\n",
    "# 10 particiones para tic-tac-toe\n",
    "errors_ttt, errors_ttt_laplace = errors_VC(X_ttt, y_ttt, 10, \"categorical_model\")"
   ]
  },
  {
   "cell_type": "markdown",
   "metadata": {},
   "source": [
    "### Errores (One Hot Encoder)\n",
    "\n",
    "|     Clasificador    | Estrategia | Laplace | Media_Error | Desviacion Típica |\n",
    "|---------------|------------|---------|-------------|-------------------|\n",
    "|  GaussianNB   |  V.Simple  |    No   |  0.3173611  |     0.0268598     |\n",
    "|  GaussianNB   | V.Cruzada  |    No   |  0.6285416  |     0.0914832     |\n",
    "| MultinomialNB |  V.Simple  |  Si/No  |  0.3375000  |     0.0172076     |\n",
    "| MultinomialNB | V.Cruzada  |  Si/No  |  0.6045394  |     0.1085844     |\n",
    "| CategoricalNB |  V.Simple  |  Si/No  |  0.3368055  |     0.0221787     |\n",
    "| CategoricalNB | V.Cruzada  |  Si/No  |  0.6108442  |     0.1090512     |"
   ]
  },
  {
   "cell_type": "markdown",
   "metadata": {},
   "source": [
    "### Comparación de Resultados\n",
    "\n",
    "La codificacion utilizada en nuestro modelo es similar a labelEoncoder, es decir, se van asignando una secuencia de valores a cada atributo categorico. El problema, es que el modelo puede ver relaciones entre datos donde no las hay.\n",
    "\n",
    "Para evitar este sesgo es frecuente realizar una codificación binaria a través de la clase OneHotEncoder.\n",
    "Esta codificacion es muy util en el modelos de regresion lineal, pero no es nestro caso, y es por eso que los resultados obtenidos para cada clasificador, son muy similares a los anteriores."
   ]
  },
  {
   "cell_type": "markdown",
   "metadata": {},
   "source": [
    "# Apartado 3"
   ]
  },
  {
   "cell_type": "markdown",
   "metadata": {},
   "source": [
    "|   Dataset   | Estrategia | Laplace | Gaussian(mean) | Gaussian(std) |MultinomialNB(mean)|MultinomialNB(std)|CategoricalNB(mean)| CategoricalNB(std)| ClasificadorNB(mean) | ClasificadorNB(std)|\n",
    "|-------------|------------|---------|----------------|---------------|-------------------|------------------|-------------------|-------------------|----------------------|-------------------|\n",
    "| tic-tac-toe |  V.Simple  |    No   |   0.2958333    |   0.0123055   |   0.4104166       |   0.0217838      |   0.3236111       |   0.0341903       |  0.3076923           |     0.0119086     |\n",
    "| tic-tac-toe |  V.Simple  |    Si   |   0.2958333    |   0.0123055   |   0.4104166       |   0.0217838      |   0.3236111       |   0.0341903       |  0.3076923           |     0.0119086     |\n",
    "| tic-tac-toe | V.Cruzada  |    Si   |   0.6858662    |   0.0332495   |   0.5322587       |   0.0956273      |   0.6034978       |   0.1093299       |  0.5611702           |     0.2263288     |\n",
    "| tic-tac-toe | V.Cruzada  |    No   |   0.6858662    |   0.0332495   |   0.5322587       |   0.0956273      |   0.6034978       |   0.1093299       |  0.5611702           |     0.2263288     |\n",
    "|   german    |  V.Simple  |    No   |   0.2686666    |   0.0225487   |   0.3440000       |   0.0180616      |   ---------       |   ---------       |  0.2566433           |     0.0215084     |\n",
    "|   german    |  V.Simple  |    Si   |   0.2686666    |   0.0225487   |   0.3440000       |   0.0180616      |   ---------       |   ---------       |  0.2566433           |     0.0215084     |\n",
    "|   german    | V.Cruzada  |    No   |   0.7340000    |   0.0431740   |   0.6270000       |   0.0661891      |   ---------       |   ---------       |  0.2556515           |     0.0393679     |\n",
    "|   german    | V.Cruzada  |    Si   |   0.7340000    |   0.0431740   |   0.6270000       |   0.0661891      |   ---------       |   ---------       |  0.2556515           |     0.0393679     |"
   ]
  },
  {
   "cell_type": "markdown",
   "metadata": {},
   "source": [
    "### Analisis de los resultados\n",
    "\n",
    "Para el dataset de tic-tac-toe, cuando se realiza una validacion simple, los resultados obtenidos por cada clasificador son muy similares, destacando que el Multinomial da los peores resultados. Para la validacion cruzada, el Gaussian es el que peor prediccion realiza.\n",
    "\n",
    "En el caso del conjunto de datos german, la validacion simple la tendencia es muy similar, obteniendose errores parejos, y en la validacion cruzada, destacar que nuestro calsificador tiene una tasa de error muy baja en comparacion con el resto de clasificadores."
   ]
  },
  {
   "cell_type": "code",
   "execution_count": null,
   "metadata": {},
   "outputs": [],
   "source": []
  }
 ],
 "metadata": {
  "kernelspec": {
   "display_name": "Python 3 (ipykernel)",
   "language": "python",
   "name": "python3"
  },
  "language_info": {
   "codemirror_mode": {
    "name": "ipython",
    "version": 3
   },
   "file_extension": ".py",
   "mimetype": "text/x-python",
   "name": "python",
   "nbconvert_exporter": "python",
   "pygments_lexer": "ipython3",
   "version": "3.10.7"
  },
  "vscode": {
   "interpreter": {
    "hash": "946a0cf01342572bc9f6fe0b7b06226e03099b1e781d9982757128fc69dddf14"
   }
  }
 },
 "nbformat": 4,
 "nbformat_minor": 2
}
