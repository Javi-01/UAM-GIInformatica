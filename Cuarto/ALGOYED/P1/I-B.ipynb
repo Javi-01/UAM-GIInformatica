{
 "cells": [
  {
   "cell_type": "code",
   "execution_count": 1,
   "id": "a491f5d0",
   "metadata": {},
   "outputs": [],
   "source": [
    "from sklearn.linear_model import LinearRegression\n",
    "import numpy as np\n",
    "from typing import List, Callable\n",
    "import matplotlib.pyplot as plt\n"
   ]
  },
  {
   "cell_type": "code",
   "execution_count": 2,
   "id": "dbdff36d",
   "metadata": {},
   "outputs": [],
   "source": [
    "def rec_bb(t: List, f: int, l: int, key: int) -> int:\n",
    "    if f > l:\n",
    "        return None\n",
    "    if f == l:\n",
    "        if t[f] == key:\n",
    "            return f\n",
    "        else:\n",
    "            return None\n",
    "    m = (f + l)//2\n",
    "\n",
    "    if t[m] == key:\n",
    "        return m\n",
    "    elif t[m] > key:\n",
    "        rec_bb(t, f, m-1, key)\n",
    "    else:\n",
    "        rec_bb(t, m+1, l, key)\n"
   ]
  },
  {
   "cell_type": "code",
   "execution_count": 3,
   "id": "59135324",
   "metadata": {},
   "outputs": [],
   "source": [
    "def bb(t: List, f: int, l: int, key: int) -> int:\n",
    "    while f <= l:\n",
    "        m = (f + l)//2\n",
    "        if t[m] == key:\n",
    "            return m\n",
    "        elif t[m] > key:\n",
    "            l = m-1\n",
    "        else:\n",
    "            f = m+1\n",
    "    return None\n"
   ]
  },
  {
   "cell_type": "code",
   "execution_count": 19,
   "id": "0820669e",
   "metadata": {
    "scrolled": false
   },
   "outputs": [
    {
     "data": {
      "text/plain": [
       "[[5, 1.2540899842861109e-06],\n",
       " [12, 9.97890001599444e-07],\n",
       " [28, 1.2013200102956035e-06],\n",
       " [64, 1.658609999140026e-06],\n",
       " [144, 1.891470001282869e-06],\n",
       " [320, 2.2470899966720027e-06],\n",
       " [704, 2.3802599935152103e-06],\n",
       " [1536, 2.2901599913893734e-06],\n",
       " [3328, 2.42737998632947e-06],\n",
       " [7168, 2.6293199880456085e-06]]"
      ]
     },
     "execution_count": 19,
     "metadata": {},
     "output_type": "execute_result"
    }
   ],
   "source": [
    "# Tets recursive\n",
    "l_times = []\n",
    "for i, size in enumerate(range(5, 15)):\n",
    "    t = list(range(2**i * size))\n",
    "    key = t[-1]\n",
    "    timings = %timeit - n 100 - r 50 - o - q rec_bb(t, 0, len(t) - 1, key)\n",
    "    l_times.append([len(t), timings.best])\n",
    "    bb_rec_times = np.array(l_times)\n",
    "\n",
    "l_times\n"
   ]
  },
  {
   "cell_type": "code",
   "execution_count": 20,
   "id": "3817c508",
   "metadata": {
    "scrolled": true
   },
   "outputs": [
    {
     "data": {
      "text/plain": [
       "[[5, 6.412399852706585e-07],\n",
       " [12, 8.392299969273154e-07],\n",
       " [28, 1.0024599941971245e-06],\n",
       " [64, 1.2584599971887655e-06],\n",
       " [144, 1.39575999128283e-06],\n",
       " [320, 1.633989995752927e-06],\n",
       " [704, 1.776509998308029e-06],\n",
       " [1536, 1.8761799947242252e-06],\n",
       " [3328, 1.857089991972316e-06],\n",
       " [7168, 1.8188600006396882e-06]]"
      ]
     },
     "execution_count": 20,
     "metadata": {},
     "output_type": "execute_result"
    }
   ],
   "source": [
    "# Test iterative\n",
    "l_times = []\n",
    "for i, size in enumerate(range(5, 15)):\n",
    "    t = list(range(2**i * size))\n",
    "    key = t[-1]\n",
    "    timings = %timeit - n 100 - r 50 - o - q bb(t, 0, len(t) - 1, key)\n",
    "    l_times.append([len(t), timings.best])\n",
    "    bb_times = np.array(l_times)\n",
    "\n",
    "l_times\n"
   ]
  },
  {
   "cell_type": "markdown",
   "id": "e39a36b5",
   "metadata": {},
   "source": [
    "# Apartado 3"
   ]
  },
  {
   "cell_type": "code",
   "execution_count": 6,
   "id": "74c5f5c4",
   "metadata": {},
   "outputs": [],
   "source": [
    "def fit_func_2_times(timings: np.ndarray):\n",
    "    \"\"\"Ajusta linealmente los valores de la funcion func_2_fit a\n",
    "    los tiempos en timings.\n",
    "    Esto es, calculamos valores a, b para que la funcion a*f(dim) + b\n",
    "    se ajuste a los tiempos medidos.\n",
    "    \"\"\"\n",
    "    if len(timings.shape) == 1:\n",
    "        timings = timings.reshape(-1, 1)\n",
    "\n",
    "    values = func_2_fit(timings[:, 0]).reshape(-1, 1)\n",
    "\n",
    "    # normalizar timings\n",
    "    times = timings[:, 1] / timings[0, 1]\n",
    "\n",
    "    # ajustar a los valores en times un modelo lineal sobre los valores en values\n",
    "    lr_m = LinearRegression()\n",
    "    lr_m.fit(values, times)\n",
    "\n",
    "    return lr_m.predict(values)\n",
    "\n",
    "\n",
    "def func_2_fit(n):\n",
    "    return n\n"
   ]
  },
  {
   "cell_type": "code",
   "execution_count": 24,
   "id": "5bed2a07",
   "metadata": {
    "scrolled": true
   },
   "outputs": [
    {
     "data": {
      "image/png": "[encoded data removed]",
      "text/plain": [
       "<Figure size 640x480 with 1 Axes>"
      ]
     },
     "metadata": {},
     "output_type": "display_data"
    }
   ],
   "source": [
    "bb_predict = fit_func_2_times(bb_times)\n",
    "bb_rec_predict = fit_func_2_times(bb_rec_times)\n",
    "\n",
    "bb_eje_x = bb_times[:, 0]\n",
    "bb_eje_y = bb_times[:, 1] / bb_times[0, 1]\n",
    "\n",
    "bb_rec_eje_x = bb_rec_times[:, 0]\n",
    "bb_rec_eje_y = bb_rec_times[:, 1] / bb_rec_times[0, 1]\n",
    "\n",
    "\n",
    "plt.plot(bb_eje_x, bb_eje_y, color=\"black\")\n",
    "plt.plot(bb_rec_eje_x, bb_rec_eje_y, color=\"red\")\n",
    "\n",
    "plt.plot(bb_predict, color=\"blue\")\n",
    "plt.plot(bb_rec_predict, color=\"green\")\n",
    "\n",
    "plt.show()\n"
   ]
  }
 ],
 "metadata": {
  "kernelspec": {
   "display_name": "Python 3.10.4 64-bit",
   "language": "python",
   "name": "python3"
  },
  "language_info": {
   "codemirror_mode": {
    "name": "ipython",
    "version": 3
   },
   "file_extension": ".py",
   "mimetype": "text/x-python",
   "name": "python",
   "nbconvert_exporter": "python",
   "pygments_lexer": "ipython3",
   "version": "3.10.4"
  },
  "vscode": {
   "interpreter": {
    "hash": "916dbcbb3f70747c44a77c7bcd40155683ae19c65e1c03b4aa3499c5328201f1"
   }
  }
 },
 "nbformat": 4,
 "nbformat_minor": 5
}
