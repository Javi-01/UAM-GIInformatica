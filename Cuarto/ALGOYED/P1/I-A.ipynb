{
 "cells": [
  {
   "cell_type": "code",
   "execution_count": 8,
   "id": "84035fb2",
   "metadata": {},
   "outputs": [],
   "source": [
    "from sklearn.linear_model import LinearRegression\n",
    "import numpy as np\n",
    "from typing import List, Callable\n",
    "import matplotlib.pyplot as plt\n"
   ]
  },
  {
   "cell_type": "code",
   "execution_count": 20,
   "id": "de5404d5",
   "metadata": {},
   "outputs": [],
   "source": [
    "def matrix_multiplication(m_1: np.ndarray, m_2: np.ndarray) -> np.ndarray:\n",
    "    if m_1.shape[1] == m_2.shape[0]:\n",
    "        m_3 = np.zeros((m_1.shape[0], m_2.shape[1]), np.int32)\n",
    "        for fila in range(m_1.shape[0]):\n",
    "            for col in range(m_2.shape[1]):\n",
    "                for k in range(m_1.shape[1]):\n",
    "                    m_3[fila][col] += m_1[fila][k] * m_2[k][col]\n",
    "        return m_3\n",
    "    else:\n",
    "        return None\n"
   ]
  },
  {
   "cell_type": "code",
   "execution_count": 31,
   "id": "82bd6aa6",
   "metadata": {},
   "outputs": [],
   "source": [
    "l_timings = []\n",
    "for i in range(11):\n",
    "    dim = i\n",
    "    m = np.random.uniform(0., 1., (dim, dim))\n",
    "    timings = %timeit - o - n 10 - r 5 - q matrix_multiplication(m, m)\n",
    "    l_timings.append([dim, timings.best])\n"
   ]
  },
  {
   "cell_type": "code",
   "execution_count": 27,
   "id": "9ecb39c3",
   "metadata": {},
   "outputs": [],
   "source": [
    "timings = np.array(l_timings)\n"
   ]
  },
  {
   "cell_type": "code",
   "execution_count": 28,
   "id": "c66ad61a",
   "metadata": {},
   "outputs": [],
   "source": [
    "def fit_func_2_times(timings: np.ndarray, func_2_fit: Callable):\n",
    "    \"\"\"Ajusta linealmente los valores de la funcion func_2_fit a\n",
    "    los tiempos en timings.\n",
    "    Esto es, calculamos valores a, b para que la funcion a*f(dim) + b\n",
    "    se ajuste a los tiempos medidos.\n",
    "    \"\"\"\n",
    "    if len(timings.shape) == 1:\n",
    "        timings = timings.reshape(-1, 1)\n",
    "\n",
    "    values = func_2_fit(timings[:, 0]).reshape(-1, 1)\n",
    "\n",
    "    # normalizar timings\n",
    "    times = timings[:, 1] / timings[0, 1]\n",
    "\n",
    "    # ajustar a los valores en times un modelo lineal sobre los valores en values\n",
    "    lr_m = LinearRegression()\n",
    "    lr_m.fit(values, times)\n",
    "\n",
    "    return lr_m.predict(values)\n",
    "\n",
    "\n",
    "def func_2_fit(n):\n",
    "    return n**3\n"
   ]
  },
  {
   "cell_type": "code",
   "execution_count": 29,
   "id": "62415b23",
   "metadata": {},
   "outputs": [
    {
     "data": {
      "image/png": "[encoded data removed]",
      "text/plain": [
       "<Figure size 640x480 with 1 Axes>"
      ]
     },
     "metadata": {},
     "output_type": "display_data"
    }
   ],
   "source": [
    "predict = fit_func_2_times(timings, func_2_fit)\n",
    "eje_x = timings[:, 0]\n",
    "eje_y = timings[:, 1] / timings[0, 1]\n",
    "\n",
    "\n",
    "plt.scatter(eje_x, eje_y, color=\"black\")\n",
    "plt.plot(predict, color=\"blue\", linewidth=2)\n",
    "\n",
    "plt.show()\n"
   ]
  }
 ],
 "metadata": {
  "kernelspec": {
   "display_name": "Python 3.10.4 64-bit",
   "language": "python",
   "name": "python3"
  },
  "language_info": {
   "codemirror_mode": {
    "name": "ipython",
    "version": 3
   },
   "file_extension": ".py",
   "mimetype": "text/x-python",
   "name": "python",
   "nbconvert_exporter": "python",
   "pygments_lexer": "ipython3",
   "version": "3.10.4"
  },
  "vscode": {
   "interpreter": {
    "hash": "916dbcbb3f70747c44a77c7bcd40155683ae19c65e1c03b4aa3499c5328201f1"
   }
  }
 },
 "nbformat": 4,
 "nbformat_minor": 5
}
