{
 "cells": [
  {
   "cell_type": "code",
   "execution_count": null,
   "id": "c718f815",
   "metadata": {},
   "outputs": [],
   "source": [
    "from sklearn.linear_model import LinearRegression\n",
    "import numpy as np\n",
    "from typing import List, Callable\n",
    "import matplotlib.pyplot as plt\n"
   ]
  },
  {
   "cell_type": "code",
   "execution_count": 4,
   "id": "2ef9c0fe",
   "metadata": {},
   "outputs": [],
   "source": [
    "def matrix_multiplication(m_1: np.ndarray, m_2: np.ndarray) -> np.ndarray:\n",
    "    if m_1.shape[1] == m_2.shape[0]:\n",
    "        m_3 = np.zeros((m_1.shape[0], m_2.shape[1]), np.int32)\n",
    "        for fila in range(m_1.shape[0]):\n",
    "            for col in range(m_2.shape[1]):\n",
    "                for k in range(m_1.shape[1]):\n",
    "                    m_3[fila][col] += m_1[fila][k] * m_2[k][col]\n",
    "        return m_3\n",
    "    else:\n",
    "        return None\n"
   ]
  },
  {
   "cell_type": "markdown",
   "id": "28bd02da",
   "metadata": {},
   "source": [
    "# APARTADO 2"
   ]
  },
  {
   "cell_type": "code",
   "execution_count": 2,
   "id": "c92cd99e",
   "metadata": {},
   "outputs": [],
   "source": [
    "l_timings = []\n",
    "for i in range(11):\n",
    "    dim = i\n",
    "    m = np.random.uniform(0., 1., (dim, dim))\n",
    "    timings = %timeit - o - n 10 - r 5 - q np.dot(m, m)\n",
    "    l_timings.append([dim, timings.best])\n"
   ]
  },
  {
   "cell_type": "code",
   "execution_count": 3,
   "id": "97b3da31",
   "metadata": {},
   "outputs": [],
   "source": [
    "dot_timings = np.array(l_timings)\n"
   ]
  },
  {
   "cell_type": "code",
   "execution_count": 5,
   "id": "7e7b42d8",
   "metadata": {},
   "outputs": [],
   "source": [
    "l_timings = []\n",
    "for i in range(11):\n",
    "    dim = i\n",
    "    m = np.random.uniform(0., 1., (dim, dim))\n",
    "    timings = %timeit - o - n 10 - r 5 - q matrix_multiplication(m, m)\n",
    "    l_timings.append([dim, timings.best])\n"
   ]
  },
  {
   "cell_type": "code",
   "execution_count": 6,
   "id": "eb6bf0d2",
   "metadata": {},
   "outputs": [],
   "source": [
    "multiply_timings = np.array(l_timings)\n"
   ]
  },
  {
   "cell_type": "code",
   "execution_count": 7,
   "id": "709363fa",
   "metadata": {},
   "outputs": [],
   "source": [
    "def fit_func_2_times(timings: np.ndarray):\n",
    "    \"\"\"Ajusta linealmente los valores de la funcion func_2_fit a\n",
    "    los tiempos en timings.\n",
    "    Esto es, calculamos valores a, b para que la funcion a*f(dim) + b\n",
    "    se ajuste a los tiempos medidos.\n",
    "    \"\"\"\n",
    "    if len(timings.shape) == 1:\n",
    "        timings = timings.reshape(-1, 1)\n",
    "\n",
    "    values = func_2_fit(timings[:, 0]).reshape(-1, 1)\n",
    "\n",
    "    # normalizar timings\n",
    "    times = timings[:, 1] / timings[0, 1]\n",
    "\n",
    "    # ajustar a los valores en times un modelo lineal sobre los valores en values\n",
    "    lr_m = LinearRegression()\n",
    "    lr_m.fit(values, times)\n",
    "\n",
    "    return lr_m.predict(values)\n",
    "\n",
    "\n",
    "def func_2_fit(n):\n",
    "    return n ** 3\n"
   ]
  },
  {
   "cell_type": "code",
   "execution_count": 11,
   "id": "0fd10b1e",
   "metadata": {},
   "outputs": [
    {
     "data": {
      "image/png": "[encoded data removed]",
      "text/plain": [
       "<Figure size 640x480 with 1 Axes>"
      ]
     },
     "metadata": {},
     "output_type": "display_data"
    }
   ],
   "source": [
    "dot_predict = fit_func_2_times(dot_timings)\n",
    "multiply_predict = fit_func_2_times(multiply_timings)\n",
    "\n",
    "dot_eje_x = dot_timings[:, 0]\n",
    "dot_eje_y = dot_timings[:, 1] / dot_timings[0, 1]\n",
    "\n",
    "mul_eje_x = multiply_timings[:, 0]\n",
    "mul_eje_y = multiply_timings[:, 1] / multiply_timings[0, 1]\n",
    "\n",
    "\n",
    "plt.scatter(mul_eje_x, mul_eje_y, color=\"black\")\n",
    "plt.scatter(dot_eje_x, dot_eje_y, color=\"red\")\n",
    "\n",
    "plt.plot(dot_predict, color=\"blue\")\n",
    "plt.plot(multiply_predict, color=\"green\")\n",
    "\n",
    "plt.show()\n"
   ]
  },
  {
   "cell_type": "markdown",
   "id": "bf7a325d",
   "metadata": {},
   "source": [
    "# APARTADO 3"
   ]
  },
  {
   "cell_type": "code",
   "execution_count": null,
   "id": "e4471b9f",
   "metadata": {},
   "outputs": [],
   "source": []
  }
 ],
 "metadata": {
  "kernelspec": {
   "display_name": "Python 3.10.4 64-bit",
   "language": "python",
   "name": "python3"
  },
  "language_info": {
   "codemirror_mode": {
    "name": "ipython",
    "version": 3
   },
   "file_extension": ".py",
   "mimetype": "text/x-python",
   "name": "python",
   "nbconvert_exporter": "python",
   "pygments_lexer": "ipython3",
   "version": "3.10.4"
  },
  "vscode": {
   "interpreter": {
    "hash": "916dbcbb3f70747c44a77c7bcd40155683ae19c65e1c03b4aa3499c5328201f1"
   }
  }
 },
 "nbformat": 4,
 "nbformat_minor": 5
}
