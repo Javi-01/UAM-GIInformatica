{
 "cells": [
  {
   "cell_type": "code",
   "execution_count": 3,
   "metadata": {},
   "outputs": [],
   "source": [
    "import numpy as np\n"
   ]
  },
  {
   "cell_type": "code",
   "execution_count": 4,
   "metadata": {},
   "outputs": [],
   "source": [
    "def min_heapify(h: np.ndarray, i: int):\n",
    "    while 2*i+1 < len(h):\n",
    "        n_i = i\n",
    "        if h[i] > h[2*i+1]:\n",
    "            n_i = 2*i+1\n",
    "        if 2*i+2 < len(h) and h[i] > h[2*i+2] and h[2*i+2] < h[n_i]:\n",
    "            n_i = 2*i+2\n",
    "        if n_i > i:\n",
    "            h[i], h[n_i] = h[n_i], h[i]\n",
    "            i = n_i\n",
    "        else:\n",
    "            return\n"
   ]
  },
  {
   "cell_type": "code",
   "execution_count": 10,
   "metadata": {},
   "outputs": [],
   "source": [
    "def insert_min_heap(h: np.ndarray, k: int) -> np.ndarray:\n",
    "    if h is None:\n",
    "        return np.array([k])\n",
    "    else:\n",
    "        heapify = np.concatenate((h, [k]), axis=None)\n",
    "        j = len(heapify) - 1\n",
    "\n",
    "        while j >= 1 and heapify[(j-1) // 2] > heapify[j]:\n",
    "            heapify[(j-1) // 2], heapify[j] = heapify[j], heapify[(j-1) // 2]\n",
    "            j = (j-1) // 2\n",
    "\n",
    "        return heapify\n"
   ]
  },
  {
   "cell_type": "code",
   "execution_count": 6,
   "metadata": {},
   "outputs": [],
   "source": [
    "def pq_init():\n",
    "    return np.array([])"
   ]
  },
  {
   "cell_type": "code",
   "execution_count": 7,
   "metadata": {},
   "outputs": [],
   "source": [
    "def pq_insert(h: np.ndarray, k: int)-> np.ndarray:\n",
    "    return insert_min_heap(h, k)\n"
   ]
  },
  {
   "cell_type": "code",
   "execution_count": 8,
   "metadata": {},
   "outputs": [],
   "source": [
    "def pq_remove(h: np.ndarray) -> np.ndarray:\n",
    "\n",
    "    # Intercambiamos el ultimo a la raiz\n",
    "    h[len(h) - 1], h[0] = h[0], h[len(h) - 1]\n",
    "\n",
    "    # Eliminamos el elemento de menor prioridad (raiz)\n",
    "    h = np.delete(len(h) - 1, 0, axis=None)\n",
    "\n",
    "    # Aplicamos heapify desde la raiz\n",
    "    min_heapify(h, 0)\n",
    "\n",
    "    return h\n"
   ]
  },
  {
   "cell_type": "code",
   "execution_count": 16,
   "metadata": {},
   "outputs": [
    {
     "name": "stdout",
     "output_type": "stream",
     "text": [
      "[4. 2. 6. 1.]\n"
     ]
    }
   ],
   "source": [
    "a = pq_init()\n",
    "b = np.array([])\n",
    "b = pq_insert(b, 4)\n",
    "b = pq_insert(b, 2)\n",
    "b = pq_insert(b, 6)\n",
    "b = pq_insert(b, 1)\n",
    "j = pq_remove(b)\n",
    "print(b)"
   ]
  }
 ],
 "metadata": {
  "kernelspec": {
   "display_name": "Python 3.10.4 64-bit",
   "language": "python",
   "name": "python3"
  },
  "language_info": {
   "codemirror_mode": {
    "name": "ipython",
    "version": 3
   },
   "file_extension": ".py",
   "mimetype": "text/x-python",
   "name": "python",
   "nbconvert_exporter": "python",
   "pygments_lexer": "ipython3",
   "version": "3.10.4"
  },
  "orig_nbformat": 4,
  "vscode": {
   "interpreter": {
    "hash": "916dbcbb3f70747c44a77c7bcd40155683ae19c65e1c03b4aa3499c5328201f1"
   }
  }
 },
 "nbformat": 4,
 "nbformat_minor": 2
}
