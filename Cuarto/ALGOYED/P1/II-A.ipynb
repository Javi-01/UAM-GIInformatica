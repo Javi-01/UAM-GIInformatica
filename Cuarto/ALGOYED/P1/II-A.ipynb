{
 "cells": [
  {
   "cell_type": "code",
   "execution_count": 2,
   "id": "547fc5cc",
   "metadata": {},
   "outputs": [],
   "source": [
    "import numpy as np\n"
   ]
  },
  {
   "cell_type": "code",
   "execution_count": 3,
   "id": "2bae7d67",
   "metadata": {},
   "outputs": [],
   "source": [
    "def min_heapify(h: np.ndarray, i: int):\n",
    "    while 2*i+1 < len(h):\n",
    "        n_i = i\n",
    "        if h[i] > h[2*i+1]:\n",
    "            n_i = 2*i+1\n",
    "        if 2*i+2 < len(h) and h[i] > h[2*i+2] and h[2*i+2] < h[n_i]:\n",
    "            n_i = 2*i+2\n",
    "        if n_i > i:\n",
    "            h[i], h[n_i] = h[n_i], h[i]\n",
    "            i = n_i\n",
    "        else:\n",
    "            return\n"
   ]
  },
  {
   "cell_type": "code",
   "execution_count": 4,
   "id": "e66efd57",
   "metadata": {},
   "outputs": [],
   "source": [
    "def insert_min_heap(h: np.ndarray, k: int) -> np.ndarray:\n",
    "    heapify = np.concatenate((h, [k]), axis=None)\n",
    "    j = len(heapify) - 1\n",
    "\n",
    "    while j >= 1 and heapify[(j-1) // 2] > heapify[j]:\n",
    "        heapify[(j-1) // 2], heapify[j] = heapify[j], heapify[(j-1) // 2]\n",
    "        j = (j-1) // 2\n",
    "\n",
    "    return heapify\n"
   ]
  },
  {
   "cell_type": "code",
   "execution_count": 5,
   "id": "4644cba0",
   "metadata": {},
   "outputs": [],
   "source": [
    "def create_min_heap(h: np.ndarray):\n",
    "    # Calculamos la mitad del árbol para no contar las hojas\n",
    "    i = (len(h) - 1) // 2\n",
    "\n",
    "    # Desde la mitad a la raiz comprobamos que se cumpla la condicion de min heap\n",
    "    while i >= 0:\n",
    "        min_heapify(h, i)\n",
    "        i -= 1\n"
   ]
  },
  {
   "cell_type": "code",
   "execution_count": 6,
   "id": "5d893395",
   "metadata": {},
   "outputs": [
    {
     "name": "stdout",
     "output_type": "stream",
     "text": [
      "[0 3 1 6 5 2]\n"
     ]
    }
   ],
   "source": [
    "l = np.array([3, 6, 2, 0, 5, 1])\n",
    "create_min_heap(l)\n",
    "print(l)\n"
   ]
  }
 ],
 "metadata": {
  "kernelspec": {
   "display_name": "Python 3.10.4 64-bit",
   "language": "python",
   "name": "python3"
  },
  "language_info": {
   "codemirror_mode": {
    "name": "ipython",
    "version": 3
   },
   "file_extension": ".py",
   "mimetype": "text/x-python",
   "name": "python",
   "nbconvert_exporter": "python",
   "pygments_lexer": "ipython3",
   "version": "3.10.4"
  },
  "vscode": {
   "interpreter": {
    "hash": "916dbcbb3f70747c44a77c7bcd40155683ae19c65e1c03b4aa3499c5328201f1"
   }
  }
 },
 "nbformat": 4,
 "nbformat_minor": 5
}
